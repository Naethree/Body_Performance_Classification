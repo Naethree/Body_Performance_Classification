{
  "cells": [
    {
      "cell_type": "code",
      "execution_count": 185,
      "metadata": {
        "id": "G_fYdCzt8tZF"
      },
      "outputs": [],
      "source": [
        "import warnings\n",
        "warnings.filterwarnings('ignore')"
      ]
    },
    {
      "cell_type": "code",
      "execution_count": 186,
      "metadata": {
        "id": "VqNzpuH9-IgC"
      },
      "outputs": [],
      "source": [
        "import pandas as pd\n",
        "import numpy as np\n",
        "import matplotlib.pyplot as plt\n",
        "import seaborn as sns\n",
        "from sklearn.model_selection import train_test_split"
      ]
    },
    {
      "cell_type": "code",
      "execution_count": 187,
      "metadata": {
        "colab": {
          "base_uri": "https://localhost:8080/",
          "height": 262
        },
        "id": "BE9eLWjH8xVL",
        "outputId": "4ff94ddb-1677-4cd7-a611-8bd9493a166c"
      },
      "outputs": [
        {
          "output_type": "display_data",
          "data": {
            "text/plain": [
              "<IPython.core.display.HTML object>"
            ],
            "text/html": [
              "\n",
              "     <input type=\"file\" id=\"files-17de3035-65d6-441d-908b-2d7d9289e7ca\" name=\"files[]\" multiple disabled\n",
              "        style=\"border:none\" />\n",
              "     <output id=\"result-17de3035-65d6-441d-908b-2d7d9289e7ca\">\n",
              "      Upload widget is only available when the cell has been executed in the\n",
              "      current browser session. Please rerun this cell to enable.\n",
              "      </output>\n",
              "      <script>// Copyright 2017 Google LLC\n",
              "//\n",
              "// Licensed under the Apache License, Version 2.0 (the \"License\");\n",
              "// you may not use this file except in compliance with the License.\n",
              "// You may obtain a copy of the License at\n",
              "//\n",
              "//      http://www.apache.org/licenses/LICENSE-2.0\n",
              "//\n",
              "// Unless required by applicable law or agreed to in writing, software\n",
              "// distributed under the License is distributed on an \"AS IS\" BASIS,\n",
              "// WITHOUT WARRANTIES OR CONDITIONS OF ANY KIND, either express or implied.\n",
              "// See the License for the specific language governing permissions and\n",
              "// limitations under the License.\n",
              "\n",
              "/**\n",
              " * @fileoverview Helpers for google.colab Python module.\n",
              " */\n",
              "(function(scope) {\n",
              "function span(text, styleAttributes = {}) {\n",
              "  const element = document.createElement('span');\n",
              "  element.textContent = text;\n",
              "  for (const key of Object.keys(styleAttributes)) {\n",
              "    element.style[key] = styleAttributes[key];\n",
              "  }\n",
              "  return element;\n",
              "}\n",
              "\n",
              "// Max number of bytes which will be uploaded at a time.\n",
              "const MAX_PAYLOAD_SIZE = 100 * 1024;\n",
              "\n",
              "function _uploadFiles(inputId, outputId) {\n",
              "  const steps = uploadFilesStep(inputId, outputId);\n",
              "  const outputElement = document.getElementById(outputId);\n",
              "  // Cache steps on the outputElement to make it available for the next call\n",
              "  // to uploadFilesContinue from Python.\n",
              "  outputElement.steps = steps;\n",
              "\n",
              "  return _uploadFilesContinue(outputId);\n",
              "}\n",
              "\n",
              "// This is roughly an async generator (not supported in the browser yet),\n",
              "// where there are multiple asynchronous steps and the Python side is going\n",
              "// to poll for completion of each step.\n",
              "// This uses a Promise to block the python side on completion of each step,\n",
              "// then passes the result of the previous step as the input to the next step.\n",
              "function _uploadFilesContinue(outputId) {\n",
              "  const outputElement = document.getElementById(outputId);\n",
              "  const steps = outputElement.steps;\n",
              "\n",
              "  const next = steps.next(outputElement.lastPromiseValue);\n",
              "  return Promise.resolve(next.value.promise).then((value) => {\n",
              "    // Cache the last promise value to make it available to the next\n",
              "    // step of the generator.\n",
              "    outputElement.lastPromiseValue = value;\n",
              "    return next.value.response;\n",
              "  });\n",
              "}\n",
              "\n",
              "/**\n",
              " * Generator function which is called between each async step of the upload\n",
              " * process.\n",
              " * @param {string} inputId Element ID of the input file picker element.\n",
              " * @param {string} outputId Element ID of the output display.\n",
              " * @return {!Iterable<!Object>} Iterable of next steps.\n",
              " */\n",
              "function* uploadFilesStep(inputId, outputId) {\n",
              "  const inputElement = document.getElementById(inputId);\n",
              "  inputElement.disabled = false;\n",
              "\n",
              "  const outputElement = document.getElementById(outputId);\n",
              "  outputElement.innerHTML = '';\n",
              "\n",
              "  const pickedPromise = new Promise((resolve) => {\n",
              "    inputElement.addEventListener('change', (e) => {\n",
              "      resolve(e.target.files);\n",
              "    });\n",
              "  });\n",
              "\n",
              "  const cancel = document.createElement('button');\n",
              "  inputElement.parentElement.appendChild(cancel);\n",
              "  cancel.textContent = 'Cancel upload';\n",
              "  const cancelPromise = new Promise((resolve) => {\n",
              "    cancel.onclick = () => {\n",
              "      resolve(null);\n",
              "    };\n",
              "  });\n",
              "\n",
              "  // Wait for the user to pick the files.\n",
              "  const files = yield {\n",
              "    promise: Promise.race([pickedPromise, cancelPromise]),\n",
              "    response: {\n",
              "      action: 'starting',\n",
              "    }\n",
              "  };\n",
              "\n",
              "  cancel.remove();\n",
              "\n",
              "  // Disable the input element since further picks are not allowed.\n",
              "  inputElement.disabled = true;\n",
              "\n",
              "  if (!files) {\n",
              "    return {\n",
              "      response: {\n",
              "        action: 'complete',\n",
              "      }\n",
              "    };\n",
              "  }\n",
              "\n",
              "  for (const file of files) {\n",
              "    const li = document.createElement('li');\n",
              "    li.append(span(file.name, {fontWeight: 'bold'}));\n",
              "    li.append(span(\n",
              "        `(${file.type || 'n/a'}) - ${file.size} bytes, ` +\n",
              "        `last modified: ${\n",
              "            file.lastModifiedDate ? file.lastModifiedDate.toLocaleDateString() :\n",
              "                                    'n/a'} - `));\n",
              "    const percent = span('0% done');\n",
              "    li.appendChild(percent);\n",
              "\n",
              "    outputElement.appendChild(li);\n",
              "\n",
              "    const fileDataPromise = new Promise((resolve) => {\n",
              "      const reader = new FileReader();\n",
              "      reader.onload = (e) => {\n",
              "        resolve(e.target.result);\n",
              "      };\n",
              "      reader.readAsArrayBuffer(file);\n",
              "    });\n",
              "    // Wait for the data to be ready.\n",
              "    let fileData = yield {\n",
              "      promise: fileDataPromise,\n",
              "      response: {\n",
              "        action: 'continue',\n",
              "      }\n",
              "    };\n",
              "\n",
              "    // Use a chunked sending to avoid message size limits. See b/62115660.\n",
              "    let position = 0;\n",
              "    do {\n",
              "      const length = Math.min(fileData.byteLength - position, MAX_PAYLOAD_SIZE);\n",
              "      const chunk = new Uint8Array(fileData, position, length);\n",
              "      position += length;\n",
              "\n",
              "      const base64 = btoa(String.fromCharCode.apply(null, chunk));\n",
              "      yield {\n",
              "        response: {\n",
              "          action: 'append',\n",
              "          file: file.name,\n",
              "          data: base64,\n",
              "        },\n",
              "      };\n",
              "\n",
              "      let percentDone = fileData.byteLength === 0 ?\n",
              "          100 :\n",
              "          Math.round((position / fileData.byteLength) * 100);\n",
              "      percent.textContent = `${percentDone}% done`;\n",
              "\n",
              "    } while (position < fileData.byteLength);\n",
              "  }\n",
              "\n",
              "  // All done.\n",
              "  yield {\n",
              "    response: {\n",
              "      action: 'complete',\n",
              "    }\n",
              "  };\n",
              "}\n",
              "\n",
              "scope.google = scope.google || {};\n",
              "scope.google.colab = scope.google.colab || {};\n",
              "scope.google.colab._files = {\n",
              "  _uploadFiles,\n",
              "  _uploadFilesContinue,\n",
              "};\n",
              "})(self);\n",
              "</script> "
            ]
          },
          "metadata": {}
        },
        {
          "output_type": "stream",
          "name": "stdout",
          "text": [
            "Saving bodyPerformance.csv to bodyPerformance (3).csv\n"
          ]
        },
        {
          "output_type": "execute_result",
          "data": {
            "text/plain": [
              "    age gender  height_cm  weight_kg  body fat_%  diastolic  systolic  \\\n",
              "0  27.0      M      172.3      75.24        21.3       80.0     130.0   \n",
              "1  25.0      M      165.0      55.80        15.7       77.0     126.0   \n",
              "2  31.0      M      179.6      78.00        20.1       92.0     152.0   \n",
              "3  32.0      M      174.5      71.10        18.4       76.0     147.0   \n",
              "4  28.0      M      173.8      67.70        17.1       70.0     127.0   \n",
              "\n",
              "   gripForce  sit and bend forward_cm  sit-ups counts  broad jump_cm class  \n",
              "0       54.9                     18.4            60.0          217.0     C  \n",
              "1       36.4                     16.3            53.0          229.0     A  \n",
              "2       44.8                     12.0            49.0          181.0     C  \n",
              "3       41.4                     15.2            53.0          219.0     B  \n",
              "4       43.5                     27.1            45.0          217.0     B  "
            ],
            "text/html": [
              "\n",
              "  <div id=\"df-0735866f-b04c-4234-afd5-dc0c3af7b5d8\" class=\"colab-df-container\">\n",
              "    <div>\n",
              "<style scoped>\n",
              "    .dataframe tbody tr th:only-of-type {\n",
              "        vertical-align: middle;\n",
              "    }\n",
              "\n",
              "    .dataframe tbody tr th {\n",
              "        vertical-align: top;\n",
              "    }\n",
              "\n",
              "    .dataframe thead th {\n",
              "        text-align: right;\n",
              "    }\n",
              "</style>\n",
              "<table border=\"1\" class=\"dataframe\">\n",
              "  <thead>\n",
              "    <tr style=\"text-align: right;\">\n",
              "      <th></th>\n",
              "      <th>age</th>\n",
              "      <th>gender</th>\n",
              "      <th>height_cm</th>\n",
              "      <th>weight_kg</th>\n",
              "      <th>body fat_%</th>\n",
              "      <th>diastolic</th>\n",
              "      <th>systolic</th>\n",
              "      <th>gripForce</th>\n",
              "      <th>sit and bend forward_cm</th>\n",
              "      <th>sit-ups counts</th>\n",
              "      <th>broad jump_cm</th>\n",
              "      <th>class</th>\n",
              "    </tr>\n",
              "  </thead>\n",
              "  <tbody>\n",
              "    <tr>\n",
              "      <th>0</th>\n",
              "      <td>27.0</td>\n",
              "      <td>M</td>\n",
              "      <td>172.3</td>\n",
              "      <td>75.24</td>\n",
              "      <td>21.3</td>\n",
              "      <td>80.0</td>\n",
              "      <td>130.0</td>\n",
              "      <td>54.9</td>\n",
              "      <td>18.4</td>\n",
              "      <td>60.0</td>\n",
              "      <td>217.0</td>\n",
              "      <td>C</td>\n",
              "    </tr>\n",
              "    <tr>\n",
              "      <th>1</th>\n",
              "      <td>25.0</td>\n",
              "      <td>M</td>\n",
              "      <td>165.0</td>\n",
              "      <td>55.80</td>\n",
              "      <td>15.7</td>\n",
              "      <td>77.0</td>\n",
              "      <td>126.0</td>\n",
              "      <td>36.4</td>\n",
              "      <td>16.3</td>\n",
              "      <td>53.0</td>\n",
              "      <td>229.0</td>\n",
              "      <td>A</td>\n",
              "    </tr>\n",
              "    <tr>\n",
              "      <th>2</th>\n",
              "      <td>31.0</td>\n",
              "      <td>M</td>\n",
              "      <td>179.6</td>\n",
              "      <td>78.00</td>\n",
              "      <td>20.1</td>\n",
              "      <td>92.0</td>\n",
              "      <td>152.0</td>\n",
              "      <td>44.8</td>\n",
              "      <td>12.0</td>\n",
              "      <td>49.0</td>\n",
              "      <td>181.0</td>\n",
              "      <td>C</td>\n",
              "    </tr>\n",
              "    <tr>\n",
              "      <th>3</th>\n",
              "      <td>32.0</td>\n",
              "      <td>M</td>\n",
              "      <td>174.5</td>\n",
              "      <td>71.10</td>\n",
              "      <td>18.4</td>\n",
              "      <td>76.0</td>\n",
              "      <td>147.0</td>\n",
              "      <td>41.4</td>\n",
              "      <td>15.2</td>\n",
              "      <td>53.0</td>\n",
              "      <td>219.0</td>\n",
              "      <td>B</td>\n",
              "    </tr>\n",
              "    <tr>\n",
              "      <th>4</th>\n",
              "      <td>28.0</td>\n",
              "      <td>M</td>\n",
              "      <td>173.8</td>\n",
              "      <td>67.70</td>\n",
              "      <td>17.1</td>\n",
              "      <td>70.0</td>\n",
              "      <td>127.0</td>\n",
              "      <td>43.5</td>\n",
              "      <td>27.1</td>\n",
              "      <td>45.0</td>\n",
              "      <td>217.0</td>\n",
              "      <td>B</td>\n",
              "    </tr>\n",
              "  </tbody>\n",
              "</table>\n",
              "</div>\n",
              "    <div class=\"colab-df-buttons\">\n",
              "\n",
              "  <div class=\"colab-df-container\">\n",
              "    <button class=\"colab-df-convert\" onclick=\"convertToInteractive('df-0735866f-b04c-4234-afd5-dc0c3af7b5d8')\"\n",
              "            title=\"Convert this dataframe to an interactive table.\"\n",
              "            style=\"display:none;\">\n",
              "\n",
              "  <svg xmlns=\"http://www.w3.org/2000/svg\" height=\"24px\" viewBox=\"0 -960 960 960\">\n",
              "    <path d=\"M120-120v-720h720v720H120Zm60-500h600v-160H180v160Zm220 220h160v-160H400v160Zm0 220h160v-160H400v160ZM180-400h160v-160H180v160Zm440 0h160v-160H620v160ZM180-180h160v-160H180v160Zm440 0h160v-160H620v160Z\"/>\n",
              "  </svg>\n",
              "    </button>\n",
              "\n",
              "  <style>\n",
              "    .colab-df-container {\n",
              "      display:flex;\n",
              "      gap: 12px;\n",
              "    }\n",
              "\n",
              "    .colab-df-convert {\n",
              "      background-color: #E8F0FE;\n",
              "      border: none;\n",
              "      border-radius: 50%;\n",
              "      cursor: pointer;\n",
              "      display: none;\n",
              "      fill: #1967D2;\n",
              "      height: 32px;\n",
              "      padding: 0 0 0 0;\n",
              "      width: 32px;\n",
              "    }\n",
              "\n",
              "    .colab-df-convert:hover {\n",
              "      background-color: #E2EBFA;\n",
              "      box-shadow: 0px 1px 2px rgba(60, 64, 67, 0.3), 0px 1px 3px 1px rgba(60, 64, 67, 0.15);\n",
              "      fill: #174EA6;\n",
              "    }\n",
              "\n",
              "    .colab-df-buttons div {\n",
              "      margin-bottom: 4px;\n",
              "    }\n",
              "\n",
              "    [theme=dark] .colab-df-convert {\n",
              "      background-color: #3B4455;\n",
              "      fill: #D2E3FC;\n",
              "    }\n",
              "\n",
              "    [theme=dark] .colab-df-convert:hover {\n",
              "      background-color: #434B5C;\n",
              "      box-shadow: 0px 1px 3px 1px rgba(0, 0, 0, 0.15);\n",
              "      filter: drop-shadow(0px 1px 2px rgba(0, 0, 0, 0.3));\n",
              "      fill: #FFFFFF;\n",
              "    }\n",
              "  </style>\n",
              "\n",
              "    <script>\n",
              "      const buttonEl =\n",
              "        document.querySelector('#df-0735866f-b04c-4234-afd5-dc0c3af7b5d8 button.colab-df-convert');\n",
              "      buttonEl.style.display =\n",
              "        google.colab.kernel.accessAllowed ? 'block' : 'none';\n",
              "\n",
              "      async function convertToInteractive(key) {\n",
              "        const element = document.querySelector('#df-0735866f-b04c-4234-afd5-dc0c3af7b5d8');\n",
              "        const dataTable =\n",
              "          await google.colab.kernel.invokeFunction('convertToInteractive',\n",
              "                                                    [key], {});\n",
              "        if (!dataTable) return;\n",
              "\n",
              "        const docLinkHtml = 'Like what you see? Visit the ' +\n",
              "          '<a target=\"_blank\" href=https://colab.research.google.com/notebooks/data_table.ipynb>data table notebook</a>'\n",
              "          + ' to learn more about interactive tables.';\n",
              "        element.innerHTML = '';\n",
              "        dataTable['output_type'] = 'display_data';\n",
              "        await google.colab.output.renderOutput(dataTable, element);\n",
              "        const docLink = document.createElement('div');\n",
              "        docLink.innerHTML = docLinkHtml;\n",
              "        element.appendChild(docLink);\n",
              "      }\n",
              "    </script>\n",
              "  </div>\n",
              "\n",
              "\n",
              "<div id=\"df-df060a76-97b4-47d4-8059-769341ced324\">\n",
              "  <button class=\"colab-df-quickchart\" onclick=\"quickchart('df-df060a76-97b4-47d4-8059-769341ced324')\"\n",
              "            title=\"Suggest charts\"\n",
              "            style=\"display:none;\">\n",
              "\n",
              "<svg xmlns=\"http://www.w3.org/2000/svg\" height=\"24px\"viewBox=\"0 0 24 24\"\n",
              "     width=\"24px\">\n",
              "    <g>\n",
              "        <path d=\"M19 3H5c-1.1 0-2 .9-2 2v14c0 1.1.9 2 2 2h14c1.1 0 2-.9 2-2V5c0-1.1-.9-2-2-2zM9 17H7v-7h2v7zm4 0h-2V7h2v10zm4 0h-2v-4h2v4z\"/>\n",
              "    </g>\n",
              "</svg>\n",
              "  </button>\n",
              "\n",
              "<style>\n",
              "  .colab-df-quickchart {\n",
              "      --bg-color: #E8F0FE;\n",
              "      --fill-color: #1967D2;\n",
              "      --hover-bg-color: #E2EBFA;\n",
              "      --hover-fill-color: #174EA6;\n",
              "      --disabled-fill-color: #AAA;\n",
              "      --disabled-bg-color: #DDD;\n",
              "  }\n",
              "\n",
              "  [theme=dark] .colab-df-quickchart {\n",
              "      --bg-color: #3B4455;\n",
              "      --fill-color: #D2E3FC;\n",
              "      --hover-bg-color: #434B5C;\n",
              "      --hover-fill-color: #FFFFFF;\n",
              "      --disabled-bg-color: #3B4455;\n",
              "      --disabled-fill-color: #666;\n",
              "  }\n",
              "\n",
              "  .colab-df-quickchart {\n",
              "    background-color: var(--bg-color);\n",
              "    border: none;\n",
              "    border-radius: 50%;\n",
              "    cursor: pointer;\n",
              "    display: none;\n",
              "    fill: var(--fill-color);\n",
              "    height: 32px;\n",
              "    padding: 0;\n",
              "    width: 32px;\n",
              "  }\n",
              "\n",
              "  .colab-df-quickchart:hover {\n",
              "    background-color: var(--hover-bg-color);\n",
              "    box-shadow: 0 1px 2px rgba(60, 64, 67, 0.3), 0 1px 3px 1px rgba(60, 64, 67, 0.15);\n",
              "    fill: var(--button-hover-fill-color);\n",
              "  }\n",
              "\n",
              "  .colab-df-quickchart-complete:disabled,\n",
              "  .colab-df-quickchart-complete:disabled:hover {\n",
              "    background-color: var(--disabled-bg-color);\n",
              "    fill: var(--disabled-fill-color);\n",
              "    box-shadow: none;\n",
              "  }\n",
              "\n",
              "  .colab-df-spinner {\n",
              "    border: 2px solid var(--fill-color);\n",
              "    border-color: transparent;\n",
              "    border-bottom-color: var(--fill-color);\n",
              "    animation:\n",
              "      spin 1s steps(1) infinite;\n",
              "  }\n",
              "\n",
              "  @keyframes spin {\n",
              "    0% {\n",
              "      border-color: transparent;\n",
              "      border-bottom-color: var(--fill-color);\n",
              "      border-left-color: var(--fill-color);\n",
              "    }\n",
              "    20% {\n",
              "      border-color: transparent;\n",
              "      border-left-color: var(--fill-color);\n",
              "      border-top-color: var(--fill-color);\n",
              "    }\n",
              "    30% {\n",
              "      border-color: transparent;\n",
              "      border-left-color: var(--fill-color);\n",
              "      border-top-color: var(--fill-color);\n",
              "      border-right-color: var(--fill-color);\n",
              "    }\n",
              "    40% {\n",
              "      border-color: transparent;\n",
              "      border-right-color: var(--fill-color);\n",
              "      border-top-color: var(--fill-color);\n",
              "    }\n",
              "    60% {\n",
              "      border-color: transparent;\n",
              "      border-right-color: var(--fill-color);\n",
              "    }\n",
              "    80% {\n",
              "      border-color: transparent;\n",
              "      border-right-color: var(--fill-color);\n",
              "      border-bottom-color: var(--fill-color);\n",
              "    }\n",
              "    90% {\n",
              "      border-color: transparent;\n",
              "      border-bottom-color: var(--fill-color);\n",
              "    }\n",
              "  }\n",
              "</style>\n",
              "\n",
              "  <script>\n",
              "    async function quickchart(key) {\n",
              "      const quickchartButtonEl =\n",
              "        document.querySelector('#' + key + ' button');\n",
              "      quickchartButtonEl.disabled = true;  // To prevent multiple clicks.\n",
              "      quickchartButtonEl.classList.add('colab-df-spinner');\n",
              "      try {\n",
              "        const charts = await google.colab.kernel.invokeFunction(\n",
              "            'suggestCharts', [key], {});\n",
              "      } catch (error) {\n",
              "        console.error('Error during call to suggestCharts:', error);\n",
              "      }\n",
              "      quickchartButtonEl.classList.remove('colab-df-spinner');\n",
              "      quickchartButtonEl.classList.add('colab-df-quickchart-complete');\n",
              "    }\n",
              "    (() => {\n",
              "      let quickchartButtonEl =\n",
              "        document.querySelector('#df-df060a76-97b4-47d4-8059-769341ced324 button');\n",
              "      quickchartButtonEl.style.display =\n",
              "        google.colab.kernel.accessAllowed ? 'block' : 'none';\n",
              "    })();\n",
              "  </script>\n",
              "</div>\n",
              "\n",
              "    </div>\n",
              "  </div>\n"
            ],
            "application/vnd.google.colaboratory.intrinsic+json": {
              "type": "dataframe",
              "variable_name": "df",
              "summary": "{\n  \"name\": \"df\",\n  \"rows\": 13393,\n  \"fields\": [\n    {\n      \"column\": \"age\",\n      \"properties\": {\n        \"dtype\": \"number\",\n        \"std\": 13.625639475291196,\n        \"min\": 21.0,\n        \"max\": 64.0,\n        \"num_unique_values\": 44,\n        \"samples\": [\n          41.0,\n          49.0,\n          40.0\n        ],\n        \"semantic_type\": \"\",\n        \"description\": \"\"\n      }\n    },\n    {\n      \"column\": \"gender\",\n      \"properties\": {\n        \"dtype\": \"category\",\n        \"num_unique_values\": 2,\n        \"samples\": [\n          \"F\",\n          \"M\"\n        ],\n        \"semantic_type\": \"\",\n        \"description\": \"\"\n      }\n    },\n    {\n      \"column\": \"height_cm\",\n      \"properties\": {\n        \"dtype\": \"number\",\n        \"std\": 8.426582550560244,\n        \"min\": 125.0,\n        \"max\": 193.8,\n        \"num_unique_values\": 467,\n        \"samples\": [\n          164.0,\n          171.5\n        ],\n        \"semantic_type\": \"\",\n        \"description\": \"\"\n      }\n    },\n    {\n      \"column\": \"weight_kg\",\n      \"properties\": {\n        \"dtype\": \"number\",\n        \"std\": 11.949666342707433,\n        \"min\": 26.3,\n        \"max\": 138.1,\n        \"num_unique_values\": 1398,\n        \"samples\": [\n          56.3,\n          64.3\n        ],\n        \"semantic_type\": \"\",\n        \"description\": \"\"\n      }\n    },\n    {\n      \"column\": \"body fat_%\",\n      \"properties\": {\n        \"dtype\": \"number\",\n        \"std\": 7.25684407992992,\n        \"min\": 3.0,\n        \"max\": 78.4,\n        \"num_unique_values\": 527,\n        \"samples\": [\n          29.5,\n          4.9\n        ],\n        \"semantic_type\": \"\",\n        \"description\": \"\"\n      }\n    },\n    {\n      \"column\": \"diastolic\",\n      \"properties\": {\n        \"dtype\": \"number\",\n        \"std\": 10.742033099909696,\n        \"min\": 0.0,\n        \"max\": 156.2,\n        \"num_unique_values\": 89,\n        \"samples\": [\n          57.0,\n          44.0\n        ],\n        \"semantic_type\": \"\",\n        \"description\": \"\"\n      }\n    },\n    {\n      \"column\": \"systolic\",\n      \"properties\": {\n        \"dtype\": \"number\",\n        \"std\": 14.713953521704212,\n        \"min\": 0.0,\n        \"max\": 201.0,\n        \"num_unique_values\": 102,\n        \"samples\": [\n          151.0,\n          158.0\n        ],\n        \"semantic_type\": \"\",\n        \"description\": \"\"\n      }\n    },\n    {\n      \"column\": \"gripForce\",\n      \"properties\": {\n        \"dtype\": \"number\",\n        \"std\": 10.624864027335304,\n        \"min\": 0.0,\n        \"max\": 70.5,\n        \"num_unique_values\": 550,\n        \"samples\": [\n          55.4,\n          53.4\n        ],\n        \"semantic_type\": \"\",\n        \"description\": \"\"\n      }\n    },\n    {\n      \"column\": \"sit and bend forward_cm\",\n      \"properties\": {\n        \"dtype\": \"number\",\n        \"std\": 8.456677009240193,\n        \"min\": -25.0,\n        \"max\": 213.0,\n        \"num_unique_values\": 528,\n        \"samples\": [\n          11.4,\n          -8.5\n        ],\n        \"semantic_type\": \"\",\n        \"description\": \"\"\n      }\n    },\n    {\n      \"column\": \"sit-ups counts\",\n      \"properties\": {\n        \"dtype\": \"number\",\n        \"std\": 14.276698326877371,\n        \"min\": 0.0,\n        \"max\": 80.0,\n        \"num_unique_values\": 81,\n        \"samples\": [\n          56.0,\n          60.0\n        ],\n        \"semantic_type\": \"\",\n        \"description\": \"\"\n      }\n    },\n    {\n      \"column\": \"broad jump_cm\",\n      \"properties\": {\n        \"dtype\": \"number\",\n        \"std\": 39.86800013263432,\n        \"min\": 0.0,\n        \"max\": 303.0,\n        \"num_unique_values\": 245,\n        \"samples\": [\n          151.0,\n          234.0\n        ],\n        \"semantic_type\": \"\",\n        \"description\": \"\"\n      }\n    },\n    {\n      \"column\": \"class\",\n      \"properties\": {\n        \"dtype\": \"category\",\n        \"num_unique_values\": 4,\n        \"samples\": [\n          \"A\",\n          \"D\"\n        ],\n        \"semantic_type\": \"\",\n        \"description\": \"\"\n      }\n    }\n  ]\n}"
            }
          },
          "metadata": {},
          "execution_count": 187
        }
      ],
      "source": [
        "from google.colab import files\n",
        "uploaded = files.upload()\n",
        "\n",
        "df = pd.read_csv('bodyPerformance.csv')\n",
        "df.head()\n"
      ]
    },
    {
      "cell_type": "markdown",
      "metadata": {
        "id": "zlRXF_jaBYtH"
      },
      "source": [
        "**No missing values**"
      ]
    },
    {
      "cell_type": "code",
      "execution_count": 188,
      "metadata": {
        "colab": {
          "base_uri": "https://localhost:8080/",
          "height": 460
        },
        "id": "OK0gp_nu8xab",
        "outputId": "18387931-efb8-4e2d-dbd4-5aa40ac37278"
      },
      "outputs": [
        {
          "output_type": "execute_result",
          "data": {
            "text/plain": [
              "age                        0\n",
              "gender                     0\n",
              "height_cm                  0\n",
              "weight_kg                  0\n",
              "body fat_%                 0\n",
              "diastolic                  0\n",
              "systolic                   0\n",
              "gripForce                  0\n",
              "sit and bend forward_cm    0\n",
              "sit-ups counts             0\n",
              "broad jump_cm              0\n",
              "class                      0\n",
              "dtype: int64"
            ],
            "text/html": [
              "<div>\n",
              "<style scoped>\n",
              "    .dataframe tbody tr th:only-of-type {\n",
              "        vertical-align: middle;\n",
              "    }\n",
              "\n",
              "    .dataframe tbody tr th {\n",
              "        vertical-align: top;\n",
              "    }\n",
              "\n",
              "    .dataframe thead th {\n",
              "        text-align: right;\n",
              "    }\n",
              "</style>\n",
              "<table border=\"1\" class=\"dataframe\">\n",
              "  <thead>\n",
              "    <tr style=\"text-align: right;\">\n",
              "      <th></th>\n",
              "      <th>0</th>\n",
              "    </tr>\n",
              "  </thead>\n",
              "  <tbody>\n",
              "    <tr>\n",
              "      <th>age</th>\n",
              "      <td>0</td>\n",
              "    </tr>\n",
              "    <tr>\n",
              "      <th>gender</th>\n",
              "      <td>0</td>\n",
              "    </tr>\n",
              "    <tr>\n",
              "      <th>height_cm</th>\n",
              "      <td>0</td>\n",
              "    </tr>\n",
              "    <tr>\n",
              "      <th>weight_kg</th>\n",
              "      <td>0</td>\n",
              "    </tr>\n",
              "    <tr>\n",
              "      <th>body fat_%</th>\n",
              "      <td>0</td>\n",
              "    </tr>\n",
              "    <tr>\n",
              "      <th>diastolic</th>\n",
              "      <td>0</td>\n",
              "    </tr>\n",
              "    <tr>\n",
              "      <th>systolic</th>\n",
              "      <td>0</td>\n",
              "    </tr>\n",
              "    <tr>\n",
              "      <th>gripForce</th>\n",
              "      <td>0</td>\n",
              "    </tr>\n",
              "    <tr>\n",
              "      <th>sit and bend forward_cm</th>\n",
              "      <td>0</td>\n",
              "    </tr>\n",
              "    <tr>\n",
              "      <th>sit-ups counts</th>\n",
              "      <td>0</td>\n",
              "    </tr>\n",
              "    <tr>\n",
              "      <th>broad jump_cm</th>\n",
              "      <td>0</td>\n",
              "    </tr>\n",
              "    <tr>\n",
              "      <th>class</th>\n",
              "      <td>0</td>\n",
              "    </tr>\n",
              "  </tbody>\n",
              "</table>\n",
              "</div><br><label><b>dtype:</b> int64</label>"
            ]
          },
          "metadata": {},
          "execution_count": 188
        }
      ],
      "source": [
        "df.isna().sum()"
      ]
    },
    {
      "cell_type": "markdown",
      "metadata": {
        "id": "sWBTYJ7bBmAU"
      },
      "source": [
        "**Data types**"
      ]
    },
    {
      "cell_type": "code",
      "execution_count": 189,
      "metadata": {
        "colab": {
          "base_uri": "https://localhost:8080/"
        },
        "id": "z_f_Wjk38xd8",
        "outputId": "6a334f81-eca9-4b83-d9d0-d7471d7cf3ff"
      },
      "outputs": [
        {
          "output_type": "stream",
          "name": "stdout",
          "text": [
            "<class 'pandas.core.frame.DataFrame'>\n",
            "RangeIndex: 13393 entries, 0 to 13392\n",
            "Data columns (total 12 columns):\n",
            " #   Column                   Non-Null Count  Dtype  \n",
            "---  ------                   --------------  -----  \n",
            " 0   age                      13393 non-null  float64\n",
            " 1   gender                   13393 non-null  object \n",
            " 2   height_cm                13393 non-null  float64\n",
            " 3   weight_kg                13393 non-null  float64\n",
            " 4   body fat_%               13393 non-null  float64\n",
            " 5   diastolic                13393 non-null  float64\n",
            " 6   systolic                 13393 non-null  float64\n",
            " 7   gripForce                13393 non-null  float64\n",
            " 8   sit and bend forward_cm  13393 non-null  float64\n",
            " 9   sit-ups counts           13393 non-null  float64\n",
            " 10  broad jump_cm            13393 non-null  float64\n",
            " 11  class                    13393 non-null  object \n",
            "dtypes: float64(10), object(2)\n",
            "memory usage: 1.2+ MB\n"
          ]
        }
      ],
      "source": [
        "df.info()"
      ]
    },
    {
      "cell_type": "code",
      "execution_count": 190,
      "metadata": {
        "id": "A3-HCK6GBWaN"
      },
      "outputs": [],
      "source": [
        "df['gender'] = df['gender'].astype('category')"
      ]
    },
    {
      "cell_type": "code",
      "execution_count": 191,
      "metadata": {
        "colab": {
          "base_uri": "https://localhost:8080/"
        },
        "id": "IhswA164DYrJ",
        "outputId": "ef15e1e8-18cc-4aff-ed13-5e82fcbe587e"
      },
      "outputs": [
        {
          "output_type": "stream",
          "name": "stdout",
          "text": [
            "['M', 'F']\n",
            "Categories (2, object): ['F', 'M']\n"
          ]
        }
      ],
      "source": [
        "# Check unique values in gender column\n",
        "unique_gender = df['gender'].unique()\n",
        "print(unique_gender)"
      ]
    },
    {
      "cell_type": "code",
      "execution_count": 192,
      "metadata": {
        "id": "Oqb4T_72BWc7"
      },
      "outputs": [],
      "source": [
        "df['class'] = df['class'].astype('category')"
      ]
    },
    {
      "cell_type": "code",
      "execution_count": 193,
      "metadata": {
        "colab": {
          "base_uri": "https://localhost:8080/"
        },
        "id": "8YC7R3PuBWgW",
        "outputId": "d3c14f5d-9aa6-480a-edff-5182f7d7bf6a"
      },
      "outputs": [
        {
          "output_type": "stream",
          "name": "stdout",
          "text": [
            "['C', 'A', 'B', 'D']\n",
            "Categories (4, object): ['A', 'B', 'C', 'D']\n"
          ]
        }
      ],
      "source": [
        "# Check unique values in class column\n",
        "unique_classes = df['class'].unique()\n",
        "print(unique_classes)"
      ]
    },
    {
      "cell_type": "markdown",
      "metadata": {
        "id": "-Qox3KaTD9x9"
      },
      "source": [
        "**Duplicates**"
      ]
    },
    {
      "cell_type": "code",
      "execution_count": 194,
      "metadata": {
        "colab": {
          "base_uri": "https://localhost:8080/"
        },
        "id": "JwsV-ywaD_q0",
        "outputId": "876db187-632d-4b5d-b588-8ccfe7e9a711"
      },
      "outputs": [
        {
          "output_type": "execute_result",
          "data": {
            "text/plain": [
              "1"
            ]
          },
          "metadata": {},
          "execution_count": 194
        }
      ],
      "source": [
        "df.duplicated().sum()"
      ]
    },
    {
      "cell_type": "code",
      "execution_count": 195,
      "metadata": {
        "colab": {
          "base_uri": "https://localhost:8080/"
        },
        "id": "5L-lWviAEBHG",
        "outputId": "0b4588eb-7f8e-4acd-e755-aaee853f33b4"
      },
      "outputs": [
        {
          "output_type": "stream",
          "name": "stdout",
          "text": [
            "with duplicates:(13393, 12)\n",
            "without duplicates:(13392, 12)\n"
          ]
        }
      ],
      "source": [
        "#remove duplicate\n",
        "print(f'with duplicates:{df.shape}')\n",
        "df.drop_duplicates(inplace=True)\n",
        "print(f'without duplicates:{df.shape}')"
      ]
    },
    {
      "cell_type": "markdown",
      "metadata": {
        "id": "0JSpyzfdE7oJ"
      },
      "source": [
        "**Response Variable**"
      ]
    },
    {
      "cell_type": "code",
      "execution_count": 196,
      "metadata": {
        "colab": {
          "base_uri": "https://localhost:8080/"
        },
        "id": "RCnxbSwnEY_t",
        "outputId": "6e8aa0e3-89a9-4da7-d0ee-719ba3de8a36"
      },
      "outputs": [
        {
          "output_type": "stream",
          "name": "stdout",
          "text": [
            "class\n",
            "C    3349\n",
            "D    3349\n",
            "A    3347\n",
            "B    3347\n",
            "Name: count, dtype: int64\n"
          ]
        }
      ],
      "source": [
        "# Count the number of occurrences in each class\n",
        "class_counts = df['class'].value_counts()\n",
        "\n",
        "# Display the counts\n",
        "print(class_counts)"
      ]
    },
    {
      "cell_type": "code",
      "execution_count": 197,
      "metadata": {
        "colab": {
          "base_uri": "https://localhost:8080/",
          "height": 527
        },
        "id": "eVhgwInHE6sy",
        "outputId": "7bfcfb3c-23a9-48ec-9a7e-9f125add2718"
      },
      "outputs": [
        {
          "output_type": "display_data",
          "data": {
            "text/plain": [
              "<Figure size 800x600 with 1 Axes>"
            ],
            "image/png": "[encoded data removed]"
          },
          "metadata": {}
        }
      ],
      "source": [
        "import matplotlib.pyplot as plt\n",
        "\n",
        "# Count the number of occurrences in each class\n",
        "class_counts = df['class'].value_counts()\n",
        "\n",
        "# Create a function to display both count and percentage\n",
        "def func(pct, allvalues):\n",
        "    absolute = int(round(pct / 100. * sum(allvalues)))\n",
        "    return f'{absolute}\\n({pct:.1f}%)'\n",
        "\n",
        "# Create a pie chart\n",
        "plt.figure(figsize=(8, 6))\n",
        "plt.pie(class_counts, labels=class_counts.index, autopct=lambda pct: func(pct, class_counts), startangle=140)\n",
        "plt.title('Occurrences and Percentage of Each Class')\n",
        "plt.axis('equal')  # Equal aspect ratio ensures that pie is drawn as a circle.\n",
        "\n",
        "# Display the pie chart\n",
        "plt.show()"
      ]
    },
    {
      "cell_type": "markdown",
      "metadata": {
        "id": "CUEXX0TVGVFd"
      },
      "source": [
        "**Gender**"
      ]
    },
    {
      "cell_type": "code",
      "execution_count": 198,
      "metadata": {
        "colab": {
          "base_uri": "https://localhost:8080/",
          "height": 521
        },
        "id": "VlisFOtZGXmm",
        "outputId": "a2cec04a-f252-4631-9f1c-418ed2376a4e"
      },
      "outputs": [
        {
          "output_type": "display_data",
          "data": {
            "text/plain": [
              "<Figure size 800x600 with 1 Axes>"
            ],
            "image/png": "[encoded data removed]"
          },
          "metadata": {}
        }
      ],
      "source": [
        "# Count the number of occurrences for each gender\n",
        "gender_counts = df['gender'].value_counts()\n",
        "\n",
        "# Create a function to display both count and percentage\n",
        "def func(pct, allvalues):\n",
        "    absolute = int(round(pct / 100. * sum(allvalues)))\n",
        "    return f'{absolute}\\n({pct:.1f}%)'\n",
        "\n",
        "# Create a pie chart\n",
        "plt.figure(figsize=(8, 6))\n",
        "plt.pie(gender_counts, labels=gender_counts.index, autopct=lambda pct: func(pct, gender_counts), startangle=140)\n",
        "plt.title('Occurrences and Percentage of Each Gender')\n",
        "plt.axis('equal')  # Equal aspect ratio ensures that pie is drawn as a circle.\n",
        "\n",
        "# Display the pie chart\n",
        "plt.show()"
      ]
    },
    {
      "cell_type": "markdown",
      "metadata": {
        "id": "IP1jgcqaP4fO"
      },
      "source": [
        "**Age**"
      ]
    },
    {
      "cell_type": "code",
      "execution_count": 199,
      "metadata": {
        "colab": {
          "base_uri": "https://localhost:8080/",
          "height": 466
        },
        "id": "eT-Pxgz_P6f-",
        "outputId": "4cf61466-8616-475a-c1f0-8042af19488e"
      },
      "outputs": [
        {
          "output_type": "display_data",
          "data": {
            "text/plain": [
              "<Figure size 1000x500 with 1 Axes>"
            ],
            "image/png": "[encoded data removed]"
          },
          "metadata": {}
        }
      ],
      "source": [
        "plt.figure(figsize=(10, 5))\n",
        "sns.histplot(data=df, x=\"age\", bins=60, kde=True, color='red')\n",
        "plt.show()"
      ]
    },
    {
      "cell_type": "code",
      "execution_count": 200,
      "metadata": {
        "colab": {
          "base_uri": "https://localhost:8080/"
        },
        "id": "LsdpZPO1UThg",
        "outputId": "7c8b6fdc-f101-4f38-97c8-eb2419d9d20d"
      },
      "outputs": [
        {
          "output_type": "stream",
          "name": "stdout",
          "text": [
            "Minimum age: 21.0\n",
            "Maximum age: 64.0\n",
            "Average age: 36.78\n"
          ]
        }
      ],
      "source": [
        "# Calculate min, max, and average\n",
        "age_min = df['age'].min()\n",
        "age_max = df['age'].max()\n",
        "age_mean = df['age'].mean()\n",
        "\n",
        "print(f\"Minimum age: {age_min}\")\n",
        "print(f\"Maximum age: {age_max}\")\n",
        "print(f\"Average age: {age_mean:.2f}\")  # rounded to 2 decimal places"
      ]
    },
    {
      "cell_type": "markdown",
      "metadata": {
        "id": "LflUJ3uYitdA"
      },
      "source": [
        "**Height**"
      ]
    },
    {
      "cell_type": "code",
      "execution_count": 201,
      "metadata": {
        "colab": {
          "base_uri": "https://localhost:8080/",
          "height": 465
        },
        "id": "agVR4DPgiv6z",
        "outputId": "b49f5419-4c17-4f2b-d502-5c7248c500b8"
      },
      "outputs": [
        {
          "output_type": "display_data",
          "data": {
            "text/plain": [
              "<Figure size 1400x500 with 1 Axes>"
            ],
            "image/png": "[encoded data removed]"
          },
          "metadata": {}
        }
      ],
      "source": [
        "plt.figure(figsize=(14, 5))\n",
        "sns.histplot(data=df, x=\"height_cm\", bins=60, kde=True, color='brown')\n",
        "plt.show()"
      ]
    },
    {
      "cell_type": "code",
      "execution_count": 202,
      "metadata": {
        "colab": {
          "base_uri": "https://localhost:8080/",
          "height": 487
        },
        "id": "d3b09CbZjskN",
        "outputId": "aa6d76a2-7701-4f0f-abf3-d8d9d2aa887c"
      },
      "outputs": [
        {
          "output_type": "display_data",
          "data": {
            "text/plain": [
              "<Figure size 1400x500 with 1 Axes>"
            ],
            "image/png": "[encoded data removed]"
          },
          "metadata": {}
        }
      ],
      "source": [
        "# Set the figure size for height\n",
        "plt.figure(figsize=(14, 5))\n",
        "\n",
        "# Create a box plot for height\n",
        "sns.boxplot(data=df, x=\"height_cm\", color='brown')\n",
        "plt.title('Box Plot of Height (cm)')\n",
        "plt.xlabel('Height (cm)')\n",
        "\n",
        "# Show the plot\n",
        "plt.show()"
      ]
    },
    {
      "cell_type": "markdown",
      "metadata": {
        "id": "7yUaPQ8Bi22Q"
      },
      "source": [
        "**Weight**"
      ]
    },
    {
      "cell_type": "code",
      "execution_count": 203,
      "metadata": {
        "colab": {
          "base_uri": "https://localhost:8080/",
          "height": 465
        },
        "id": "b9isLH6wi5FH",
        "outputId": "3b076d94-1821-4572-e1a2-36ec012f76d1"
      },
      "outputs": [
        {
          "output_type": "display_data",
          "data": {
            "text/plain": [
              "<Figure size 1400x500 with 1 Axes>"
            ],
            "image/png": "[encoded data removed]"
          },
          "metadata": {}
        }
      ],
      "source": [
        "plt.figure(figsize=(14, 5))\n",
        "sns.histplot(data=df, x=\"weight_kg\", bins=60, kde=True, color='magenta')\n",
        "plt.show()"
      ]
    },
    {
      "cell_type": "code",
      "execution_count": 204,
      "metadata": {
        "colab": {
          "base_uri": "https://localhost:8080/",
          "height": 487
        },
        "id": "LGNgSBl7jzt1",
        "outputId": "299e5bb5-f772-40fc-e598-ede8abe80dfc"
      },
      "outputs": [
        {
          "output_type": "display_data",
          "data": {
            "text/plain": [
              "<Figure size 1400x500 with 1 Axes>"
            ],
            "image/png": "[encoded data removed]"
          },
          "metadata": {}
        }
      ],
      "source": [
        "# Set the figure size for weight\n",
        "plt.figure(figsize=(14, 5))\n",
        "\n",
        "# Create a box plot for weight\n",
        "sns.boxplot(data=df, x=\"weight_kg\", color='magenta')\n",
        "plt.title('Box Plot of Weight (kg)')\n",
        "plt.xlabel('Weight (kg)')\n",
        "\n",
        "# Show the plot\n",
        "plt.show()"
      ]
    },
    {
      "cell_type": "markdown",
      "metadata": {
        "id": "g7st4pzlGq6Q"
      },
      "source": [
        "**Body Fat %**"
      ]
    },
    {
      "cell_type": "code",
      "execution_count": 205,
      "metadata": {
        "colab": {
          "base_uri": "https://localhost:8080/",
          "height": 465
        },
        "id": "CHgnrKaMGtiK",
        "outputId": "fdbdc847-7b30-402c-82ab-c841d57dab97"
      },
      "outputs": [
        {
          "output_type": "display_data",
          "data": {
            "text/plain": [
              "<Figure size 1400x500 with 1 Axes>"
            ],
            "image/png": "[encoded data removed]"
          },
          "metadata": {}
        }
      ],
      "source": [
        "plt.figure(figsize=(14, 5))\n",
        "sns.histplot(data=df, x=\"body fat_%\", bins=60, kde=True, color='green')\n",
        "plt.show()"
      ]
    },
    {
      "cell_type": "code",
      "execution_count": 206,
      "metadata": {
        "colab": {
          "base_uri": "https://localhost:8080/",
          "height": 487
        },
        "id": "fsqSLp62G7f0",
        "outputId": "1a838f2f-0b10-4d06-bcbe-7019acad0068"
      },
      "outputs": [
        {
          "output_type": "display_data",
          "data": {
            "text/plain": [
              "<Figure size 1400x500 with 1 Axes>"
            ],
            "image/png": "[encoded data removed]"
          },
          "metadata": {}
        }
      ],
      "source": [
        "# Set the figure size\n",
        "plt.figure(figsize=(14, 5))\n",
        "\n",
        "# Create a box plot\n",
        "sns.boxplot(data=df, x=\"body fat_%\", color='green')\n",
        "plt.title('Box Plot of Body Fat Percentage')\n",
        "plt.xlabel('Body Fat Percentage')\n",
        "\n",
        "# Show the plot\n",
        "plt.show()"
      ]
    },
    {
      "cell_type": "code",
      "execution_count": 207,
      "metadata": {
        "colab": {
          "base_uri": "https://localhost:8080/"
        },
        "id": "coAl3OoITM8g",
        "outputId": "f5bee27b-78bc-4768-dc64-5e5139b759f6"
      },
      "outputs": [
        {
          "output_type": "stream",
          "name": "stdout",
          "text": [
            "      age gender  height_cm  weight_kg  body fat_%  diastolic  systolic  \\\n",
            "735  21.0      M      177.6       74.5        78.4       69.0     122.0   \n",
            "\n",
            "     gripForce  sit and bend forward_cm  sit-ups counts  broad jump_cm class  \n",
            "735       44.9                     26.1            59.0          235.0     A  \n"
          ]
        }
      ],
      "source": [
        "# Display records where 'body fat_%' is greater than 75\n",
        "print(df[df['body fat_%'] > 75])"
      ]
    },
    {
      "cell_type": "markdown",
      "metadata": {
        "id": "uBwD4MO2Uv_U"
      },
      "source": [
        "The body fat percentage of 78.4% seems unrealistic for a 21-year-old male with the provided height and weight whose fitness level is good. Hence we will remove that"
      ]
    },
    {
      "cell_type": "code",
      "execution_count": 208,
      "metadata": {
        "colab": {
          "base_uri": "https://localhost:8080/"
        },
        "id": "Juzzwx4RU5uT",
        "outputId": "aeb45303-5331-497f-b12c-b4c884b12606"
      },
      "outputs": [
        {
          "output_type": "stream",
          "name": "stdout",
          "text": [
            "        age gender  height_cm  weight_kg  body fat_%  diastolic  systolic  \\\n",
            "0      27.0      M      172.3      75.24        21.3       80.0     130.0   \n",
            "1      25.0      M      165.0      55.80        15.7       77.0     126.0   \n",
            "2      31.0      M      179.6      78.00        20.1       92.0     152.0   \n",
            "3      32.0      M      174.5      71.10        18.4       76.0     147.0   \n",
            "4      28.0      M      173.8      67.70        17.1       70.0     127.0   \n",
            "...     ...    ...        ...        ...         ...        ...       ...   \n",
            "13388  25.0      M      172.1      71.80        16.2       74.0     141.0   \n",
            "13389  21.0      M      179.7      63.90        12.1       74.0     128.0   \n",
            "13390  39.0      M      177.2      80.50        20.1       78.0     132.0   \n",
            "13391  64.0      F      146.1      57.70        40.4       68.0     121.0   \n",
            "13392  34.0      M      164.0      66.10        19.5       82.0     150.0   \n",
            "\n",
            "       gripForce  sit and bend forward_cm  sit-ups counts  broad jump_cm class  \n",
            "0           54.9                     18.4            60.0          217.0     C  \n",
            "1           36.4                     16.3            53.0          229.0     A  \n",
            "2           44.8                     12.0            49.0          181.0     C  \n",
            "3           41.4                     15.2            53.0          219.0     B  \n",
            "4           43.5                     27.1            45.0          217.0     B  \n",
            "...          ...                      ...             ...            ...   ...  \n",
            "13388       35.8                     17.4            47.0          198.0     C  \n",
            "13389       33.0                      1.1            48.0          167.0     D  \n",
            "13390       63.5                     16.4            45.0          229.0     A  \n",
            "13391       19.3                      9.2             0.0           75.0     D  \n",
            "13392       35.9                      7.1            51.0          180.0     C  \n",
            "\n",
            "[13391 rows x 12 columns]\n"
          ]
        }
      ],
      "source": [
        "# Remove records where 'body fat_%' is greater than 75\n",
        "df1 = df[df['body fat_%'] < 75]\n",
        "\n",
        "# Display the updated DataFrame\n",
        "print(df1)"
      ]
    },
    {
      "cell_type": "code",
      "execution_count": 209,
      "metadata": {
        "colab": {
          "base_uri": "https://localhost:8080/"
        },
        "id": "PN0kXuBOVSLC",
        "outputId": "6f0b5ccc-473e-479c-facf-795179f074dd"
      },
      "outputs": [
        {
          "output_type": "execute_result",
          "data": {
            "text/plain": [
              "(13391, 12)"
            ]
          },
          "metadata": {},
          "execution_count": 209
        }
      ],
      "source": [
        "# Check the size of df1\n",
        "df1.shape"
      ]
    },
    {
      "cell_type": "markdown",
      "metadata": {
        "id": "2wJWrHV7Kwfy"
      },
      "source": [
        "**Sit and bend forward_cm**"
      ]
    },
    {
      "cell_type": "code",
      "execution_count": 210,
      "metadata": {
        "colab": {
          "base_uri": "https://localhost:8080/",
          "height": 487
        },
        "id": "ShG0iF61Kyve",
        "outputId": "a408d416-c6ac-4860-90bb-9cc26c6fb0c4"
      },
      "outputs": [
        {
          "output_type": "display_data",
          "data": {
            "text/plain": [
              "<Figure size 1400x500 with 1 Axes>"
            ],
            "image/png": "[encoded data removed]"
          },
          "metadata": {}
        }
      ],
      "source": [
        "# Set the figure size\n",
        "plt.figure(figsize=(14, 5))\n",
        "\n",
        "# Create a box plot\n",
        "sns.boxplot(data=df1, x=\"sit and bend forward_cm\", color='blue')\n",
        "plt.title('Box Plot of sit and bend forward_cm')\n",
        "plt.xlabel('sit and bend forward_cm')\n",
        "\n",
        "# Show the plot\n",
        "plt.show()"
      ]
    },
    {
      "cell_type": "code",
      "execution_count": 211,
      "metadata": {
        "colab": {
          "base_uri": "https://localhost:8080/"
        },
        "id": "tAqpC_jG5lFB",
        "outputId": "8f3ab012-1d3e-4352-ab3d-2de3d8e94bbe"
      },
      "outputs": [
        {
          "output_type": "stream",
          "name": "stdout",
          "text": [
            "       age gender  height_cm  weight_kg  body fat_%  diastolic  systolic  \\\n",
            "2657  33.0      M      165.6       60.4        17.8       81.0     127.0   \n",
            "3355  45.0      M      164.4       64.4        24.3       96.0     142.0   \n",
            "\n",
            "      gripForce  sit and bend forward_cm  sit-ups counts  broad jump_cm class  \n",
            "2657       38.6                    213.0            53.0          244.0     B  \n",
            "3355       38.5                    185.0            44.0          223.0     A  \n"
          ]
        }
      ],
      "source": [
        "# Filter the DataFrame for sit and bend forward values greater than height\n",
        "outliers_df = df1[df1['sit and bend forward_cm'] > df1['height_cm']]\n",
        "\n",
        "# Print the outliers for inspection\n",
        "print(outliers_df)"
      ]
    },
    {
      "cell_type": "markdown",
      "metadata": {
        "id": "ZXVYS1dkLIYe"
      },
      "source": [
        "Two outliers can be seen from above which has unrealistic values"
      ]
    },
    {
      "cell_type": "code",
      "execution_count": 212,
      "metadata": {
        "colab": {
          "base_uri": "https://localhost:8080/"
        },
        "id": "Z65btOWQLUu6",
        "outputId": "e221e07f-5d0a-4515-8db7-68fb07184ec7"
      },
      "outputs": [
        {
          "output_type": "stream",
          "name": "stdout",
          "text": [
            "       age gender  height_cm  weight_kg  body fat_%  diastolic  systolic  \\\n",
            "2657  33.0      M      165.6       60.4        17.8       81.0     127.0   \n",
            "3355  45.0      M      164.4       64.4        24.3       96.0     142.0   \n",
            "\n",
            "      gripForce  sit and bend forward_cm  sit-ups counts  broad jump_cm class  \n",
            "2657       38.6                    213.0            53.0          244.0     B  \n",
            "3355       38.5                    185.0            44.0          223.0     A  \n"
          ]
        }
      ],
      "source": [
        "# Display records where 'sit and bend forward_cm' is greater than or equal to 50\n",
        "print(df1[df1['sit and bend forward_cm'] > 50])"
      ]
    },
    {
      "cell_type": "markdown",
      "metadata": {
        "id": "2vz8PSzIL2Za"
      },
      "source": [
        "Remove those 2 records"
      ]
    },
    {
      "cell_type": "code",
      "execution_count": 213,
      "metadata": {
        "colab": {
          "base_uri": "https://localhost:8080/"
        },
        "id": "opK6YABaL0Xd",
        "outputId": "300f1284-5de3-458b-8f01-339d036c29b5"
      },
      "outputs": [
        {
          "output_type": "stream",
          "name": "stdout",
          "text": [
            "        age gender  height_cm  weight_kg  body fat_%  diastolic  systolic  \\\n",
            "0      27.0      M      172.3      75.24        21.3       80.0     130.0   \n",
            "1      25.0      M      165.0      55.80        15.7       77.0     126.0   \n",
            "2      31.0      M      179.6      78.00        20.1       92.0     152.0   \n",
            "3      32.0      M      174.5      71.10        18.4       76.0     147.0   \n",
            "4      28.0      M      173.8      67.70        17.1       70.0     127.0   \n",
            "...     ...    ...        ...        ...         ...        ...       ...   \n",
            "13388  25.0      M      172.1      71.80        16.2       74.0     141.0   \n",
            "13389  21.0      M      179.7      63.90        12.1       74.0     128.0   \n",
            "13390  39.0      M      177.2      80.50        20.1       78.0     132.0   \n",
            "13391  64.0      F      146.1      57.70        40.4       68.0     121.0   \n",
            "13392  34.0      M      164.0      66.10        19.5       82.0     150.0   \n",
            "\n",
            "       gripForce  sit and bend forward_cm  sit-ups counts  broad jump_cm class  \n",
            "0           54.9                     18.4            60.0          217.0     C  \n",
            "1           36.4                     16.3            53.0          229.0     A  \n",
            "2           44.8                     12.0            49.0          181.0     C  \n",
            "3           41.4                     15.2            53.0          219.0     B  \n",
            "4           43.5                     27.1            45.0          217.0     B  \n",
            "...          ...                      ...             ...            ...   ...  \n",
            "13388       35.8                     17.4            47.0          198.0     C  \n",
            "13389       33.0                      1.1            48.0          167.0     D  \n",
            "13390       63.5                     16.4            45.0          229.0     A  \n",
            "13391       19.3                      9.2             0.0           75.0     D  \n",
            "13392       35.9                      7.1            51.0          180.0     C  \n",
            "\n",
            "[13389 rows x 12 columns]\n"
          ]
        }
      ],
      "source": [
        "# Remove records where 'sit and bend forward_cm' is greater than or equal to 50\n",
        "df2 = df1[df1['sit and bend forward_cm'] < 50]\n",
        "\n",
        "# Display the updated DataFrame\n",
        "print(df2)"
      ]
    },
    {
      "cell_type": "code",
      "execution_count": 214,
      "metadata": {
        "colab": {
          "base_uri": "https://localhost:8080/"
        },
        "id": "GQa-WOOjXk2n",
        "outputId": "8576a8ad-70ec-417a-d8a7-b3140a275bce"
      },
      "outputs": [
        {
          "output_type": "stream",
          "name": "stdout",
          "text": [
            "        age gender  height_cm  weight_kg  body fat_%  diastolic  systolic  \\\n",
            "33     30.0      M      172.1      79.50    26.70000       91.0     148.0   \n",
            "47     26.0      M      172.1      66.10    24.90000       62.0     102.0   \n",
            "75     22.0      M      171.9      78.46    22.90000       64.0     116.0   \n",
            "139    22.0      M      180.3      91.70    32.10000       75.0     134.0   \n",
            "248    61.0      M      171.6      86.40    28.70000       70.0     142.0   \n",
            "...     ...    ...        ...        ...         ...        ...       ...   \n",
            "13280  26.0      M      173.5      68.70    15.16476       78.0     120.0   \n",
            "13301  26.0      M      175.4      74.70    18.20000       93.0     150.0   \n",
            "13318  25.0      M      187.9      94.90    19.40000       68.0     107.0   \n",
            "13357  56.0      M      173.0      52.60    12.90000       92.0     141.0   \n",
            "13380  42.0      M      172.0      76.30    32.80000      100.0     147.0   \n",
            "\n",
            "       gripForce  sit and bend forward_cm  sit-ups counts  broad jump_cm class  \n",
            "33          34.7                     -2.0            40.0          192.0     D  \n",
            "47          19.9                     -9.9            44.0          159.0     D  \n",
            "75          43.6                     -9.3            46.0          219.0     D  \n",
            "139         28.6                     -6.9            36.0          210.0     D  \n",
            "248         35.1                     -2.4            12.0          162.0     D  \n",
            "...          ...                      ...             ...            ...   ...  \n",
            "13280       44.7                     -8.6            50.0          200.0     D  \n",
            "13301       37.7                     -6.8            53.0          215.0     D  \n",
            "13318       33.9                     -8.7            26.0          221.0     D  \n",
            "13357       32.6                    -13.2            31.0          198.0     D  \n",
            "13380       33.4                    -20.0            20.0          100.0     D  \n",
            "\n",
            "[642 rows x 12 columns]\n"
          ]
        }
      ],
      "source": [
        "# Find records with negative values in the 'sit and bend forward_cm' column\n",
        "negative_records = df2[df2['sit and bend forward_cm'] < 0]\n",
        "\n",
        "# Display the negative records\n",
        "print(negative_records)"
      ]
    },
    {
      "cell_type": "markdown",
      "metadata": {
        "id": "ienuYPg_ZU_p"
      },
      "source": [
        "The most logical measure is to use the level of the feet as recording zero, so that any measure that does not reach the toes is negative and any reach past the toes is positive\n",
        "https://www.topendsports.com/testing/tests/sit-and-reach.htm\n",
        "\n",
        "Hence we don't remove he negative values because they make sense"
      ]
    },
    {
      "cell_type": "code",
      "execution_count": 215,
      "metadata": {
        "colab": {
          "base_uri": "https://localhost:8080/"
        },
        "id": "4MxNWRUMMChO",
        "outputId": "adb724e3-d55d-446d-f1cd-ea71be945e70"
      },
      "outputs": [
        {
          "output_type": "execute_result",
          "data": {
            "text/plain": [
              "(13389, 12)"
            ]
          },
          "metadata": {},
          "execution_count": 215
        }
      ],
      "source": [
        "# Check the size of df1\n",
        "df2.shape"
      ]
    },
    {
      "cell_type": "markdown",
      "metadata": {
        "id": "8UU7etCOMJSo"
      },
      "source": [
        "**Broad jump_cm**"
      ]
    },
    {
      "cell_type": "code",
      "execution_count": 216,
      "metadata": {
        "colab": {
          "base_uri": "https://localhost:8080/",
          "height": 487
        },
        "id": "tktpx1LkLkth",
        "outputId": "7ee271fe-f713-48f7-ded9-b1de2b54eab8"
      },
      "outputs": [
        {
          "output_type": "display_data",
          "data": {
            "text/plain": [
              "<Figure size 1400x500 with 1 Axes>"
            ],
            "image/png": "[encoded data removed]"
          },
          "metadata": {}
        }
      ],
      "source": [
        "# Set the figure size\n",
        "plt.figure(figsize=(14, 5))\n",
        "\n",
        "# Create a box plot\n",
        "sns.boxplot(data=df2, x=\"broad jump_cm\", color='red')\n",
        "plt.title('Box Plot of broad jump_cm')\n",
        "plt.xlabel('broad jump_cm')\n",
        "\n",
        "# Show the plot\n",
        "plt.show()"
      ]
    },
    {
      "cell_type": "code",
      "execution_count": 217,
      "metadata": {
        "colab": {
          "base_uri": "https://localhost:8080/"
        },
        "id": "7FKGFo9qhx_H",
        "outputId": "130f43be-6865-4c6d-96c5-e9ea45286128"
      },
      "outputs": [
        {
          "output_type": "stream",
          "name": "stdout",
          "text": [
            "       age gender  height_cm  weight_kg  body fat_%  diastolic  systolic  \\\n",
            "484   22.0      F      167.4       66.2        34.0       62.0     110.0   \n",
            "712   58.0      M      168.7       76.1        27.5       84.0     139.0   \n",
            "1919  59.0      F      162.9       61.0        32.6       82.0     123.0   \n",
            "4756  28.0      M      176.6       82.2        20.7       83.0     126.0   \n",
            "4900  60.0      F      162.2       67.3        41.8       47.0     131.0   \n",
            "7366  50.0      M      178.2       88.4        23.4       85.0     146.0   \n",
            "7721  56.0      F      156.0       51.1        28.4       73.0     113.0   \n",
            "7944  45.0      F      153.4       33.7        16.1       81.0     124.0   \n",
            "7954  61.0      F      153.0       64.6        31.4       77.0     152.0   \n",
            "8599  60.0      F      160.0       76.9        50.3       82.0     141.0   \n",
            "\n",
            "      gripForce  sit and bend forward_cm  sit-ups counts  broad jump_cm class  \n",
            "484        28.5                     11.2            38.0            0.0     C  \n",
            "712        34.5                      2.0             0.0            0.0     D  \n",
            "1919       29.7                     19.5             0.0            0.0     D  \n",
            "4756       40.9                     17.6            46.0            0.0     C  \n",
            "4900       22.1                     19.5             0.0            0.0     D  \n",
            "7366       54.9                     19.3            51.0            0.0     C  \n",
            "7721       20.7                     23.0            23.0            0.0     C  \n",
            "7944        6.7                     11.5             8.0            0.0     D  \n",
            "7954       14.0                     20.6             0.0            0.0     D  \n",
            "8599       20.1                     -8.1             0.0            0.0     D  \n"
          ]
        }
      ],
      "source": [
        "# Display records where 'broad jump_cm' is equal to 0\n",
        "print(df2[df2['broad jump_cm'] == 0])"
      ]
    },
    {
      "cell_type": "markdown",
      "metadata": {
        "id": "TMW-N-75OzJw"
      },
      "source": [
        "average\tfor males: 221-230cm\n",
        "average for females: 171-180cm\n",
        "\n",
        "while athletes can jump over 300cm as well.\n",
        "\n",
        "College-aged males: The average Broad Jump distance for college-aged males is approximately 8-9 feet (2.4-2.7 meters).\n",
        "College-aged females: The average Broad Jump distance for college-aged females is approximately 6-7 feet (1.8-2.1 meters).\n",
        "High school athletes: The average Broad Jump distance for high school athletes is approximately 9-10 feet (2.7-3 meters) for males and 7-8 feet (2.1-2.4 meters) for females.\n",
        "Professional basketball players: Professional basketball players have an average Broad Jump distance of 10-11 feet (3-3.4 meters).\n",
        "\n",
        "Reference: https://www.matassessment.com/blog/broad-jump-test#:~:text=College%2Daged%20males%3A%20The%20average,(1.8%2D2.1%20meters)."
      ]
    },
    {
      "cell_type": "markdown",
      "metadata": {
        "id": "Ap2FyiQlQISJ"
      },
      "source": [
        "But our dataset may contain people with disabilities.\n",
        "It is possible for individuals with a broad jump of 0 or very less to still have reasonable scores in other tests (e.g., sit-ups and sit-and-bend-forward) as these tests may evaluate different aspects of fitness (e.g., flexibility).\n",
        "\n",
        "HENCE WE WON'T REMOVE\n"
      ]
    },
    {
      "cell_type": "markdown",
      "metadata": {
        "id": "eL1WtYvyncnX"
      },
      "source": [
        "**Systolic Rate**"
      ]
    },
    {
      "cell_type": "code",
      "execution_count": 218,
      "metadata": {
        "colab": {
          "base_uri": "https://localhost:8080/"
        },
        "id": "EE8ZFM16njio",
        "outputId": "98685f37-1d1f-4d71-fc5f-6352dd94b73b"
      },
      "outputs": [
        {
          "output_type": "stream",
          "name": "stdout",
          "text": [
            "        age gender  height_cm  weight_kg  body fat_%  diastolic  systolic  \\\n",
            "7495   30.0      F      156.2      52.80        28.2      156.2     104.0   \n",
            "7597   30.0      M      166.6      66.08        14.4       67.0      14.0   \n",
            "8217   31.0      M      176.7      80.32        20.8       46.2      43.9   \n",
            "12949  24.0      M      171.0      78.70        20.0       99.0      95.0   \n",
            "\n",
            "       gripForce  sit and bend forward_cm  sit-ups counts  broad jump_cm class  \n",
            "7495        21.7                     27.2            43.0          162.0     C  \n",
            "7597        53.8                     17.2            57.0          221.0     A  \n",
            "8217        43.9                     17.2            57.0          221.0     B  \n",
            "12949       46.5                     12.8            50.0          197.0     D  \n"
          ]
        }
      ],
      "source": [
        "# Filter records where systolic is less than diastolic\n",
        "invalid_records = df2[df2['systolic'] < df2['diastolic']]\n",
        "\n",
        "# Display the invalid records\n",
        "print(invalid_records)"
      ]
    },
    {
      "cell_type": "markdown",
      "metadata": {
        "id": "lSLHxsbznfMh"
      },
      "source": [
        "The systolic rate is always expected to be higher than the diastolic rate. Hence we will remove them."
      ]
    },
    {
      "cell_type": "code",
      "execution_count": 219,
      "metadata": {
        "colab": {
          "base_uri": "https://localhost:8080/"
        },
        "id": "YSj1ow0fniHY",
        "outputId": "21b36c17-c2d0-4965-d1e2-7f61ea2d4141"
      },
      "outputs": [
        {
          "output_type": "stream",
          "name": "stdout",
          "text": [
            "        age gender  height_cm  weight_kg  body fat_%  diastolic  systolic  \\\n",
            "0      27.0      M      172.3      75.24        21.3       80.0     130.0   \n",
            "1      25.0      M      165.0      55.80        15.7       77.0     126.0   \n",
            "2      31.0      M      179.6      78.00        20.1       92.0     152.0   \n",
            "3      32.0      M      174.5      71.10        18.4       76.0     147.0   \n",
            "4      28.0      M      173.8      67.70        17.1       70.0     127.0   \n",
            "...     ...    ...        ...        ...         ...        ...       ...   \n",
            "13388  25.0      M      172.1      71.80        16.2       74.0     141.0   \n",
            "13389  21.0      M      179.7      63.90        12.1       74.0     128.0   \n",
            "13390  39.0      M      177.2      80.50        20.1       78.0     132.0   \n",
            "13391  64.0      F      146.1      57.70        40.4       68.0     121.0   \n",
            "13392  34.0      M      164.0      66.10        19.5       82.0     150.0   \n",
            "\n",
            "       gripForce  sit and bend forward_cm  sit-ups counts  broad jump_cm class  \n",
            "0           54.9                     18.4            60.0          217.0     C  \n",
            "1           36.4                     16.3            53.0          229.0     A  \n",
            "2           44.8                     12.0            49.0          181.0     C  \n",
            "3           41.4                     15.2            53.0          219.0     B  \n",
            "4           43.5                     27.1            45.0          217.0     B  \n",
            "...          ...                      ...             ...            ...   ...  \n",
            "13388       35.8                     17.4            47.0          198.0     C  \n",
            "13389       33.0                      1.1            48.0          167.0     D  \n",
            "13390       63.5                     16.4            45.0          229.0     A  \n",
            "13391       19.3                      9.2             0.0           75.0     D  \n",
            "13392       35.9                      7.1            51.0          180.0     C  \n",
            "\n",
            "[13385 rows x 12 columns]\n"
          ]
        }
      ],
      "source": [
        "# Remove records where systolic is less than diastolic\n",
        "df3 = df2[df2['systolic'] >= df2['diastolic']]\n",
        "\n",
        "# Display the cleaned DataFrame\n",
        "print(df3)"
      ]
    },
    {
      "cell_type": "code",
      "execution_count": 220,
      "metadata": {
        "colab": {
          "base_uri": "https://localhost:8080/"
        },
        "id": "qRv34lR6sWUh",
        "outputId": "1044de3a-27b6-4e81-b357-700a404e50c2"
      },
      "outputs": [
        {
          "output_type": "execute_result",
          "data": {
            "text/plain": [
              "(13385, 12)"
            ]
          },
          "metadata": {},
          "execution_count": 220
        }
      ],
      "source": [
        "df3.shape"
      ]
    },
    {
      "cell_type": "code",
      "execution_count": 221,
      "metadata": {
        "colab": {
          "base_uri": "https://localhost:8080/",
          "height": 487
        },
        "id": "bKKHlVsYv4Km",
        "outputId": "4a343bba-490a-4b6e-ddbd-a07bcb07b3d2"
      },
      "outputs": [
        {
          "output_type": "display_data",
          "data": {
            "text/plain": [
              "<Figure size 1400x500 with 1 Axes>"
            ],
            "image/png": "[encoded data removed]"
          },
          "metadata": {}
        }
      ],
      "source": [
        "# Set the figure size\n",
        "plt.figure(figsize=(14, 5))\n",
        "\n",
        "# Create a box plot\n",
        "sns.boxplot(data=df3, x=\"systolic\", color='orange')\n",
        "plt.title('Box Plot of systolic blood pressure')\n",
        "plt.xlabel('systolic')\n",
        "\n",
        "# Show the plot\n",
        "plt.show()"
      ]
    },
    {
      "cell_type": "markdown",
      "metadata": {
        "id": "nKxNyC3Kxzlw"
      },
      "source": [
        "0mmHg seems not possible\n",
        "\n",
        "Furthermore, on the oppoosite side, systolic blood pressure of 200 mmHg is considered dangerously high and falls into the category of a hypertensive crisis. However that is a possible value."
      ]
    },
    {
      "cell_type": "code",
      "execution_count": 222,
      "metadata": {
        "colab": {
          "base_uri": "https://localhost:8080/"
        },
        "id": "CajOqMmQwJHT",
        "outputId": "e82e0d49-2653-4ff1-c2ca-abc26e32d325"
      },
      "outputs": [
        {
          "output_type": "stream",
          "name": "stdout",
          "text": [
            "        age gender  height_cm  weight_kg  body fat_%  diastolic  systolic  \\\n",
            "10624  26.0      F      160.0      63.56        32.0        0.0       0.0   \n",
            "\n",
            "       gripForce  sit and bend forward_cm  sit-ups counts  broad jump_cm class  \n",
            "10624       23.7                     17.1            23.0          128.0     D  \n"
          ]
        }
      ],
      "source": [
        "# Records where systolic is less than 20\n",
        "print(df3[df3['systolic'] == 0])"
      ]
    },
    {
      "cell_type": "code",
      "execution_count": 223,
      "metadata": {
        "id": "Xw5qsZpdwcEb"
      },
      "outputs": [],
      "source": [
        "# Remove Records where systolic and diastolic is 0\n",
        "df4 = df3[df3['systolic'] > 0]"
      ]
    },
    {
      "cell_type": "code",
      "execution_count": 224,
      "metadata": {
        "colab": {
          "base_uri": "https://localhost:8080/"
        },
        "id": "rvhNesdWwq_1",
        "outputId": "ced8c98f-52d1-44f3-800b-a282478ac8c9"
      },
      "outputs": [
        {
          "output_type": "execute_result",
          "data": {
            "text/plain": [
              "(13384, 12)"
            ]
          },
          "metadata": {},
          "execution_count": 224
        }
      ],
      "source": [
        "df4.shape"
      ]
    },
    {
      "cell_type": "markdown",
      "metadata": {
        "id": "K9e_yrfWwO7x"
      },
      "source": [
        "Diastolic pressure = 0 mmHg and systolic pressure = 0 mmHg: These are impossible values in a living individual, strongly indicating a data entry error. Hence removed"
      ]
    },
    {
      "cell_type": "markdown",
      "metadata": {
        "id": "k9QcAh0itADl"
      },
      "source": [
        "**Diastolic blood pressure**"
      ]
    },
    {
      "cell_type": "code",
      "execution_count": 225,
      "metadata": {
        "colab": {
          "base_uri": "https://localhost:8080/",
          "height": 487
        },
        "id": "ip1MpHAzs5up",
        "outputId": "19da9298-0764-407d-fd8c-a15ae21c3018"
      },
      "outputs": [
        {
          "output_type": "display_data",
          "data": {
            "text/plain": [
              "<Figure size 1400x500 with 1 Axes>"
            ],
            "image/png": "[encoded data removed]"
          },
          "metadata": {}
        }
      ],
      "source": [
        "# Set the figure size\n",
        "plt.figure(figsize=(14, 5))\n",
        "\n",
        "# Create a box plot\n",
        "sns.boxplot(data=df4, x=\"diastolic\", color='orange')\n",
        "plt.title('Box Plot of diastolic blood pressure')\n",
        "plt.xlabel('diastolic')\n",
        "\n",
        "# Show the plot\n",
        "plt.show()"
      ]
    },
    {
      "cell_type": "code",
      "execution_count": 226,
      "metadata": {
        "colab": {
          "base_uri": "https://localhost:8080/"
        },
        "id": "hcfyeVPiuJPC",
        "outputId": "fa10fbef-b368-476f-ec2a-375b3fde7370"
      },
      "outputs": [
        {
          "output_type": "stream",
          "name": "stdout",
          "text": [
            "       age gender  height_cm  weight_kg  body fat_%  diastolic  systolic  \\\n",
            "336   35.0      M      173.1      77.60        22.8        8.0     122.0   \n",
            "3524  44.0      M      177.0      78.28        22.1        6.0     145.0   \n",
            "\n",
            "      gripForce  sit and bend forward_cm  sit-ups counts  broad jump_cm class  \n",
            "336        46.4                     16.7            47.0          216.0     B  \n",
            "3524       47.4                     10.5            42.0          215.0     B  \n"
          ]
        }
      ],
      "source": [
        "# Records where diastolic is less than 20\n",
        "print(df4[df4['diastolic'] < 20])"
      ]
    },
    {
      "cell_type": "markdown",
      "metadata": {
        "id": "69nFNE_Iu3d7"
      },
      "source": [
        "Diastolic pressure = 8 mmHg, 6mm. This is highly abnormal. Diastolic pressure below 40 mmHg is critical, and 8 and 6 is extremely low, suggesting a likely data error."
      ]
    },
    {
      "cell_type": "code",
      "execution_count": 227,
      "metadata": {
        "colab": {
          "base_uri": "https://localhost:8080/"
        },
        "id": "LO2q3hM-u_PQ",
        "outputId": "4186905e-aa32-4e84-d5e0-7d05ba942fd5"
      },
      "outputs": [
        {
          "output_type": "stream",
          "name": "stdout",
          "text": [
            "        age gender  height_cm  weight_kg  body fat_%  diastolic  systolic  \\\n",
            "0      27.0      M      172.3      75.24        21.3       80.0     130.0   \n",
            "1      25.0      M      165.0      55.80        15.7       77.0     126.0   \n",
            "2      31.0      M      179.6      78.00        20.1       92.0     152.0   \n",
            "3      32.0      M      174.5      71.10        18.4       76.0     147.0   \n",
            "4      28.0      M      173.8      67.70        17.1       70.0     127.0   \n",
            "...     ...    ...        ...        ...         ...        ...       ...   \n",
            "13388  25.0      M      172.1      71.80        16.2       74.0     141.0   \n",
            "13389  21.0      M      179.7      63.90        12.1       74.0     128.0   \n",
            "13390  39.0      M      177.2      80.50        20.1       78.0     132.0   \n",
            "13391  64.0      F      146.1      57.70        40.4       68.0     121.0   \n",
            "13392  34.0      M      164.0      66.10        19.5       82.0     150.0   \n",
            "\n",
            "       gripForce  sit and bend forward_cm  sit-ups counts  broad jump_cm class  \n",
            "0           54.9                     18.4            60.0          217.0     C  \n",
            "1           36.4                     16.3            53.0          229.0     A  \n",
            "2           44.8                     12.0            49.0          181.0     C  \n",
            "3           41.4                     15.2            53.0          219.0     B  \n",
            "4           43.5                     27.1            45.0          217.0     B  \n",
            "...          ...                      ...             ...            ...   ...  \n",
            "13388       35.8                     17.4            47.0          198.0     C  \n",
            "13389       33.0                      1.1            48.0          167.0     D  \n",
            "13390       63.5                     16.4            45.0          229.0     A  \n",
            "13391       19.3                      9.2             0.0           75.0     D  \n",
            "13392       35.9                      7.1            51.0          180.0     C  \n",
            "\n",
            "[13382 rows x 12 columns]\n"
          ]
        }
      ],
      "source": [
        "# Remove records where systolic is less than diastolic\n",
        "df5 = df4[df4['diastolic'] >= 20]\n",
        "\n",
        "# Display the cleaned DataFrame\n",
        "print(df5)"
      ]
    },
    {
      "cell_type": "code",
      "execution_count": 228,
      "metadata": {
        "colab": {
          "base_uri": "https://localhost:8080/"
        },
        "id": "kOWB8RajviaK",
        "outputId": "5d4242ce-9434-4282-cd3a-53777ef58fd8"
      },
      "outputs": [
        {
          "output_type": "execute_result",
          "data": {
            "text/plain": [
              "(13382, 12)"
            ]
          },
          "metadata": {},
          "execution_count": 228
        }
      ],
      "source": [
        "df5.shape"
      ]
    },
    {
      "cell_type": "markdown",
      "metadata": {
        "id": "bbLVYYb9pK5i"
      },
      "source": [
        "**Correlation Heatmap**"
      ]
    },
    {
      "cell_type": "code",
      "execution_count": 229,
      "metadata": {
        "colab": {
          "base_uri": "https://localhost:8080/",
          "height": 857
        },
        "id": "7QcUQaJ4pMmS",
        "outputId": "f7b9aba9-2809-414a-e1d4-1198345cb99b"
      },
      "outputs": [
        {
          "output_type": "display_data",
          "data": {
            "text/plain": [
              "<Figure size 1200x800 with 2 Axes>"
            ],
            "image/png": "[encoded data removed]"
          },
          "metadata": {}
        }
      ],
      "source": [
        "# Drop the 'gender' and 'class' columns\n",
        "correlation_data = df5.drop(columns=['gender', 'class'])\n",
        "\n",
        "# Calculate the correlation matrix\n",
        "correlation_matrix = correlation_data.corr()\n",
        "\n",
        "# Create a heatmap\n",
        "plt.figure(figsize=(12, 8))\n",
        "sns.heatmap(correlation_matrix, annot=True, fmt=\".2f\", cmap='coolwarm', square=True, cbar=True)\n",
        "plt.title(\"Correlation Heatmap of Variables\")\n",
        "plt.show()"
      ]
    },
    {
      "cell_type": "markdown",
      "metadata": {
        "id": "RTlkAta8nD3k"
      },
      "source": [
        "# **Feature Engineering**"
      ]
    },
    {
      "cell_type": "markdown",
      "metadata": {
        "id": "Zy5HlwK_m_IH"
      },
      "source": [
        "**Creation of BMI variable**"
      ]
    },
    {
      "cell_type": "code",
      "execution_count": 230,
      "metadata": {
        "colab": {
          "base_uri": "https://localhost:8080/",
          "height": 206
        },
        "id": "n4DhO5rQnCL7",
        "outputId": "a782175e-2ac3-4b97-d1f7-8aea593624fa"
      },
      "outputs": [
        {
          "output_type": "execute_result",
          "data": {
            "text/plain": [
              "    age gender  height_cm  weight_kg  body fat_%  diastolic  systolic  \\\n",
              "0  27.0      M      172.3      75.24        21.3       80.0     130.0   \n",
              "1  25.0      M      165.0      55.80        15.7       77.0     126.0   \n",
              "2  31.0      M      179.6      78.00        20.1       92.0     152.0   \n",
              "3  32.0      M      174.5      71.10        18.4       76.0     147.0   \n",
              "4  28.0      M      173.8      67.70        17.1       70.0     127.0   \n",
              "\n",
              "   gripForce  sit and bend forward_cm  sit-ups counts  broad jump_cm class  \\\n",
              "0       54.9                     18.4            60.0          217.0     C   \n",
              "1       36.4                     16.3            53.0          229.0     A   \n",
              "2       44.8                     12.0            49.0          181.0     C   \n",
              "3       41.4                     15.2            53.0          219.0     B   \n",
              "4       43.5                     27.1            45.0          217.0     B   \n",
              "\n",
              "         bmi  \n",
              "0  25.344179  \n",
              "1  20.495868  \n",
              "2  24.181428  \n",
              "3  23.349562  \n",
              "4  22.412439  "
            ],
            "text/html": [
              "\n",
              "  <div id=\"df-d63d544f-7b26-4223-acaf-8fdf96b97a3e\" class=\"colab-df-container\">\n",
              "    <div>\n",
              "<style scoped>\n",
              "    .dataframe tbody tr th:only-of-type {\n",
              "        vertical-align: middle;\n",
              "    }\n",
              "\n",
              "    .dataframe tbody tr th {\n",
              "        vertical-align: top;\n",
              "    }\n",
              "\n",
              "    .dataframe thead th {\n",
              "        text-align: right;\n",
              "    }\n",
              "</style>\n",
              "<table border=\"1\" class=\"dataframe\">\n",
              "  <thead>\n",
              "    <tr style=\"text-align: right;\">\n",
              "      <th></th>\n",
              "      <th>age</th>\n",
              "      <th>gender</th>\n",
              "      <th>height_cm</th>\n",
              "      <th>weight_kg</th>\n",
              "      <th>body fat_%</th>\n",
              "      <th>diastolic</th>\n",
              "      <th>systolic</th>\n",
              "      <th>gripForce</th>\n",
              "      <th>sit and bend forward_cm</th>\n",
              "      <th>sit-ups counts</th>\n",
              "      <th>broad jump_cm</th>\n",
              "      <th>class</th>\n",
              "      <th>bmi</th>\n",
              "    </tr>\n",
              "  </thead>\n",
              "  <tbody>\n",
              "    <tr>\n",
              "      <th>0</th>\n",
              "      <td>27.0</td>\n",
              "      <td>M</td>\n",
              "      <td>172.3</td>\n",
              "      <td>75.24</td>\n",
              "      <td>21.3</td>\n",
              "      <td>80.0</td>\n",
              "      <td>130.0</td>\n",
              "      <td>54.9</td>\n",
              "      <td>18.4</td>\n",
              "      <td>60.0</td>\n",
              "      <td>217.0</td>\n",
              "      <td>C</td>\n",
              "      <td>25.344179</td>\n",
              "    </tr>\n",
              "    <tr>\n",
              "      <th>1</th>\n",
              "      <td>25.0</td>\n",
              "      <td>M</td>\n",
              "      <td>165.0</td>\n",
              "      <td>55.80</td>\n",
              "      <td>15.7</td>\n",
              "      <td>77.0</td>\n",
              "      <td>126.0</td>\n",
              "      <td>36.4</td>\n",
              "      <td>16.3</td>\n",
              "      <td>53.0</td>\n",
              "      <td>229.0</td>\n",
              "      <td>A</td>\n",
              "      <td>20.495868</td>\n",
              "    </tr>\n",
              "    <tr>\n",
              "      <th>2</th>\n",
              "      <td>31.0</td>\n",
              "      <td>M</td>\n",
              "      <td>179.6</td>\n",
              "      <td>78.00</td>\n",
              "      <td>20.1</td>\n",
              "      <td>92.0</td>\n",
              "      <td>152.0</td>\n",
              "      <td>44.8</td>\n",
              "      <td>12.0</td>\n",
              "      <td>49.0</td>\n",
              "      <td>181.0</td>\n",
              "      <td>C</td>\n",
              "      <td>24.181428</td>\n",
              "    </tr>\n",
              "    <tr>\n",
              "      <th>3</th>\n",
              "      <td>32.0</td>\n",
              "      <td>M</td>\n",
              "      <td>174.5</td>\n",
              "      <td>71.10</td>\n",
              "      <td>18.4</td>\n",
              "      <td>76.0</td>\n",
              "      <td>147.0</td>\n",
              "      <td>41.4</td>\n",
              "      <td>15.2</td>\n",
              "      <td>53.0</td>\n",
              "      <td>219.0</td>\n",
              "      <td>B</td>\n",
              "      <td>23.349562</td>\n",
              "    </tr>\n",
              "    <tr>\n",
              "      <th>4</th>\n",
              "      <td>28.0</td>\n",
              "      <td>M</td>\n",
              "      <td>173.8</td>\n",
              "      <td>67.70</td>\n",
              "      <td>17.1</td>\n",
              "      <td>70.0</td>\n",
              "      <td>127.0</td>\n",
              "      <td>43.5</td>\n",
              "      <td>27.1</td>\n",
              "      <td>45.0</td>\n",
              "      <td>217.0</td>\n",
              "      <td>B</td>\n",
              "      <td>22.412439</td>\n",
              "    </tr>\n",
              "  </tbody>\n",
              "</table>\n",
              "</div>\n",
              "    <div class=\"colab-df-buttons\">\n",
              "\n",
              "  <div class=\"colab-df-container\">\n",
              "    <button class=\"colab-df-convert\" onclick=\"convertToInteractive('df-d63d544f-7b26-4223-acaf-8fdf96b97a3e')\"\n",
              "            title=\"Convert this dataframe to an interactive table.\"\n",
              "            style=\"display:none;\">\n",
              "\n",
              "  <svg xmlns=\"http://www.w3.org/2000/svg\" height=\"24px\" viewBox=\"0 -960 960 960\">\n",
              "    <path d=\"M120-120v-720h720v720H120Zm60-500h600v-160H180v160Zm220 220h160v-160H400v160Zm0 220h160v-160H400v160ZM180-400h160v-160H180v160Zm440 0h160v-160H620v160ZM180-180h160v-160H180v160Zm440 0h160v-160H620v160Z\"/>\n",
              "  </svg>\n",
              "    </button>\n",
              "\n",
              "  <style>\n",
              "    .colab-df-container {\n",
              "      display:flex;\n",
              "      gap: 12px;\n",
              "    }\n",
              "\n",
              "    .colab-df-convert {\n",
              "      background-color: #E8F0FE;\n",
              "      border: none;\n",
              "      border-radius: 50%;\n",
              "      cursor: pointer;\n",
              "      display: none;\n",
              "      fill: #1967D2;\n",
              "      height: 32px;\n",
              "      padding: 0 0 0 0;\n",
              "      width: 32px;\n",
              "    }\n",
              "\n",
              "    .colab-df-convert:hover {\n",
              "      background-color: #E2EBFA;\n",
              "      box-shadow: 0px 1px 2px rgba(60, 64, 67, 0.3), 0px 1px 3px 1px rgba(60, 64, 67, 0.15);\n",
              "      fill: #174EA6;\n",
              "    }\n",
              "\n",
              "    .colab-df-buttons div {\n",
              "      margin-bottom: 4px;\n",
              "    }\n",
              "\n",
              "    [theme=dark] .colab-df-convert {\n",
              "      background-color: #3B4455;\n",
              "      fill: #D2E3FC;\n",
              "    }\n",
              "\n",
              "    [theme=dark] .colab-df-convert:hover {\n",
              "      background-color: #434B5C;\n",
              "      box-shadow: 0px 1px 3px 1px rgba(0, 0, 0, 0.15);\n",
              "      filter: drop-shadow(0px 1px 2px rgba(0, 0, 0, 0.3));\n",
              "      fill: #FFFFFF;\n",
              "    }\n",
              "  </style>\n",
              "\n",
              "    <script>\n",
              "      const buttonEl =\n",
              "        document.querySelector('#df-d63d544f-7b26-4223-acaf-8fdf96b97a3e button.colab-df-convert');\n",
              "      buttonEl.style.display =\n",
              "        google.colab.kernel.accessAllowed ? 'block' : 'none';\n",
              "\n",
              "      async function convertToInteractive(key) {\n",
              "        const element = document.querySelector('#df-d63d544f-7b26-4223-acaf-8fdf96b97a3e');\n",
              "        const dataTable =\n",
              "          await google.colab.kernel.invokeFunction('convertToInteractive',\n",
              "                                                    [key], {});\n",
              "        if (!dataTable) return;\n",
              "\n",
              "        const docLinkHtml = 'Like what you see? Visit the ' +\n",
              "          '<a target=\"_blank\" href=https://colab.research.google.com/notebooks/data_table.ipynb>data table notebook</a>'\n",
              "          + ' to learn more about interactive tables.';\n",
              "        element.innerHTML = '';\n",
              "        dataTable['output_type'] = 'display_data';\n",
              "        await google.colab.output.renderOutput(dataTable, element);\n",
              "        const docLink = document.createElement('div');\n",
              "        docLink.innerHTML = docLinkHtml;\n",
              "        element.appendChild(docLink);\n",
              "      }\n",
              "    </script>\n",
              "  </div>\n",
              "\n",
              "\n",
              "<div id=\"df-d8ea3a94-cca4-4166-adae-12c6b8df6c74\">\n",
              "  <button class=\"colab-df-quickchart\" onclick=\"quickchart('df-d8ea3a94-cca4-4166-adae-12c6b8df6c74')\"\n",
              "            title=\"Suggest charts\"\n",
              "            style=\"display:none;\">\n",
              "\n",
              "<svg xmlns=\"http://www.w3.org/2000/svg\" height=\"24px\"viewBox=\"0 0 24 24\"\n",
              "     width=\"24px\">\n",
              "    <g>\n",
              "        <path d=\"M19 3H5c-1.1 0-2 .9-2 2v14c0 1.1.9 2 2 2h14c1.1 0 2-.9 2-2V5c0-1.1-.9-2-2-2zM9 17H7v-7h2v7zm4 0h-2V7h2v10zm4 0h-2v-4h2v4z\"/>\n",
              "    </g>\n",
              "</svg>\n",
              "  </button>\n",
              "\n",
              "<style>\n",
              "  .colab-df-quickchart {\n",
              "      --bg-color: #E8F0FE;\n",
              "      --fill-color: #1967D2;\n",
              "      --hover-bg-color: #E2EBFA;\n",
              "      --hover-fill-color: #174EA6;\n",
              "      --disabled-fill-color: #AAA;\n",
              "      --disabled-bg-color: #DDD;\n",
              "  }\n",
              "\n",
              "  [theme=dark] .colab-df-quickchart {\n",
              "      --bg-color: #3B4455;\n",
              "      --fill-color: #D2E3FC;\n",
              "      --hover-bg-color: #434B5C;\n",
              "      --hover-fill-color: #FFFFFF;\n",
              "      --disabled-bg-color: #3B4455;\n",
              "      --disabled-fill-color: #666;\n",
              "  }\n",
              "\n",
              "  .colab-df-quickchart {\n",
              "    background-color: var(--bg-color);\n",
              "    border: none;\n",
              "    border-radius: 50%;\n",
              "    cursor: pointer;\n",
              "    display: none;\n",
              "    fill: var(--fill-color);\n",
              "    height: 32px;\n",
              "    padding: 0;\n",
              "    width: 32px;\n",
              "  }\n",
              "\n",
              "  .colab-df-quickchart:hover {\n",
              "    background-color: var(--hover-bg-color);\n",
              "    box-shadow: 0 1px 2px rgba(60, 64, 67, 0.3), 0 1px 3px 1px rgba(60, 64, 67, 0.15);\n",
              "    fill: var(--button-hover-fill-color);\n",
              "  }\n",
              "\n",
              "  .colab-df-quickchart-complete:disabled,\n",
              "  .colab-df-quickchart-complete:disabled:hover {\n",
              "    background-color: var(--disabled-bg-color);\n",
              "    fill: var(--disabled-fill-color);\n",
              "    box-shadow: none;\n",
              "  }\n",
              "\n",
              "  .colab-df-spinner {\n",
              "    border: 2px solid var(--fill-color);\n",
              "    border-color: transparent;\n",
              "    border-bottom-color: var(--fill-color);\n",
              "    animation:\n",
              "      spin 1s steps(1) infinite;\n",
              "  }\n",
              "\n",
              "  @keyframes spin {\n",
              "    0% {\n",
              "      border-color: transparent;\n",
              "      border-bottom-color: var(--fill-color);\n",
              "      border-left-color: var(--fill-color);\n",
              "    }\n",
              "    20% {\n",
              "      border-color: transparent;\n",
              "      border-left-color: var(--fill-color);\n",
              "      border-top-color: var(--fill-color);\n",
              "    }\n",
              "    30% {\n",
              "      border-color: transparent;\n",
              "      border-left-color: var(--fill-color);\n",
              "      border-top-color: var(--fill-color);\n",
              "      border-right-color: var(--fill-color);\n",
              "    }\n",
              "    40% {\n",
              "      border-color: transparent;\n",
              "      border-right-color: var(--fill-color);\n",
              "      border-top-color: var(--fill-color);\n",
              "    }\n",
              "    60% {\n",
              "      border-color: transparent;\n",
              "      border-right-color: var(--fill-color);\n",
              "    }\n",
              "    80% {\n",
              "      border-color: transparent;\n",
              "      border-right-color: var(--fill-color);\n",
              "      border-bottom-color: var(--fill-color);\n",
              "    }\n",
              "    90% {\n",
              "      border-color: transparent;\n",
              "      border-bottom-color: var(--fill-color);\n",
              "    }\n",
              "  }\n",
              "</style>\n",
              "\n",
              "  <script>\n",
              "    async function quickchart(key) {\n",
              "      const quickchartButtonEl =\n",
              "        document.querySelector('#' + key + ' button');\n",
              "      quickchartButtonEl.disabled = true;  // To prevent multiple clicks.\n",
              "      quickchartButtonEl.classList.add('colab-df-spinner');\n",
              "      try {\n",
              "        const charts = await google.colab.kernel.invokeFunction(\n",
              "            'suggestCharts', [key], {});\n",
              "      } catch (error) {\n",
              "        console.error('Error during call to suggestCharts:', error);\n",
              "      }\n",
              "      quickchartButtonEl.classList.remove('colab-df-spinner');\n",
              "      quickchartButtonEl.classList.add('colab-df-quickchart-complete');\n",
              "    }\n",
              "    (() => {\n",
              "      let quickchartButtonEl =\n",
              "        document.querySelector('#df-d8ea3a94-cca4-4166-adae-12c6b8df6c74 button');\n",
              "      quickchartButtonEl.style.display =\n",
              "        google.colab.kernel.accessAllowed ? 'block' : 'none';\n",
              "    })();\n",
              "  </script>\n",
              "</div>\n",
              "\n",
              "    </div>\n",
              "  </div>\n"
            ],
            "application/vnd.google.colaboratory.intrinsic+json": {
              "type": "dataframe",
              "variable_name": "df5",
              "summary": "{\n  \"name\": \"df5\",\n  \"rows\": 13382,\n  \"fields\": [\n    {\n      \"column\": \"age\",\n      \"properties\": {\n        \"dtype\": \"number\",\n        \"std\": 13.628808900412064,\n        \"min\": 21.0,\n        \"max\": 64.0,\n        \"num_unique_values\": 44,\n        \"samples\": [\n          41.0,\n          49.0,\n          40.0\n        ],\n        \"semantic_type\": \"\",\n        \"description\": \"\"\n      }\n    },\n    {\n      \"column\": \"gender\",\n      \"properties\": {\n        \"dtype\": \"category\",\n        \"num_unique_values\": 2,\n        \"samples\": [\n          \"F\",\n          \"M\"\n        ],\n        \"semantic_type\": \"\",\n        \"description\": \"\"\n      }\n    },\n    {\n      \"column\": \"height_cm\",\n      \"properties\": {\n        \"dtype\": \"number\",\n        \"std\": 8.427228664145558,\n        \"min\": 125.0,\n        \"max\": 193.8,\n        \"num_unique_values\": 467,\n        \"samples\": [\n          164.0,\n          171.5\n        ],\n        \"semantic_type\": \"\",\n        \"description\": \"\"\n      }\n    },\n    {\n      \"column\": \"weight_kg\",\n      \"properties\": {\n        \"dtype\": \"number\",\n        \"std\": 11.95085812060467,\n        \"min\": 26.3,\n        \"max\": 138.1,\n        \"num_unique_values\": 1394,\n        \"samples\": [\n          48.8,\n          71.18\n        ],\n        \"semantic_type\": \"\",\n        \"description\": \"\"\n      }\n    },\n    {\n      \"column\": \"body fat_%\",\n      \"properties\": {\n        \"dtype\": \"number\",\n        \"std\": 7.2426837643568875,\n        \"min\": 3.0,\n        \"max\": 54.9,\n        \"num_unique_values\": 526,\n        \"samples\": [\n          29.5,\n          28.20985\n        ],\n        \"semantic_type\": \"\",\n        \"description\": \"\"\n      }\n    },\n    {\n      \"column\": \"diastolic\",\n      \"properties\": {\n        \"dtype\": \"number\",\n        \"std\": 10.660575056233327,\n        \"min\": 30.0,\n        \"max\": 126.0,\n        \"num_unique_values\": 84,\n        \"samples\": [\n          43.0,\n          80.0\n        ],\n        \"semantic_type\": \"\",\n        \"description\": \"\"\n      }\n    },\n    {\n      \"column\": \"systolic\",\n      \"properties\": {\n        \"dtype\": \"number\",\n        \"std\": 14.612155694420679,\n        \"min\": 77.0,\n        \"max\": 201.0,\n        \"num_unique_values\": 99,\n        \"samples\": [\n          101.0,\n          118.0\n        ],\n        \"semantic_type\": \"\",\n        \"description\": \"\"\n      }\n    },\n    {\n      \"column\": \"gripForce\",\n      \"properties\": {\n        \"dtype\": \"number\",\n        \"std\": 10.625069772457989,\n        \"min\": 0.0,\n        \"max\": 70.5,\n        \"num_unique_values\": 550,\n        \"samples\": [\n          55.4,\n          53.4\n        ],\n        \"semantic_type\": \"\",\n        \"description\": \"\"\n      }\n    },\n    {\n      \"column\": \"sit and bend forward_cm\",\n      \"properties\": {\n        \"dtype\": \"number\",\n        \"std\": 8.152973103927362,\n        \"min\": -25.0,\n        \"max\": 42.0,\n        \"num_unique_values\": 526,\n        \"samples\": [\n          -3.4,\n          -5.8\n        ],\n        \"semantic_type\": \"\",\n        \"description\": \"\"\n      }\n    },\n    {\n      \"column\": \"sit-ups counts\",\n      \"properties\": {\n        \"dtype\": \"number\",\n        \"std\": 14.27802145388057,\n        \"min\": 0.0,\n        \"max\": 80.0,\n        \"num_unique_values\": 81,\n        \"samples\": [\n          56.0,\n          60.0\n        ],\n        \"semantic_type\": \"\",\n        \"description\": \"\"\n      }\n    },\n    {\n      \"column\": \"broad jump_cm\",\n      \"properties\": {\n        \"dtype\": \"number\",\n        \"std\": 39.87086752699696,\n        \"min\": 0.0,\n        \"max\": 303.0,\n        \"num_unique_values\": 245,\n        \"samples\": [\n          151.0,\n          234.0\n        ],\n        \"semantic_type\": \"\",\n        \"description\": \"\"\n      }\n    },\n    {\n      \"column\": \"class\",\n      \"properties\": {\n        \"dtype\": \"category\",\n        \"num_unique_values\": 4,\n        \"samples\": [\n          \"A\",\n          \"D\"\n        ],\n        \"semantic_type\": \"\",\n        \"description\": \"\"\n      }\n    },\n    {\n      \"column\": \"bmi\",\n      \"properties\": {\n        \"dtype\": \"number\",\n        \"std\": 2.941584169626769,\n        \"min\": 11.103975856663292,\n        \"max\": 42.90650887573965,\n        \"num_unique_values\": 12395,\n        \"samples\": [\n          22.019760208180145,\n          29.525714400179346\n        ],\n        \"semantic_type\": \"\",\n        \"description\": \"\"\n      }\n    }\n  ]\n}"
            }
          },
          "metadata": {},
          "execution_count": 230
        }
      ],
      "source": [
        "# Convert height from cm to meters\n",
        "df5['height_m'] = df5['height_cm'] / 100\n",
        "\n",
        "# Calculate BMI and create a new column\n",
        "df5['bmi'] = df5['weight_kg'] / (df5['height_m'] ** 2)\n",
        "\n",
        "# Optionally drop the 'height_m' column if you don't need it anymore\n",
        "df5 = df5.drop(columns=['height_m'])\n",
        "\n",
        "# Display the updated dataframe\n",
        "df5.head()"
      ]
    },
    {
      "cell_type": "markdown",
      "metadata": {
        "id": "7GmXo424niWR"
      },
      "source": [
        "**Creation of MAP(Mean Arterial Pressure)**"
      ]
    },
    {
      "cell_type": "markdown",
      "metadata": {
        "id": "Zi9SYgNNpe9C"
      },
      "source": [
        "The Mean Arterial Pressure (MAP) is a derived variable that provides a more comprehensive view of blood pressure over the cardiac cycle. It reflects the average pressure in a person's arteries during one heartbeat, incorporating both SBP and DBP into a single metric."
      ]
    },
    {
      "cell_type": "code",
      "execution_count": 231,
      "metadata": {
        "colab": {
          "base_uri": "https://localhost:8080/",
          "height": 224
        },
        "id": "ppH229PonO3M",
        "outputId": "fd3e334b-2cb9-418d-eb3f-2c252dcdbd85"
      },
      "outputs": [
        {
          "output_type": "execute_result",
          "data": {
            "text/plain": [
              "    age gender  height_cm  weight_kg  body fat_%  diastolic  systolic  \\\n",
              "0  27.0      M      172.3      75.24        21.3       80.0     130.0   \n",
              "1  25.0      M      165.0      55.80        15.7       77.0     126.0   \n",
              "2  31.0      M      179.6      78.00        20.1       92.0     152.0   \n",
              "3  32.0      M      174.5      71.10        18.4       76.0     147.0   \n",
              "4  28.0      M      173.8      67.70        17.1       70.0     127.0   \n",
              "\n",
              "   gripForce  sit and bend forward_cm  sit-ups counts  broad jump_cm class  \\\n",
              "0       54.9                     18.4            60.0          217.0     C   \n",
              "1       36.4                     16.3            53.0          229.0     A   \n",
              "2       44.8                     12.0            49.0          181.0     C   \n",
              "3       41.4                     15.2            53.0          219.0     B   \n",
              "4       43.5                     27.1            45.0          217.0     B   \n",
              "\n",
              "         bmi         map  \n",
              "0  25.344179   96.666667  \n",
              "1  20.495868   93.333333  \n",
              "2  24.181428  112.000000  \n",
              "3  23.349562   99.666667  \n",
              "4  22.412439   89.000000  "
            ],
            "text/html": [
              "\n",
              "  <div id=\"df-4ebfa0ec-2ff2-4988-8241-3fa0df4d397e\" class=\"colab-df-container\">\n",
              "    <div>\n",
              "<style scoped>\n",
              "    .dataframe tbody tr th:only-of-type {\n",
              "        vertical-align: middle;\n",
              "    }\n",
              "\n",
              "    .dataframe tbody tr th {\n",
              "        vertical-align: top;\n",
              "    }\n",
              "\n",
              "    .dataframe thead th {\n",
              "        text-align: right;\n",
              "    }\n",
              "</style>\n",
              "<table border=\"1\" class=\"dataframe\">\n",
              "  <thead>\n",
              "    <tr style=\"text-align: right;\">\n",
              "      <th></th>\n",
              "      <th>age</th>\n",
              "      <th>gender</th>\n",
              "      <th>height_cm</th>\n",
              "      <th>weight_kg</th>\n",
              "      <th>body fat_%</th>\n",
              "      <th>diastolic</th>\n",
              "      <th>systolic</th>\n",
              "      <th>gripForce</th>\n",
              "      <th>sit and bend forward_cm</th>\n",
              "      <th>sit-ups counts</th>\n",
              "      <th>broad jump_cm</th>\n",
              "      <th>class</th>\n",
              "      <th>bmi</th>\n",
              "      <th>map</th>\n",
              "    </tr>\n",
              "  </thead>\n",
              "  <tbody>\n",
              "    <tr>\n",
              "      <th>0</th>\n",
              "      <td>27.0</td>\n",
              "      <td>M</td>\n",
              "      <td>172.3</td>\n",
              "      <td>75.24</td>\n",
              "      <td>21.3</td>\n",
              "      <td>80.0</td>\n",
              "      <td>130.0</td>\n",
              "      <td>54.9</td>\n",
              "      <td>18.4</td>\n",
              "      <td>60.0</td>\n",
              "      <td>217.0</td>\n",
              "      <td>C</td>\n",
              "      <td>25.344179</td>\n",
              "      <td>96.666667</td>\n",
              "    </tr>\n",
              "    <tr>\n",
              "      <th>1</th>\n",
              "      <td>25.0</td>\n",
              "      <td>M</td>\n",
              "      <td>165.0</td>\n",
              "      <td>55.80</td>\n",
              "      <td>15.7</td>\n",
              "      <td>77.0</td>\n",
              "      <td>126.0</td>\n",
              "      <td>36.4</td>\n",
              "      <td>16.3</td>\n",
              "      <td>53.0</td>\n",
              "      <td>229.0</td>\n",
              "      <td>A</td>\n",
              "      <td>20.495868</td>\n",
              "      <td>93.333333</td>\n",
              "    </tr>\n",
              "    <tr>\n",
              "      <th>2</th>\n",
              "      <td>31.0</td>\n",
              "      <td>M</td>\n",
              "      <td>179.6</td>\n",
              "      <td>78.00</td>\n",
              "      <td>20.1</td>\n",
              "      <td>92.0</td>\n",
              "      <td>152.0</td>\n",
              "      <td>44.8</td>\n",
              "      <td>12.0</td>\n",
              "      <td>49.0</td>\n",
              "      <td>181.0</td>\n",
              "      <td>C</td>\n",
              "      <td>24.181428</td>\n",
              "      <td>112.000000</td>\n",
              "    </tr>\n",
              "    <tr>\n",
              "      <th>3</th>\n",
              "      <td>32.0</td>\n",
              "      <td>M</td>\n",
              "      <td>174.5</td>\n",
              "      <td>71.10</td>\n",
              "      <td>18.4</td>\n",
              "      <td>76.0</td>\n",
              "      <td>147.0</td>\n",
              "      <td>41.4</td>\n",
              "      <td>15.2</td>\n",
              "      <td>53.0</td>\n",
              "      <td>219.0</td>\n",
              "      <td>B</td>\n",
              "      <td>23.349562</td>\n",
              "      <td>99.666667</td>\n",
              "    </tr>\n",
              "    <tr>\n",
              "      <th>4</th>\n",
              "      <td>28.0</td>\n",
              "      <td>M</td>\n",
              "      <td>173.8</td>\n",
              "      <td>67.70</td>\n",
              "      <td>17.1</td>\n",
              "      <td>70.0</td>\n",
              "      <td>127.0</td>\n",
              "      <td>43.5</td>\n",
              "      <td>27.1</td>\n",
              "      <td>45.0</td>\n",
              "      <td>217.0</td>\n",
              "      <td>B</td>\n",
              "      <td>22.412439</td>\n",
              "      <td>89.000000</td>\n",
              "    </tr>\n",
              "  </tbody>\n",
              "</table>\n",
              "</div>\n",
              "    <div class=\"colab-df-buttons\">\n",
              "\n",
              "  <div class=\"colab-df-container\">\n",
              "    <button class=\"colab-df-convert\" onclick=\"convertToInteractive('df-4ebfa0ec-2ff2-4988-8241-3fa0df4d397e')\"\n",
              "            title=\"Convert this dataframe to an interactive table.\"\n",
              "            style=\"display:none;\">\n",
              "\n",
              "  <svg xmlns=\"http://www.w3.org/2000/svg\" height=\"24px\" viewBox=\"0 -960 960 960\">\n",
              "    <path d=\"M120-120v-720h720v720H120Zm60-500h600v-160H180v160Zm220 220h160v-160H400v160Zm0 220h160v-160H400v160ZM180-400h160v-160H180v160Zm440 0h160v-160H620v160ZM180-180h160v-160H180v160Zm440 0h160v-160H620v160Z\"/>\n",
              "  </svg>\n",
              "    </button>\n",
              "\n",
              "  <style>\n",
              "    .colab-df-container {\n",
              "      display:flex;\n",
              "      gap: 12px;\n",
              "    }\n",
              "\n",
              "    .colab-df-convert {\n",
              "      background-color: #E8F0FE;\n",
              "      border: none;\n",
              "      border-radius: 50%;\n",
              "      cursor: pointer;\n",
              "      display: none;\n",
              "      fill: #1967D2;\n",
              "      height: 32px;\n",
              "      padding: 0 0 0 0;\n",
              "      width: 32px;\n",
              "    }\n",
              "\n",
              "    .colab-df-convert:hover {\n",
              "      background-color: #E2EBFA;\n",
              "      box-shadow: 0px 1px 2px rgba(60, 64, 67, 0.3), 0px 1px 3px 1px rgba(60, 64, 67, 0.15);\n",
              "      fill: #174EA6;\n",
              "    }\n",
              "\n",
              "    .colab-df-buttons div {\n",
              "      margin-bottom: 4px;\n",
              "    }\n",
              "\n",
              "    [theme=dark] .colab-df-convert {\n",
              "      background-color: #3B4455;\n",
              "      fill: #D2E3FC;\n",
              "    }\n",
              "\n",
              "    [theme=dark] .colab-df-convert:hover {\n",
              "      background-color: #434B5C;\n",
              "      box-shadow: 0px 1px 3px 1px rgba(0, 0, 0, 0.15);\n",
              "      filter: drop-shadow(0px 1px 2px rgba(0, 0, 0, 0.3));\n",
              "      fill: #FFFFFF;\n",
              "    }\n",
              "  </style>\n",
              "\n",
              "    <script>\n",
              "      const buttonEl =\n",
              "        document.querySelector('#df-4ebfa0ec-2ff2-4988-8241-3fa0df4d397e button.colab-df-convert');\n",
              "      buttonEl.style.display =\n",
              "        google.colab.kernel.accessAllowed ? 'block' : 'none';\n",
              "\n",
              "      async function convertToInteractive(key) {\n",
              "        const element = document.querySelector('#df-4ebfa0ec-2ff2-4988-8241-3fa0df4d397e');\n",
              "        const dataTable =\n",
              "          await google.colab.kernel.invokeFunction('convertToInteractive',\n",
              "                                                    [key], {});\n",
              "        if (!dataTable) return;\n",
              "\n",
              "        const docLinkHtml = 'Like what you see? Visit the ' +\n",
              "          '<a target=\"_blank\" href=https://colab.research.google.com/notebooks/data_table.ipynb>data table notebook</a>'\n",
              "          + ' to learn more about interactive tables.';\n",
              "        element.innerHTML = '';\n",
              "        dataTable['output_type'] = 'display_data';\n",
              "        await google.colab.output.renderOutput(dataTable, element);\n",
              "        const docLink = document.createElement('div');\n",
              "        docLink.innerHTML = docLinkHtml;\n",
              "        element.appendChild(docLink);\n",
              "      }\n",
              "    </script>\n",
              "  </div>\n",
              "\n",
              "\n",
              "<div id=\"df-46a2c567-2f0b-4152-a8bd-0ed0774ed9c9\">\n",
              "  <button class=\"colab-df-quickchart\" onclick=\"quickchart('df-46a2c567-2f0b-4152-a8bd-0ed0774ed9c9')\"\n",
              "            title=\"Suggest charts\"\n",
              "            style=\"display:none;\">\n",
              "\n",
              "<svg xmlns=\"http://www.w3.org/2000/svg\" height=\"24px\"viewBox=\"0 0 24 24\"\n",
              "     width=\"24px\">\n",
              "    <g>\n",
              "        <path d=\"M19 3H5c-1.1 0-2 .9-2 2v14c0 1.1.9 2 2 2h14c1.1 0 2-.9 2-2V5c0-1.1-.9-2-2-2zM9 17H7v-7h2v7zm4 0h-2V7h2v10zm4 0h-2v-4h2v4z\"/>\n",
              "    </g>\n",
              "</svg>\n",
              "  </button>\n",
              "\n",
              "<style>\n",
              "  .colab-df-quickchart {\n",
              "      --bg-color: #E8F0FE;\n",
              "      --fill-color: #1967D2;\n",
              "      --hover-bg-color: #E2EBFA;\n",
              "      --hover-fill-color: #174EA6;\n",
              "      --disabled-fill-color: #AAA;\n",
              "      --disabled-bg-color: #DDD;\n",
              "  }\n",
              "\n",
              "  [theme=dark] .colab-df-quickchart {\n",
              "      --bg-color: #3B4455;\n",
              "      --fill-color: #D2E3FC;\n",
              "      --hover-bg-color: #434B5C;\n",
              "      --hover-fill-color: #FFFFFF;\n",
              "      --disabled-bg-color: #3B4455;\n",
              "      --disabled-fill-color: #666;\n",
              "  }\n",
              "\n",
              "  .colab-df-quickchart {\n",
              "    background-color: var(--bg-color);\n",
              "    border: none;\n",
              "    border-radius: 50%;\n",
              "    cursor: pointer;\n",
              "    display: none;\n",
              "    fill: var(--fill-color);\n",
              "    height: 32px;\n",
              "    padding: 0;\n",
              "    width: 32px;\n",
              "  }\n",
              "\n",
              "  .colab-df-quickchart:hover {\n",
              "    background-color: var(--hover-bg-color);\n",
              "    box-shadow: 0 1px 2px rgba(60, 64, 67, 0.3), 0 1px 3px 1px rgba(60, 64, 67, 0.15);\n",
              "    fill: var(--button-hover-fill-color);\n",
              "  }\n",
              "\n",
              "  .colab-df-quickchart-complete:disabled,\n",
              "  .colab-df-quickchart-complete:disabled:hover {\n",
              "    background-color: var(--disabled-bg-color);\n",
              "    fill: var(--disabled-fill-color);\n",
              "    box-shadow: none;\n",
              "  }\n",
              "\n",
              "  .colab-df-spinner {\n",
              "    border: 2px solid var(--fill-color);\n",
              "    border-color: transparent;\n",
              "    border-bottom-color: var(--fill-color);\n",
              "    animation:\n",
              "      spin 1s steps(1) infinite;\n",
              "  }\n",
              "\n",
              "  @keyframes spin {\n",
              "    0% {\n",
              "      border-color: transparent;\n",
              "      border-bottom-color: var(--fill-color);\n",
              "      border-left-color: var(--fill-color);\n",
              "    }\n",
              "    20% {\n",
              "      border-color: transparent;\n",
              "      border-left-color: var(--fill-color);\n",
              "      border-top-color: var(--fill-color);\n",
              "    }\n",
              "    30% {\n",
              "      border-color: transparent;\n",
              "      border-left-color: var(--fill-color);\n",
              "      border-top-color: var(--fill-color);\n",
              "      border-right-color: var(--fill-color);\n",
              "    }\n",
              "    40% {\n",
              "      border-color: transparent;\n",
              "      border-right-color: var(--fill-color);\n",
              "      border-top-color: var(--fill-color);\n",
              "    }\n",
              "    60% {\n",
              "      border-color: transparent;\n",
              "      border-right-color: var(--fill-color);\n",
              "    }\n",
              "    80% {\n",
              "      border-color: transparent;\n",
              "      border-right-color: var(--fill-color);\n",
              "      border-bottom-color: var(--fill-color);\n",
              "    }\n",
              "    90% {\n",
              "      border-color: transparent;\n",
              "      border-bottom-color: var(--fill-color);\n",
              "    }\n",
              "  }\n",
              "</style>\n",
              "\n",
              "  <script>\n",
              "    async function quickchart(key) {\n",
              "      const quickchartButtonEl =\n",
              "        document.querySelector('#' + key + ' button');\n",
              "      quickchartButtonEl.disabled = true;  // To prevent multiple clicks.\n",
              "      quickchartButtonEl.classList.add('colab-df-spinner');\n",
              "      try {\n",
              "        const charts = await google.colab.kernel.invokeFunction(\n",
              "            'suggestCharts', [key], {});\n",
              "      } catch (error) {\n",
              "        console.error('Error during call to suggestCharts:', error);\n",
              "      }\n",
              "      quickchartButtonEl.classList.remove('colab-df-spinner');\n",
              "      quickchartButtonEl.classList.add('colab-df-quickchart-complete');\n",
              "    }\n",
              "    (() => {\n",
              "      let quickchartButtonEl =\n",
              "        document.querySelector('#df-46a2c567-2f0b-4152-a8bd-0ed0774ed9c9 button');\n",
              "      quickchartButtonEl.style.display =\n",
              "        google.colab.kernel.accessAllowed ? 'block' : 'none';\n",
              "    })();\n",
              "  </script>\n",
              "</div>\n",
              "\n",
              "    </div>\n",
              "  </div>\n"
            ],
            "application/vnd.google.colaboratory.intrinsic+json": {
              "type": "dataframe",
              "variable_name": "df5",
              "summary": "{\n  \"name\": \"df5\",\n  \"rows\": 13382,\n  \"fields\": [\n    {\n      \"column\": \"age\",\n      \"properties\": {\n        \"dtype\": \"number\",\n        \"std\": 13.628808900412064,\n        \"min\": 21.0,\n        \"max\": 64.0,\n        \"num_unique_values\": 44,\n        \"samples\": [\n          41.0,\n          49.0,\n          40.0\n        ],\n        \"semantic_type\": \"\",\n        \"description\": \"\"\n      }\n    },\n    {\n      \"column\": \"gender\",\n      \"properties\": {\n        \"dtype\": \"category\",\n        \"num_unique_values\": 2,\n        \"samples\": [\n          \"F\",\n          \"M\"\n        ],\n        \"semantic_type\": \"\",\n        \"description\": \"\"\n      }\n    },\n    {\n      \"column\": \"height_cm\",\n      \"properties\": {\n        \"dtype\": \"number\",\n        \"std\": 8.427228664145558,\n        \"min\": 125.0,\n        \"max\": 193.8,\n        \"num_unique_values\": 467,\n        \"samples\": [\n          164.0,\n          171.5\n        ],\n        \"semantic_type\": \"\",\n        \"description\": \"\"\n      }\n    },\n    {\n      \"column\": \"weight_kg\",\n      \"properties\": {\n        \"dtype\": \"number\",\n        \"std\": 11.95085812060467,\n        \"min\": 26.3,\n        \"max\": 138.1,\n        \"num_unique_values\": 1394,\n        \"samples\": [\n          48.8,\n          71.18\n        ],\n        \"semantic_type\": \"\",\n        \"description\": \"\"\n      }\n    },\n    {\n      \"column\": \"body fat_%\",\n      \"properties\": {\n        \"dtype\": \"number\",\n        \"std\": 7.2426837643568875,\n        \"min\": 3.0,\n        \"max\": 54.9,\n        \"num_unique_values\": 526,\n        \"samples\": [\n          29.5,\n          28.20985\n        ],\n        \"semantic_type\": \"\",\n        \"description\": \"\"\n      }\n    },\n    {\n      \"column\": \"diastolic\",\n      \"properties\": {\n        \"dtype\": \"number\",\n        \"std\": 10.660575056233327,\n        \"min\": 30.0,\n        \"max\": 126.0,\n        \"num_unique_values\": 84,\n        \"samples\": [\n          43.0,\n          80.0\n        ],\n        \"semantic_type\": \"\",\n        \"description\": \"\"\n      }\n    },\n    {\n      \"column\": \"systolic\",\n      \"properties\": {\n        \"dtype\": \"number\",\n        \"std\": 14.612155694420679,\n        \"min\": 77.0,\n        \"max\": 201.0,\n        \"num_unique_values\": 99,\n        \"samples\": [\n          101.0,\n          118.0\n        ],\n        \"semantic_type\": \"\",\n        \"description\": \"\"\n      }\n    },\n    {\n      \"column\": \"gripForce\",\n      \"properties\": {\n        \"dtype\": \"number\",\n        \"std\": 10.625069772457989,\n        \"min\": 0.0,\n        \"max\": 70.5,\n        \"num_unique_values\": 550,\n        \"samples\": [\n          55.4,\n          53.4\n        ],\n        \"semantic_type\": \"\",\n        \"description\": \"\"\n      }\n    },\n    {\n      \"column\": \"sit and bend forward_cm\",\n      \"properties\": {\n        \"dtype\": \"number\",\n        \"std\": 8.152973103927362,\n        \"min\": -25.0,\n        \"max\": 42.0,\n        \"num_unique_values\": 526,\n        \"samples\": [\n          -3.4,\n          -5.8\n        ],\n        \"semantic_type\": \"\",\n        \"description\": \"\"\n      }\n    },\n    {\n      \"column\": \"sit-ups counts\",\n      \"properties\": {\n        \"dtype\": \"number\",\n        \"std\": 14.27802145388057,\n        \"min\": 0.0,\n        \"max\": 80.0,\n        \"num_unique_values\": 81,\n        \"samples\": [\n          56.0,\n          60.0\n        ],\n        \"semantic_type\": \"\",\n        \"description\": \"\"\n      }\n    },\n    {\n      \"column\": \"broad jump_cm\",\n      \"properties\": {\n        \"dtype\": \"number\",\n        \"std\": 39.87086752699696,\n        \"min\": 0.0,\n        \"max\": 303.0,\n        \"num_unique_values\": 245,\n        \"samples\": [\n          151.0,\n          234.0\n        ],\n        \"semantic_type\": \"\",\n        \"description\": \"\"\n      }\n    },\n    {\n      \"column\": \"class\",\n      \"properties\": {\n        \"dtype\": \"category\",\n        \"num_unique_values\": 4,\n        \"samples\": [\n          \"A\",\n          \"D\"\n        ],\n        \"semantic_type\": \"\",\n        \"description\": \"\"\n      }\n    },\n    {\n      \"column\": \"bmi\",\n      \"properties\": {\n        \"dtype\": \"number\",\n        \"std\": 2.941584169626769,\n        \"min\": 11.103975856663292,\n        \"max\": 42.90650887573965,\n        \"num_unique_values\": 12395,\n        \"samples\": [\n          22.019760208180145,\n          29.525714400179346\n        ],\n        \"semantic_type\": \"\",\n        \"description\": \"\"\n      }\n    },\n    {\n      \"column\": \"map\",\n      \"properties\": {\n        \"dtype\": \"number\",\n        \"std\": 11.017606946849925,\n        \"min\": 50.333333333333336,\n        \"max\": 151.0,\n        \"num_unique_values\": 211,\n        \"samples\": [\n          99.33333333333333,\n          67.33333333333333\n        ],\n        \"semantic_type\": \"\",\n        \"description\": \"\"\n      }\n    }\n  ]\n}"
            }
          },
          "metadata": {},
          "execution_count": 231
        }
      ],
      "source": [
        "# Create a new variable 'map' (Mean Arterial Pressure)\n",
        "df5['map'] = (df5['systolic'] + 2 * df5['diastolic']) / 3\n",
        "\n",
        "# Display the updated dataframe\n",
        "df5.head()"
      ]
    },
    {
      "cell_type": "markdown",
      "metadata": {
        "id": "sK5e2eJGSeUf"
      },
      "source": [
        "### One Hot encoding"
      ]
    },
    {
      "cell_type": "code",
      "execution_count": 232,
      "metadata": {
        "colab": {
          "base_uri": "https://localhost:8080/"
        },
        "id": "z0aOyxKUSRmY",
        "outputId": "b2b2d232-5118-4667-879f-0722dcb3592f"
      },
      "outputs": [
        {
          "output_type": "stream",
          "name": "stdout",
          "text": [
            "        age  height_cm  weight_kg  body fat_%  diastolic  systolic  gripForce  \\\n",
            "0      27.0      172.3      75.24        21.3       80.0     130.0       54.9   \n",
            "1      25.0      165.0      55.80        15.7       77.0     126.0       36.4   \n",
            "2      31.0      179.6      78.00        20.1       92.0     152.0       44.8   \n",
            "3      32.0      174.5      71.10        18.4       76.0     147.0       41.4   \n",
            "4      28.0      173.8      67.70        17.1       70.0     127.0       43.5   \n",
            "...     ...        ...        ...         ...        ...       ...        ...   \n",
            "13388  25.0      172.1      71.80        16.2       74.0     141.0       35.8   \n",
            "13389  21.0      179.7      63.90        12.1       74.0     128.0       33.0   \n",
            "13390  39.0      177.2      80.50        20.1       78.0     132.0       63.5   \n",
            "13391  64.0      146.1      57.70        40.4       68.0     121.0       19.3   \n",
            "13392  34.0      164.0      66.10        19.5       82.0     150.0       35.9   \n",
            "\n",
            "       sit and bend forward_cm  sit-ups counts  broad jump_cm class  \\\n",
            "0                         18.4            60.0          217.0     C   \n",
            "1                         16.3            53.0          229.0     A   \n",
            "2                         12.0            49.0          181.0     C   \n",
            "3                         15.2            53.0          219.0     B   \n",
            "4                         27.1            45.0          217.0     B   \n",
            "...                        ...             ...            ...   ...   \n",
            "13388                     17.4            47.0          198.0     C   \n",
            "13389                      1.1            48.0          167.0     D   \n",
            "13390                     16.4            45.0          229.0     A   \n",
            "13391                      9.2             0.0           75.0     D   \n",
            "13392                      7.1            51.0          180.0     C   \n",
            "\n",
            "             bmi         map  gender_M  \n",
            "0      25.344179   96.666667         1  \n",
            "1      20.495868   93.333333         1  \n",
            "2      24.181428  112.000000         1  \n",
            "3      23.349562   99.666667         1  \n",
            "4      22.412439   89.000000         1  \n",
            "...          ...         ...       ...  \n",
            "13388  24.241679   96.333333         1  \n",
            "13389  19.788128   92.000000         1  \n",
            "13390  25.637073   96.000000         1  \n",
            "13391  27.031826   85.666667         0  \n",
            "13392  24.576145  104.666667         1  \n",
            "\n",
            "[13382 rows x 14 columns]\n"
          ]
        }
      ],
      "source": [
        "# One-hot encoding with drop_first to remove the first column\n",
        "df5 = pd.get_dummies(df5, columns=['gender'], drop_first=True)\n",
        "\n",
        "# Convert boolean columns to integers (1s and 0s)\n",
        "for col in df5.columns:\n",
        "    if df5[col].dtype == 'bool':\n",
        "        df5[col] = df5[col].astype(int)\n",
        "\n",
        "print(df5)"
      ]
    },
    {
      "cell_type": "markdown",
      "source": [
        "## Removing multivariate outliers"
      ],
      "metadata": {
        "id": "-c0rs53u4Nkj"
      }
    },
    {
      "cell_type": "code",
      "source": [
        "import numpy as np\n",
        "import pandas as pd\n",
        "import matplotlib.pyplot as plt\n",
        "from sklearn.neighbors import LocalOutlierFactor\n",
        "\n",
        "\n",
        "# Convert the encoded dataframe to numpy for LOF\n",
        "X_scores = df5.select_dtypes(include=[np.number]).values  # Select only numerical columns\n",
        "\n",
        "# Create a Local Outlier Factor model\n",
        "lof = LocalOutlierFactor(n_neighbors=20)  # Adjust n_neighbors as needed\n",
        "\n",
        "# Fit the model and get the prediction labels (-1 for outliers, 1 for inliers)\n",
        "y_pred = lof.fit_predict(X_scores)\n",
        "\n",
        "# Identify outliers\n",
        "outliers = np.where(y_pred == -1)[0]\n",
        "\n",
        "# Print the number of outliers\n",
        "print(f\"Number of outliers detected: {len(outliers)}\")\n",
        "\n",
        "# Create a mask to filter out the outliers\n",
        "inliers_mask = np.ones(len(df5), dtype=bool)\n",
        "inliers_mask[outliers] = False\n",
        "\n",
        "# Create a new dataframe without the outliers\n",
        "df5 = df5[inliers_mask]\n",
        "\n",
        "# Reset the index of the cleaned dataframe\n",
        "df5.reset_index(drop=True, inplace=True)\n",
        "\n",
        "# Print the shape of the cleaned dataframe\n",
        "print(f\"Cleaned dataframe shape: {df5.shape}\")\n",
        "\n",
        "\n"
      ],
      "metadata": {
        "colab": {
          "base_uri": "https://localhost:8080/"
        },
        "id": "PVZaYZ8K0h7U",
        "outputId": "01fbee23-72af-4d22-89ea-99e4d2c52ea7"
      },
      "execution_count": 233,
      "outputs": [
        {
          "output_type": "stream",
          "name": "stdout",
          "text": [
            "Number of outliers detected: 104\n",
            "Cleaned dataframe shape: (13278, 14)\n"
          ]
        }
      ]
    },
    {
      "cell_type": "code",
      "execution_count": 234,
      "metadata": {
        "colab": {
          "base_uri": "https://localhost:8080/",
          "height": 441
        },
        "id": "EuZxLfnbVidE",
        "outputId": "6679365b-e380-4ad4-f6d9-1fea63b3cdd7"
      },
      "outputs": [
        {
          "output_type": "execute_result",
          "data": {
            "text/plain": [
              "        age  height_cm  weight_kg  body fat_%  diastolic  systolic  gripForce  \\\n",
              "0      27.0      172.3      75.24        21.3       80.0     130.0       54.9   \n",
              "1      25.0      165.0      55.80        15.7       77.0     126.0       36.4   \n",
              "2      31.0      179.6      78.00        20.1       92.0     152.0       44.8   \n",
              "3      32.0      174.5      71.10        18.4       76.0     147.0       41.4   \n",
              "4      28.0      173.8      67.70        17.1       70.0     127.0       43.5   \n",
              "...     ...        ...        ...         ...        ...       ...        ...   \n",
              "13273  25.0      172.1      71.80        16.2       74.0     141.0       35.8   \n",
              "13274  21.0      179.7      63.90        12.1       74.0     128.0       33.0   \n",
              "13275  39.0      177.2      80.50        20.1       78.0     132.0       63.5   \n",
              "13276  64.0      146.1      57.70        40.4       68.0     121.0       19.3   \n",
              "13277  34.0      164.0      66.10        19.5       82.0     150.0       35.9   \n",
              "\n",
              "       sit and bend forward_cm  sit-ups counts  broad jump_cm class  \\\n",
              "0                         18.4            60.0          217.0     C   \n",
              "1                         16.3            53.0          229.0     A   \n",
              "2                         12.0            49.0          181.0     C   \n",
              "3                         15.2            53.0          219.0     B   \n",
              "4                         27.1            45.0          217.0     B   \n",
              "...                        ...             ...            ...   ...   \n",
              "13273                     17.4            47.0          198.0     C   \n",
              "13274                      1.1            48.0          167.0     D   \n",
              "13275                     16.4            45.0          229.0     A   \n",
              "13276                      9.2             0.0           75.0     D   \n",
              "13277                      7.1            51.0          180.0     C   \n",
              "\n",
              "             bmi         map  gender_M  \n",
              "0      25.344179   96.666667         1  \n",
              "1      20.495868   93.333333         1  \n",
              "2      24.181428  112.000000         1  \n",
              "3      23.349562   99.666667         1  \n",
              "4      22.412439   89.000000         1  \n",
              "...          ...         ...       ...  \n",
              "13273  24.241679   96.333333         1  \n",
              "13274  19.788128   92.000000         1  \n",
              "13275  25.637073   96.000000         1  \n",
              "13276  27.031826   85.666667         0  \n",
              "13277  24.576145  104.666667         1  \n",
              "\n",
              "[13278 rows x 14 columns]"
            ],
            "text/html": [
              "\n",
              "  <div id=\"df-f9dffe93-79e3-4020-bbb1-e59ab47fdb06\" class=\"colab-df-container\">\n",
              "    <div>\n",
              "<style scoped>\n",
              "    .dataframe tbody tr th:only-of-type {\n",
              "        vertical-align: middle;\n",
              "    }\n",
              "\n",
              "    .dataframe tbody tr th {\n",
              "        vertical-align: top;\n",
              "    }\n",
              "\n",
              "    .dataframe thead th {\n",
              "        text-align: right;\n",
              "    }\n",
              "</style>\n",
              "<table border=\"1\" class=\"dataframe\">\n",
              "  <thead>\n",
              "    <tr style=\"text-align: right;\">\n",
              "      <th></th>\n",
              "      <th>age</th>\n",
              "      <th>height_cm</th>\n",
              "      <th>weight_kg</th>\n",
              "      <th>body fat_%</th>\n",
              "      <th>diastolic</th>\n",
              "      <th>systolic</th>\n",
              "      <th>gripForce</th>\n",
              "      <th>sit and bend forward_cm</th>\n",
              "      <th>sit-ups counts</th>\n",
              "      <th>broad jump_cm</th>\n",
              "      <th>class</th>\n",
              "      <th>bmi</th>\n",
              "      <th>map</th>\n",
              "      <th>gender_M</th>\n",
              "    </tr>\n",
              "  </thead>\n",
              "  <tbody>\n",
              "    <tr>\n",
              "      <th>0</th>\n",
              "      <td>27.0</td>\n",
              "      <td>172.3</td>\n",
              "      <td>75.24</td>\n",
              "      <td>21.3</td>\n",
              "      <td>80.0</td>\n",
              "      <td>130.0</td>\n",
              "      <td>54.9</td>\n",
              "      <td>18.4</td>\n",
              "      <td>60.0</td>\n",
              "      <td>217.0</td>\n",
              "      <td>C</td>\n",
              "      <td>25.344179</td>\n",
              "      <td>96.666667</td>\n",
              "      <td>1</td>\n",
              "    </tr>\n",
              "    <tr>\n",
              "      <th>1</th>\n",
              "      <td>25.0</td>\n",
              "      <td>165.0</td>\n",
              "      <td>55.80</td>\n",
              "      <td>15.7</td>\n",
              "      <td>77.0</td>\n",
              "      <td>126.0</td>\n",
              "      <td>36.4</td>\n",
              "      <td>16.3</td>\n",
              "      <td>53.0</td>\n",
              "      <td>229.0</td>\n",
              "      <td>A</td>\n",
              "      <td>20.495868</td>\n",
              "      <td>93.333333</td>\n",
              "      <td>1</td>\n",
              "    </tr>\n",
              "    <tr>\n",
              "      <th>2</th>\n",
              "      <td>31.0</td>\n",
              "      <td>179.6</td>\n",
              "      <td>78.00</td>\n",
              "      <td>20.1</td>\n",
              "      <td>92.0</td>\n",
              "      <td>152.0</td>\n",
              "      <td>44.8</td>\n",
              "      <td>12.0</td>\n",
              "      <td>49.0</td>\n",
              "      <td>181.0</td>\n",
              "      <td>C</td>\n",
              "      <td>24.181428</td>\n",
              "      <td>112.000000</td>\n",
              "      <td>1</td>\n",
              "    </tr>\n",
              "    <tr>\n",
              "      <th>3</th>\n",
              "      <td>32.0</td>\n",
              "      <td>174.5</td>\n",
              "      <td>71.10</td>\n",
              "      <td>18.4</td>\n",
              "      <td>76.0</td>\n",
              "      <td>147.0</td>\n",
              "      <td>41.4</td>\n",
              "      <td>15.2</td>\n",
              "      <td>53.0</td>\n",
              "      <td>219.0</td>\n",
              "      <td>B</td>\n",
              "      <td>23.349562</td>\n",
              "      <td>99.666667</td>\n",
              "      <td>1</td>\n",
              "    </tr>\n",
              "    <tr>\n",
              "      <th>4</th>\n",
              "      <td>28.0</td>\n",
              "      <td>173.8</td>\n",
              "      <td>67.70</td>\n",
              "      <td>17.1</td>\n",
              "      <td>70.0</td>\n",
              "      <td>127.0</td>\n",
              "      <td>43.5</td>\n",
              "      <td>27.1</td>\n",
              "      <td>45.0</td>\n",
              "      <td>217.0</td>\n",
              "      <td>B</td>\n",
              "      <td>22.412439</td>\n",
              "      <td>89.000000</td>\n",
              "      <td>1</td>\n",
              "    </tr>\n",
              "    <tr>\n",
              "      <th>...</th>\n",
              "      <td>...</td>\n",
              "      <td>...</td>\n",
              "      <td>...</td>\n",
              "      <td>...</td>\n",
              "      <td>...</td>\n",
              "      <td>...</td>\n",
              "      <td>...</td>\n",
              "      <td>...</td>\n",
              "      <td>...</td>\n",
              "      <td>...</td>\n",
              "      <td>...</td>\n",
              "      <td>...</td>\n",
              "      <td>...</td>\n",
              "      <td>...</td>\n",
              "    </tr>\n",
              "    <tr>\n",
              "      <th>13273</th>\n",
              "      <td>25.0</td>\n",
              "      <td>172.1</td>\n",
              "      <td>71.80</td>\n",
              "      <td>16.2</td>\n",
              "      <td>74.0</td>\n",
              "      <td>141.0</td>\n",
              "      <td>35.8</td>\n",
              "      <td>17.4</td>\n",
              "      <td>47.0</td>\n",
              "      <td>198.0</td>\n",
              "      <td>C</td>\n",
              "      <td>24.241679</td>\n",
              "      <td>96.333333</td>\n",
              "      <td>1</td>\n",
              "    </tr>\n",
              "    <tr>\n",
              "      <th>13274</th>\n",
              "      <td>21.0</td>\n",
              "      <td>179.7</td>\n",
              "      <td>63.90</td>\n",
              "      <td>12.1</td>\n",
              "      <td>74.0</td>\n",
              "      <td>128.0</td>\n",
              "      <td>33.0</td>\n",
              "      <td>1.1</td>\n",
              "      <td>48.0</td>\n",
              "      <td>167.0</td>\n",
              "      <td>D</td>\n",
              "      <td>19.788128</td>\n",
              "      <td>92.000000</td>\n",
              "      <td>1</td>\n",
              "    </tr>\n",
              "    <tr>\n",
              "      <th>13275</th>\n",
              "      <td>39.0</td>\n",
              "      <td>177.2</td>\n",
              "      <td>80.50</td>\n",
              "      <td>20.1</td>\n",
              "      <td>78.0</td>\n",
              "      <td>132.0</td>\n",
              "      <td>63.5</td>\n",
              "      <td>16.4</td>\n",
              "      <td>45.0</td>\n",
              "      <td>229.0</td>\n",
              "      <td>A</td>\n",
              "      <td>25.637073</td>\n",
              "      <td>96.000000</td>\n",
              "      <td>1</td>\n",
              "    </tr>\n",
              "    <tr>\n",
              "      <th>13276</th>\n",
              "      <td>64.0</td>\n",
              "      <td>146.1</td>\n",
              "      <td>57.70</td>\n",
              "      <td>40.4</td>\n",
              "      <td>68.0</td>\n",
              "      <td>121.0</td>\n",
              "      <td>19.3</td>\n",
              "      <td>9.2</td>\n",
              "      <td>0.0</td>\n",
              "      <td>75.0</td>\n",
              "      <td>D</td>\n",
              "      <td>27.031826</td>\n",
              "      <td>85.666667</td>\n",
              "      <td>0</td>\n",
              "    </tr>\n",
              "    <tr>\n",
              "      <th>13277</th>\n",
              "      <td>34.0</td>\n",
              "      <td>164.0</td>\n",
              "      <td>66.10</td>\n",
              "      <td>19.5</td>\n",
              "      <td>82.0</td>\n",
              "      <td>150.0</td>\n",
              "      <td>35.9</td>\n",
              "      <td>7.1</td>\n",
              "      <td>51.0</td>\n",
              "      <td>180.0</td>\n",
              "      <td>C</td>\n",
              "      <td>24.576145</td>\n",
              "      <td>104.666667</td>\n",
              "      <td>1</td>\n",
              "    </tr>\n",
              "  </tbody>\n",
              "</table>\n",
              "<p>13278 rows × 14 columns</p>\n",
              "</div>\n",
              "    <div class=\"colab-df-buttons\">\n",
              "\n",
              "  <div class=\"colab-df-container\">\n",
              "    <button class=\"colab-df-convert\" onclick=\"convertToInteractive('df-f9dffe93-79e3-4020-bbb1-e59ab47fdb06')\"\n",
              "            title=\"Convert this dataframe to an interactive table.\"\n",
              "            style=\"display:none;\">\n",
              "\n",
              "  <svg xmlns=\"http://www.w3.org/2000/svg\" height=\"24px\" viewBox=\"0 -960 960 960\">\n",
              "    <path d=\"M120-120v-720h720v720H120Zm60-500h600v-160H180v160Zm220 220h160v-160H400v160Zm0 220h160v-160H400v160ZM180-400h160v-160H180v160Zm440 0h160v-160H620v160ZM180-180h160v-160H180v160Zm440 0h160v-160H620v160Z\"/>\n",
              "  </svg>\n",
              "    </button>\n",
              "\n",
              "  <style>\n",
              "    .colab-df-container {\n",
              "      display:flex;\n",
              "      gap: 12px;\n",
              "    }\n",
              "\n",
              "    .colab-df-convert {\n",
              "      background-color: #E8F0FE;\n",
              "      border: none;\n",
              "      border-radius: 50%;\n",
              "      cursor: pointer;\n",
              "      display: none;\n",
              "      fill: #1967D2;\n",
              "      height: 32px;\n",
              "      padding: 0 0 0 0;\n",
              "      width: 32px;\n",
              "    }\n",
              "\n",
              "    .colab-df-convert:hover {\n",
              "      background-color: #E2EBFA;\n",
              "      box-shadow: 0px 1px 2px rgba(60, 64, 67, 0.3), 0px 1px 3px 1px rgba(60, 64, 67, 0.15);\n",
              "      fill: #174EA6;\n",
              "    }\n",
              "\n",
              "    .colab-df-buttons div {\n",
              "      margin-bottom: 4px;\n",
              "    }\n",
              "\n",
              "    [theme=dark] .colab-df-convert {\n",
              "      background-color: #3B4455;\n",
              "      fill: #D2E3FC;\n",
              "    }\n",
              "\n",
              "    [theme=dark] .colab-df-convert:hover {\n",
              "      background-color: #434B5C;\n",
              "      box-shadow: 0px 1px 3px 1px rgba(0, 0, 0, 0.15);\n",
              "      filter: drop-shadow(0px 1px 2px rgba(0, 0, 0, 0.3));\n",
              "      fill: #FFFFFF;\n",
              "    }\n",
              "  </style>\n",
              "\n",
              "    <script>\n",
              "      const buttonEl =\n",
              "        document.querySelector('#df-f9dffe93-79e3-4020-bbb1-e59ab47fdb06 button.colab-df-convert');\n",
              "      buttonEl.style.display =\n",
              "        google.colab.kernel.accessAllowed ? 'block' : 'none';\n",
              "\n",
              "      async function convertToInteractive(key) {\n",
              "        const element = document.querySelector('#df-f9dffe93-79e3-4020-bbb1-e59ab47fdb06');\n",
              "        const dataTable =\n",
              "          await google.colab.kernel.invokeFunction('convertToInteractive',\n",
              "                                                    [key], {});\n",
              "        if (!dataTable) return;\n",
              "\n",
              "        const docLinkHtml = 'Like what you see? Visit the ' +\n",
              "          '<a target=\"_blank\" href=https://colab.research.google.com/notebooks/data_table.ipynb>data table notebook</a>'\n",
              "          + ' to learn more about interactive tables.';\n",
              "        element.innerHTML = '';\n",
              "        dataTable['output_type'] = 'display_data';\n",
              "        await google.colab.output.renderOutput(dataTable, element);\n",
              "        const docLink = document.createElement('div');\n",
              "        docLink.innerHTML = docLinkHtml;\n",
              "        element.appendChild(docLink);\n",
              "      }\n",
              "    </script>\n",
              "  </div>\n",
              "\n",
              "\n",
              "<div id=\"df-ef05103e-62a0-4895-aa05-07cf95e521ef\">\n",
              "  <button class=\"colab-df-quickchart\" onclick=\"quickchart('df-ef05103e-62a0-4895-aa05-07cf95e521ef')\"\n",
              "            title=\"Suggest charts\"\n",
              "            style=\"display:none;\">\n",
              "\n",
              "<svg xmlns=\"http://www.w3.org/2000/svg\" height=\"24px\"viewBox=\"0 0 24 24\"\n",
              "     width=\"24px\">\n",
              "    <g>\n",
              "        <path d=\"M19 3H5c-1.1 0-2 .9-2 2v14c0 1.1.9 2 2 2h14c1.1 0 2-.9 2-2V5c0-1.1-.9-2-2-2zM9 17H7v-7h2v7zm4 0h-2V7h2v10zm4 0h-2v-4h2v4z\"/>\n",
              "    </g>\n",
              "</svg>\n",
              "  </button>\n",
              "\n",
              "<style>\n",
              "  .colab-df-quickchart {\n",
              "      --bg-color: #E8F0FE;\n",
              "      --fill-color: #1967D2;\n",
              "      --hover-bg-color: #E2EBFA;\n",
              "      --hover-fill-color: #174EA6;\n",
              "      --disabled-fill-color: #AAA;\n",
              "      --disabled-bg-color: #DDD;\n",
              "  }\n",
              "\n",
              "  [theme=dark] .colab-df-quickchart {\n",
              "      --bg-color: #3B4455;\n",
              "      --fill-color: #D2E3FC;\n",
              "      --hover-bg-color: #434B5C;\n",
              "      --hover-fill-color: #FFFFFF;\n",
              "      --disabled-bg-color: #3B4455;\n",
              "      --disabled-fill-color: #666;\n",
              "  }\n",
              "\n",
              "  .colab-df-quickchart {\n",
              "    background-color: var(--bg-color);\n",
              "    border: none;\n",
              "    border-radius: 50%;\n",
              "    cursor: pointer;\n",
              "    display: none;\n",
              "    fill: var(--fill-color);\n",
              "    height: 32px;\n",
              "    padding: 0;\n",
              "    width: 32px;\n",
              "  }\n",
              "\n",
              "  .colab-df-quickchart:hover {\n",
              "    background-color: var(--hover-bg-color);\n",
              "    box-shadow: 0 1px 2px rgba(60, 64, 67, 0.3), 0 1px 3px 1px rgba(60, 64, 67, 0.15);\n",
              "    fill: var(--button-hover-fill-color);\n",
              "  }\n",
              "\n",
              "  .colab-df-quickchart-complete:disabled,\n",
              "  .colab-df-quickchart-complete:disabled:hover {\n",
              "    background-color: var(--disabled-bg-color);\n",
              "    fill: var(--disabled-fill-color);\n",
              "    box-shadow: none;\n",
              "  }\n",
              "\n",
              "  .colab-df-spinner {\n",
              "    border: 2px solid var(--fill-color);\n",
              "    border-color: transparent;\n",
              "    border-bottom-color: var(--fill-color);\n",
              "    animation:\n",
              "      spin 1s steps(1) infinite;\n",
              "  }\n",
              "\n",
              "  @keyframes spin {\n",
              "    0% {\n",
              "      border-color: transparent;\n",
              "      border-bottom-color: var(--fill-color);\n",
              "      border-left-color: var(--fill-color);\n",
              "    }\n",
              "    20% {\n",
              "      border-color: transparent;\n",
              "      border-left-color: var(--fill-color);\n",
              "      border-top-color: var(--fill-color);\n",
              "    }\n",
              "    30% {\n",
              "      border-color: transparent;\n",
              "      border-left-color: var(--fill-color);\n",
              "      border-top-color: var(--fill-color);\n",
              "      border-right-color: var(--fill-color);\n",
              "    }\n",
              "    40% {\n",
              "      border-color: transparent;\n",
              "      border-right-color: var(--fill-color);\n",
              "      border-top-color: var(--fill-color);\n",
              "    }\n",
              "    60% {\n",
              "      border-color: transparent;\n",
              "      border-right-color: var(--fill-color);\n",
              "    }\n",
              "    80% {\n",
              "      border-color: transparent;\n",
              "      border-right-color: var(--fill-color);\n",
              "      border-bottom-color: var(--fill-color);\n",
              "    }\n",
              "    90% {\n",
              "      border-color: transparent;\n",
              "      border-bottom-color: var(--fill-color);\n",
              "    }\n",
              "  }\n",
              "</style>\n",
              "\n",
              "  <script>\n",
              "    async function quickchart(key) {\n",
              "      const quickchartButtonEl =\n",
              "        document.querySelector('#' + key + ' button');\n",
              "      quickchartButtonEl.disabled = true;  // To prevent multiple clicks.\n",
              "      quickchartButtonEl.classList.add('colab-df-spinner');\n",
              "      try {\n",
              "        const charts = await google.colab.kernel.invokeFunction(\n",
              "            'suggestCharts', [key], {});\n",
              "      } catch (error) {\n",
              "        console.error('Error during call to suggestCharts:', error);\n",
              "      }\n",
              "      quickchartButtonEl.classList.remove('colab-df-spinner');\n",
              "      quickchartButtonEl.classList.add('colab-df-quickchart-complete');\n",
              "    }\n",
              "    (() => {\n",
              "      let quickchartButtonEl =\n",
              "        document.querySelector('#df-ef05103e-62a0-4895-aa05-07cf95e521ef button');\n",
              "      quickchartButtonEl.style.display =\n",
              "        google.colab.kernel.accessAllowed ? 'block' : 'none';\n",
              "    })();\n",
              "  </script>\n",
              "</div>\n",
              "\n",
              "  <div id=\"id_0d343fdf-a886-425c-ac02-c44f7b36fa07\">\n",
              "    <style>\n",
              "      .colab-df-generate {\n",
              "        background-color: #E8F0FE;\n",
              "        border: none;\n",
              "        border-radius: 50%;\n",
              "        cursor: pointer;\n",
              "        display: none;\n",
              "        fill: #1967D2;\n",
              "        height: 32px;\n",
              "        padding: 0 0 0 0;\n",
              "        width: 32px;\n",
              "      }\n",
              "\n",
              "      .colab-df-generate:hover {\n",
              "        background-color: #E2EBFA;\n",
              "        box-shadow: 0px 1px 2px rgba(60, 64, 67, 0.3), 0px 1px 3px 1px rgba(60, 64, 67, 0.15);\n",
              "        fill: #174EA6;\n",
              "      }\n",
              "\n",
              "      [theme=dark] .colab-df-generate {\n",
              "        background-color: #3B4455;\n",
              "        fill: #D2E3FC;\n",
              "      }\n",
              "\n",
              "      [theme=dark] .colab-df-generate:hover {\n",
              "        background-color: #434B5C;\n",
              "        box-shadow: 0px 1px 3px 1px rgba(0, 0, 0, 0.15);\n",
              "        filter: drop-shadow(0px 1px 2px rgba(0, 0, 0, 0.3));\n",
              "        fill: #FFFFFF;\n",
              "      }\n",
              "    </style>\n",
              "    <button class=\"colab-df-generate\" onclick=\"generateWithVariable('df5')\"\n",
              "            title=\"Generate code using this dataframe.\"\n",
              "            style=\"display:none;\">\n",
              "\n",
              "  <svg xmlns=\"http://www.w3.org/2000/svg\" height=\"24px\"viewBox=\"0 0 24 24\"\n",
              "       width=\"24px\">\n",
              "    <path d=\"M7,19H8.4L18.45,9,17,7.55,7,17.6ZM5,21V16.75L18.45,3.32a2,2,0,0,1,2.83,0l1.4,1.43a1.91,1.91,0,0,1,.58,1.4,1.91,1.91,0,0,1-.58,1.4L9.25,21ZM18.45,9,17,7.55Zm-12,3A5.31,5.31,0,0,0,4.9,8.1,5.31,5.31,0,0,0,1,6.5,5.31,5.31,0,0,0,4.9,4.9,5.31,5.31,0,0,0,6.5,1,5.31,5.31,0,0,0,8.1,4.9,5.31,5.31,0,0,0,12,6.5,5.46,5.46,0,0,0,6.5,12Z\"/>\n",
              "  </svg>\n",
              "    </button>\n",
              "    <script>\n",
              "      (() => {\n",
              "      const buttonEl =\n",
              "        document.querySelector('#id_0d343fdf-a886-425c-ac02-c44f7b36fa07 button.colab-df-generate');\n",
              "      buttonEl.style.display =\n",
              "        google.colab.kernel.accessAllowed ? 'block' : 'none';\n",
              "\n",
              "      buttonEl.onclick = () => {\n",
              "        google.colab.notebook.generateWithVariable('df5');\n",
              "      }\n",
              "      })();\n",
              "    </script>\n",
              "  </div>\n",
              "\n",
              "    </div>\n",
              "  </div>\n"
            ],
            "application/vnd.google.colaboratory.intrinsic+json": {
              "type": "dataframe",
              "variable_name": "df5",
              "summary": "{\n  \"name\": \"df5\",\n  \"rows\": 13278,\n  \"fields\": [\n    {\n      \"column\": \"age\",\n      \"properties\": {\n        \"dtype\": \"number\",\n        \"std\": 13.607232478319297,\n        \"min\": 21.0,\n        \"max\": 64.0,\n        \"num_unique_values\": 44,\n        \"samples\": [\n          41.0,\n          49.0,\n          40.0\n        ],\n        \"semantic_type\": \"\",\n        \"description\": \"\"\n      }\n    },\n    {\n      \"column\": \"height_cm\",\n      \"properties\": {\n        \"dtype\": \"number\",\n        \"std\": 8.405171661156613,\n        \"min\": 139.5,\n        \"max\": 193.8,\n        \"num_unique_values\": 464,\n        \"samples\": [\n          185.0,\n          176.7,\n          173.6\n        ],\n        \"semantic_type\": \"\",\n        \"description\": \"\"\n      }\n    },\n    {\n      \"column\": \"weight_kg\",\n      \"properties\": {\n        \"dtype\": \"number\",\n        \"std\": 11.8859222090555,\n        \"min\": 35.9,\n        \"max\": 138.1,\n        \"num_unique_values\": 1381,\n        \"samples\": [\n          92.6,\n          61.58,\n          70.1\n        ],\n        \"semantic_type\": \"\",\n        \"description\": \"\"\n      }\n    },\n    {\n      \"column\": \"body fat_%\",\n      \"properties\": {\n        \"dtype\": \"number\",\n        \"std\": 7.218544157872801,\n        \"min\": 3.0,\n        \"max\": 54.9,\n        \"num_unique_values\": 523,\n        \"samples\": [\n          20.65127,\n          7.5,\n          32.2\n        ],\n        \"semantic_type\": \"\",\n        \"description\": \"\"\n      }\n    },\n    {\n      \"column\": \"diastolic\",\n      \"properties\": {\n        \"dtype\": \"number\",\n        \"std\": 10.552527609162112,\n        \"min\": 40.0,\n        \"max\": 117.0,\n        \"num_unique_values\": 74,\n        \"samples\": [\n          70.0,\n          109.0,\n          91.0\n        ],\n        \"semantic_type\": \"\",\n        \"description\": \"\"\n      }\n    },\n    {\n      \"column\": \"systolic\",\n      \"properties\": {\n        \"dtype\": \"number\",\n        \"std\": 14.447563330737557,\n        \"min\": 84.0,\n        \"max\": 177.0,\n        \"num_unique_values\": 85,\n        \"samples\": [\n          170.0,\n          130.0,\n          95.0\n        ],\n        \"semantic_type\": \"\",\n        \"description\": \"\"\n      }\n    },\n    {\n      \"column\": \"gripForce\",\n      \"properties\": {\n        \"dtype\": \"number\",\n        \"std\": 10.582186573237554,\n        \"min\": 7.9,\n        \"max\": 70.5,\n        \"num_unique_values\": 538,\n        \"samples\": [\n          62.0,\n          48.8,\n          31.5\n        ],\n        \"semantic_type\": \"\",\n        \"description\": \"\"\n      }\n    },\n    {\n      \"column\": \"sit and bend forward_cm\",\n      \"properties\": {\n        \"dtype\": \"number\",\n        \"std\": 8.100912490194611,\n        \"min\": -25.0,\n        \"max\": 42.0,\n        \"num_unique_values\": 524,\n        \"samples\": [\n          -3.4,\n          -7.1,\n          0.8\n        ],\n        \"semantic_type\": \"\",\n        \"description\": \"\"\n      }\n    },\n    {\n      \"column\": \"sit-ups counts\",\n      \"properties\": {\n        \"dtype\": \"number\",\n        \"std\": 14.242081262686234,\n        \"min\": 0.0,\n        \"max\": 80.0,\n        \"num_unique_values\": 81,\n        \"samples\": [\n          56.0,\n          60.0,\n          38.0\n        ],\n        \"semantic_type\": \"\",\n        \"description\": \"\"\n      }\n    },\n    {\n      \"column\": \"broad jump_cm\",\n      \"properties\": {\n        \"dtype\": \"number\",\n        \"std\": 39.6303037753326,\n        \"min\": 0.0,\n        \"max\": 303.0,\n        \"num_unique_values\": 243,\n        \"samples\": [\n          151.0,\n          234.0,\n          147.0\n        ],\n        \"semantic_type\": \"\",\n        \"description\": \"\"\n      }\n    },\n    {\n      \"column\": \"class\",\n      \"properties\": {\n        \"dtype\": \"category\",\n        \"num_unique_values\": 4,\n        \"samples\": [\n          \"A\",\n          \"D\",\n          \"C\"\n        ],\n        \"semantic_type\": \"\",\n        \"description\": \"\"\n      }\n    },\n    {\n      \"column\": \"bmi\",\n      \"properties\": {\n        \"dtype\": \"number\",\n        \"std\": 2.919632811917001,\n        \"min\": 15.07835853219429,\n        \"max\": 42.90650887573965,\n        \"num_unique_values\": 12296,\n        \"samples\": [\n          19.181197971000508,\n          28.49132806515283,\n          26.186468845716334\n        ],\n        \"semantic_type\": \"\",\n        \"description\": \"\"\n      }\n    },\n    {\n      \"column\": \"map\",\n      \"properties\": {\n        \"dtype\": \"number\",\n        \"std\": 10.911742798047332,\n        \"min\": 58.333333333333336,\n        \"max\": 130.0,\n        \"num_unique_values\": 192,\n        \"samples\": [\n          89.66666666666667,\n          74.33333333333333,\n          91.66666666666667\n        ],\n        \"semantic_type\": \"\",\n        \"description\": \"\"\n      }\n    },\n    {\n      \"column\": \"gender_M\",\n      \"properties\": {\n        \"dtype\": \"number\",\n        \"std\": 0,\n        \"min\": 0,\n        \"max\": 1,\n        \"num_unique_values\": 2,\n        \"samples\": [\n          0,\n          1\n        ],\n        \"semantic_type\": \"\",\n        \"description\": \"\"\n      }\n    }\n  ]\n}"
            }
          },
          "metadata": {},
          "execution_count": 234
        }
      ],
      "source": [
        "df5"
      ]
    },
    {
      "cell_type": "code",
      "execution_count": 235,
      "metadata": {
        "colab": {
          "base_uri": "https://localhost:8080/",
          "height": 441
        },
        "id": "75u2wQRgdFMc",
        "outputId": "1ec02e9b-c91f-4458-a40a-ef48543b19f5"
      },
      "outputs": [
        {
          "output_type": "execute_result",
          "data": {
            "text/plain": [
              "            age  height_cm  weight_kg  body fat_%  diastolic  systolic  \\\n",
              "0      0.139535   0.604052   0.384932    0.352601   0.519481  0.494624   \n",
              "1      0.093023   0.469613   0.194716    0.244701   0.480519  0.451613   \n",
              "2      0.232558   0.738490   0.411937    0.329480   0.675325  0.731183   \n",
              "3      0.255814   0.644567   0.344423    0.296724   0.467532  0.677419   \n",
              "4      0.162791   0.631676   0.311155    0.271676   0.389610  0.462366   \n",
              "...         ...        ...        ...         ...        ...       ...   \n",
              "13273  0.093023   0.600368   0.351272    0.254335   0.441558  0.612903   \n",
              "13274  0.000000   0.740331   0.273973    0.175337   0.441558  0.473118   \n",
              "13275  0.418605   0.694291   0.436399    0.329480   0.493506  0.516129   \n",
              "13276  1.000000   0.121547   0.213307    0.720617   0.363636  0.397849   \n",
              "13277  0.302326   0.451197   0.295499    0.317919   0.545455  0.709677   \n",
              "\n",
              "       gripForce  sit and bend forward_cm  sit-ups counts  broad jump_cm  \\\n",
              "0       0.750799                 0.647761          0.7500       0.716172   \n",
              "1       0.455272                 0.616418          0.6625       0.755776   \n",
              "2       0.589457                 0.552239          0.6125       0.597360   \n",
              "3       0.535144                 0.600000          0.6625       0.722772   \n",
              "4       0.568690                 0.777612          0.5625       0.716172   \n",
              "...          ...                      ...             ...            ...   \n",
              "13273   0.445687                 0.632836          0.5875       0.653465   \n",
              "13274   0.400958                 0.389552          0.6000       0.551155   \n",
              "13275   0.888179                 0.617910          0.5625       0.755776   \n",
              "13276   0.182109                 0.510448          0.0000       0.247525   \n",
              "13277   0.447284                 0.479104          0.6375       0.594059   \n",
              "\n",
              "      class       bmi       map  gender_M  \n",
              "0         C  0.368901  0.534884         1  \n",
              "1         A  0.194677  0.488372         1  \n",
              "2         C  0.327117  0.748837         1  \n",
              "3         B  0.297224  0.576744         1  \n",
              "4         B  0.263549  0.427907         1  \n",
              "...     ...       ...       ...       ...  \n",
              "13273     C  0.329282  0.530233         1  \n",
              "13274     D  0.169245  0.469767         1  \n",
              "13275     A  0.379426  0.525581         1  \n",
              "13276     D  0.429546  0.381395         0  \n",
              "13277     C  0.341301  0.646512         1  \n",
              "\n",
              "[13278 rows x 14 columns]"
            ],
            "text/html": [
              "\n",
              "  <div id=\"df-718a2bcf-ef55-4c5b-9d48-e4496ec1421a\" class=\"colab-df-container\">\n",
              "    <div>\n",
              "<style scoped>\n",
              "    .dataframe tbody tr th:only-of-type {\n",
              "        vertical-align: middle;\n",
              "    }\n",
              "\n",
              "    .dataframe tbody tr th {\n",
              "        vertical-align: top;\n",
              "    }\n",
              "\n",
              "    .dataframe thead th {\n",
              "        text-align: right;\n",
              "    }\n",
              "</style>\n",
              "<table border=\"1\" class=\"dataframe\">\n",
              "  <thead>\n",
              "    <tr style=\"text-align: right;\">\n",
              "      <th></th>\n",
              "      <th>age</th>\n",
              "      <th>height_cm</th>\n",
              "      <th>weight_kg</th>\n",
              "      <th>body fat_%</th>\n",
              "      <th>diastolic</th>\n",
              "      <th>systolic</th>\n",
              "      <th>gripForce</th>\n",
              "      <th>sit and bend forward_cm</th>\n",
              "      <th>sit-ups counts</th>\n",
              "      <th>broad jump_cm</th>\n",
              "      <th>class</th>\n",
              "      <th>bmi</th>\n",
              "      <th>map</th>\n",
              "      <th>gender_M</th>\n",
              "    </tr>\n",
              "  </thead>\n",
              "  <tbody>\n",
              "    <tr>\n",
              "      <th>0</th>\n",
              "      <td>0.139535</td>\n",
              "      <td>0.604052</td>\n",
              "      <td>0.384932</td>\n",
              "      <td>0.352601</td>\n",
              "      <td>0.519481</td>\n",
              "      <td>0.494624</td>\n",
              "      <td>0.750799</td>\n",
              "      <td>0.647761</td>\n",
              "      <td>0.7500</td>\n",
              "      <td>0.716172</td>\n",
              "      <td>C</td>\n",
              "      <td>0.368901</td>\n",
              "      <td>0.534884</td>\n",
              "      <td>1</td>\n",
              "    </tr>\n",
              "    <tr>\n",
              "      <th>1</th>\n",
              "      <td>0.093023</td>\n",
              "      <td>0.469613</td>\n",
              "      <td>0.194716</td>\n",
              "      <td>0.244701</td>\n",
              "      <td>0.480519</td>\n",
              "      <td>0.451613</td>\n",
              "      <td>0.455272</td>\n",
              "      <td>0.616418</td>\n",
              "      <td>0.6625</td>\n",
              "      <td>0.755776</td>\n",
              "      <td>A</td>\n",
              "      <td>0.194677</td>\n",
              "      <td>0.488372</td>\n",
              "      <td>1</td>\n",
              "    </tr>\n",
              "    <tr>\n",
              "      <th>2</th>\n",
              "      <td>0.232558</td>\n",
              "      <td>0.738490</td>\n",
              "      <td>0.411937</td>\n",
              "      <td>0.329480</td>\n",
              "      <td>0.675325</td>\n",
              "      <td>0.731183</td>\n",
              "      <td>0.589457</td>\n",
              "      <td>0.552239</td>\n",
              "      <td>0.6125</td>\n",
              "      <td>0.597360</td>\n",
              "      <td>C</td>\n",
              "      <td>0.327117</td>\n",
              "      <td>0.748837</td>\n",
              "      <td>1</td>\n",
              "    </tr>\n",
              "    <tr>\n",
              "      <th>3</th>\n",
              "      <td>0.255814</td>\n",
              "      <td>0.644567</td>\n",
              "      <td>0.344423</td>\n",
              "      <td>0.296724</td>\n",
              "      <td>0.467532</td>\n",
              "      <td>0.677419</td>\n",
              "      <td>0.535144</td>\n",
              "      <td>0.600000</td>\n",
              "      <td>0.6625</td>\n",
              "      <td>0.722772</td>\n",
              "      <td>B</td>\n",
              "      <td>0.297224</td>\n",
              "      <td>0.576744</td>\n",
              "      <td>1</td>\n",
              "    </tr>\n",
              "    <tr>\n",
              "      <th>4</th>\n",
              "      <td>0.162791</td>\n",
              "      <td>0.631676</td>\n",
              "      <td>0.311155</td>\n",
              "      <td>0.271676</td>\n",
              "      <td>0.389610</td>\n",
              "      <td>0.462366</td>\n",
              "      <td>0.568690</td>\n",
              "      <td>0.777612</td>\n",
              "      <td>0.5625</td>\n",
              "      <td>0.716172</td>\n",
              "      <td>B</td>\n",
              "      <td>0.263549</td>\n",
              "      <td>0.427907</td>\n",
              "      <td>1</td>\n",
              "    </tr>\n",
              "    <tr>\n",
              "      <th>...</th>\n",
              "      <td>...</td>\n",
              "      <td>...</td>\n",
              "      <td>...</td>\n",
              "      <td>...</td>\n",
              "      <td>...</td>\n",
              "      <td>...</td>\n",
              "      <td>...</td>\n",
              "      <td>...</td>\n",
              "      <td>...</td>\n",
              "      <td>...</td>\n",
              "      <td>...</td>\n",
              "      <td>...</td>\n",
              "      <td>...</td>\n",
              "      <td>...</td>\n",
              "    </tr>\n",
              "    <tr>\n",
              "      <th>13273</th>\n",
              "      <td>0.093023</td>\n",
              "      <td>0.600368</td>\n",
              "      <td>0.351272</td>\n",
              "      <td>0.254335</td>\n",
              "      <td>0.441558</td>\n",
              "      <td>0.612903</td>\n",
              "      <td>0.445687</td>\n",
              "      <td>0.632836</td>\n",
              "      <td>0.5875</td>\n",
              "      <td>0.653465</td>\n",
              "      <td>C</td>\n",
              "      <td>0.329282</td>\n",
              "      <td>0.530233</td>\n",
              "      <td>1</td>\n",
              "    </tr>\n",
              "    <tr>\n",
              "      <th>13274</th>\n",
              "      <td>0.000000</td>\n",
              "      <td>0.740331</td>\n",
              "      <td>0.273973</td>\n",
              "      <td>0.175337</td>\n",
              "      <td>0.441558</td>\n",
              "      <td>0.473118</td>\n",
              "      <td>0.400958</td>\n",
              "      <td>0.389552</td>\n",
              "      <td>0.6000</td>\n",
              "      <td>0.551155</td>\n",
              "      <td>D</td>\n",
              "      <td>0.169245</td>\n",
              "      <td>0.469767</td>\n",
              "      <td>1</td>\n",
              "    </tr>\n",
              "    <tr>\n",
              "      <th>13275</th>\n",
              "      <td>0.418605</td>\n",
              "      <td>0.694291</td>\n",
              "      <td>0.436399</td>\n",
              "      <td>0.329480</td>\n",
              "      <td>0.493506</td>\n",
              "      <td>0.516129</td>\n",
              "      <td>0.888179</td>\n",
              "      <td>0.617910</td>\n",
              "      <td>0.5625</td>\n",
              "      <td>0.755776</td>\n",
              "      <td>A</td>\n",
              "      <td>0.379426</td>\n",
              "      <td>0.525581</td>\n",
              "      <td>1</td>\n",
              "    </tr>\n",
              "    <tr>\n",
              "      <th>13276</th>\n",
              "      <td>1.000000</td>\n",
              "      <td>0.121547</td>\n",
              "      <td>0.213307</td>\n",
              "      <td>0.720617</td>\n",
              "      <td>0.363636</td>\n",
              "      <td>0.397849</td>\n",
              "      <td>0.182109</td>\n",
              "      <td>0.510448</td>\n",
              "      <td>0.0000</td>\n",
              "      <td>0.247525</td>\n",
              "      <td>D</td>\n",
              "      <td>0.429546</td>\n",
              "      <td>0.381395</td>\n",
              "      <td>0</td>\n",
              "    </tr>\n",
              "    <tr>\n",
              "      <th>13277</th>\n",
              "      <td>0.302326</td>\n",
              "      <td>0.451197</td>\n",
              "      <td>0.295499</td>\n",
              "      <td>0.317919</td>\n",
              "      <td>0.545455</td>\n",
              "      <td>0.709677</td>\n",
              "      <td>0.447284</td>\n",
              "      <td>0.479104</td>\n",
              "      <td>0.6375</td>\n",
              "      <td>0.594059</td>\n",
              "      <td>C</td>\n",
              "      <td>0.341301</td>\n",
              "      <td>0.646512</td>\n",
              "      <td>1</td>\n",
              "    </tr>\n",
              "  </tbody>\n",
              "</table>\n",
              "<p>13278 rows × 14 columns</p>\n",
              "</div>\n",
              "    <div class=\"colab-df-buttons\">\n",
              "\n",
              "  <div class=\"colab-df-container\">\n",
              "    <button class=\"colab-df-convert\" onclick=\"convertToInteractive('df-718a2bcf-ef55-4c5b-9d48-e4496ec1421a')\"\n",
              "            title=\"Convert this dataframe to an interactive table.\"\n",
              "            style=\"display:none;\">\n",
              "\n",
              "  <svg xmlns=\"http://www.w3.org/2000/svg\" height=\"24px\" viewBox=\"0 -960 960 960\">\n",
              "    <path d=\"M120-120v-720h720v720H120Zm60-500h600v-160H180v160Zm220 220h160v-160H400v160Zm0 220h160v-160H400v160ZM180-400h160v-160H180v160Zm440 0h160v-160H620v160ZM180-180h160v-160H180v160Zm440 0h160v-160H620v160Z\"/>\n",
              "  </svg>\n",
              "    </button>\n",
              "\n",
              "  <style>\n",
              "    .colab-df-container {\n",
              "      display:flex;\n",
              "      gap: 12px;\n",
              "    }\n",
              "\n",
              "    .colab-df-convert {\n",
              "      background-color: #E8F0FE;\n",
              "      border: none;\n",
              "      border-radius: 50%;\n",
              "      cursor: pointer;\n",
              "      display: none;\n",
              "      fill: #1967D2;\n",
              "      height: 32px;\n",
              "      padding: 0 0 0 0;\n",
              "      width: 32px;\n",
              "    }\n",
              "\n",
              "    .colab-df-convert:hover {\n",
              "      background-color: #E2EBFA;\n",
              "      box-shadow: 0px 1px 2px rgba(60, 64, 67, 0.3), 0px 1px 3px 1px rgba(60, 64, 67, 0.15);\n",
              "      fill: #174EA6;\n",
              "    }\n",
              "\n",
              "    .colab-df-buttons div {\n",
              "      margin-bottom: 4px;\n",
              "    }\n",
              "\n",
              "    [theme=dark] .colab-df-convert {\n",
              "      background-color: #3B4455;\n",
              "      fill: #D2E3FC;\n",
              "    }\n",
              "\n",
              "    [theme=dark] .colab-df-convert:hover {\n",
              "      background-color: #434B5C;\n",
              "      box-shadow: 0px 1px 3px 1px rgba(0, 0, 0, 0.15);\n",
              "      filter: drop-shadow(0px 1px 2px rgba(0, 0, 0, 0.3));\n",
              "      fill: #FFFFFF;\n",
              "    }\n",
              "  </style>\n",
              "\n",
              "    <script>\n",
              "      const buttonEl =\n",
              "        document.querySelector('#df-718a2bcf-ef55-4c5b-9d48-e4496ec1421a button.colab-df-convert');\n",
              "      buttonEl.style.display =\n",
              "        google.colab.kernel.accessAllowed ? 'block' : 'none';\n",
              "\n",
              "      async function convertToInteractive(key) {\n",
              "        const element = document.querySelector('#df-718a2bcf-ef55-4c5b-9d48-e4496ec1421a');\n",
              "        const dataTable =\n",
              "          await google.colab.kernel.invokeFunction('convertToInteractive',\n",
              "                                                    [key], {});\n",
              "        if (!dataTable) return;\n",
              "\n",
              "        const docLinkHtml = 'Like what you see? Visit the ' +\n",
              "          '<a target=\"_blank\" href=https://colab.research.google.com/notebooks/data_table.ipynb>data table notebook</a>'\n",
              "          + ' to learn more about interactive tables.';\n",
              "        element.innerHTML = '';\n",
              "        dataTable['output_type'] = 'display_data';\n",
              "        await google.colab.output.renderOutput(dataTable, element);\n",
              "        const docLink = document.createElement('div');\n",
              "        docLink.innerHTML = docLinkHtml;\n",
              "        element.appendChild(docLink);\n",
              "      }\n",
              "    </script>\n",
              "  </div>\n",
              "\n",
              "\n",
              "<div id=\"df-e539c350-6e72-402c-a3bb-241ae8220d7e\">\n",
              "  <button class=\"colab-df-quickchart\" onclick=\"quickchart('df-e539c350-6e72-402c-a3bb-241ae8220d7e')\"\n",
              "            title=\"Suggest charts\"\n",
              "            style=\"display:none;\">\n",
              "\n",
              "<svg xmlns=\"http://www.w3.org/2000/svg\" height=\"24px\"viewBox=\"0 0 24 24\"\n",
              "     width=\"24px\">\n",
              "    <g>\n",
              "        <path d=\"M19 3H5c-1.1 0-2 .9-2 2v14c0 1.1.9 2 2 2h14c1.1 0 2-.9 2-2V5c0-1.1-.9-2-2-2zM9 17H7v-7h2v7zm4 0h-2V7h2v10zm4 0h-2v-4h2v4z\"/>\n",
              "    </g>\n",
              "</svg>\n",
              "  </button>\n",
              "\n",
              "<style>\n",
              "  .colab-df-quickchart {\n",
              "      --bg-color: #E8F0FE;\n",
              "      --fill-color: #1967D2;\n",
              "      --hover-bg-color: #E2EBFA;\n",
              "      --hover-fill-color: #174EA6;\n",
              "      --disabled-fill-color: #AAA;\n",
              "      --disabled-bg-color: #DDD;\n",
              "  }\n",
              "\n",
              "  [theme=dark] .colab-df-quickchart {\n",
              "      --bg-color: #3B4455;\n",
              "      --fill-color: #D2E3FC;\n",
              "      --hover-bg-color: #434B5C;\n",
              "      --hover-fill-color: #FFFFFF;\n",
              "      --disabled-bg-color: #3B4455;\n",
              "      --disabled-fill-color: #666;\n",
              "  }\n",
              "\n",
              "  .colab-df-quickchart {\n",
              "    background-color: var(--bg-color);\n",
              "    border: none;\n",
              "    border-radius: 50%;\n",
              "    cursor: pointer;\n",
              "    display: none;\n",
              "    fill: var(--fill-color);\n",
              "    height: 32px;\n",
              "    padding: 0;\n",
              "    width: 32px;\n",
              "  }\n",
              "\n",
              "  .colab-df-quickchart:hover {\n",
              "    background-color: var(--hover-bg-color);\n",
              "    box-shadow: 0 1px 2px rgba(60, 64, 67, 0.3), 0 1px 3px 1px rgba(60, 64, 67, 0.15);\n",
              "    fill: var(--button-hover-fill-color);\n",
              "  }\n",
              "\n",
              "  .colab-df-quickchart-complete:disabled,\n",
              "  .colab-df-quickchart-complete:disabled:hover {\n",
              "    background-color: var(--disabled-bg-color);\n",
              "    fill: var(--disabled-fill-color);\n",
              "    box-shadow: none;\n",
              "  }\n",
              "\n",
              "  .colab-df-spinner {\n",
              "    border: 2px solid var(--fill-color);\n",
              "    border-color: transparent;\n",
              "    border-bottom-color: var(--fill-color);\n",
              "    animation:\n",
              "      spin 1s steps(1) infinite;\n",
              "  }\n",
              "\n",
              "  @keyframes spin {\n",
              "    0% {\n",
              "      border-color: transparent;\n",
              "      border-bottom-color: var(--fill-color);\n",
              "      border-left-color: var(--fill-color);\n",
              "    }\n",
              "    20% {\n",
              "      border-color: transparent;\n",
              "      border-left-color: var(--fill-color);\n",
              "      border-top-color: var(--fill-color);\n",
              "    }\n",
              "    30% {\n",
              "      border-color: transparent;\n",
              "      border-left-color: var(--fill-color);\n",
              "      border-top-color: var(--fill-color);\n",
              "      border-right-color: var(--fill-color);\n",
              "    }\n",
              "    40% {\n",
              "      border-color: transparent;\n",
              "      border-right-color: var(--fill-color);\n",
              "      border-top-color: var(--fill-color);\n",
              "    }\n",
              "    60% {\n",
              "      border-color: transparent;\n",
              "      border-right-color: var(--fill-color);\n",
              "    }\n",
              "    80% {\n",
              "      border-color: transparent;\n",
              "      border-right-color: var(--fill-color);\n",
              "      border-bottom-color: var(--fill-color);\n",
              "    }\n",
              "    90% {\n",
              "      border-color: transparent;\n",
              "      border-bottom-color: var(--fill-color);\n",
              "    }\n",
              "  }\n",
              "</style>\n",
              "\n",
              "  <script>\n",
              "    async function quickchart(key) {\n",
              "      const quickchartButtonEl =\n",
              "        document.querySelector('#' + key + ' button');\n",
              "      quickchartButtonEl.disabled = true;  // To prevent multiple clicks.\n",
              "      quickchartButtonEl.classList.add('colab-df-spinner');\n",
              "      try {\n",
              "        const charts = await google.colab.kernel.invokeFunction(\n",
              "            'suggestCharts', [key], {});\n",
              "      } catch (error) {\n",
              "        console.error('Error during call to suggestCharts:', error);\n",
              "      }\n",
              "      quickchartButtonEl.classList.remove('colab-df-spinner');\n",
              "      quickchartButtonEl.classList.add('colab-df-quickchart-complete');\n",
              "    }\n",
              "    (() => {\n",
              "      let quickchartButtonEl =\n",
              "        document.querySelector('#df-e539c350-6e72-402c-a3bb-241ae8220d7e button');\n",
              "      quickchartButtonEl.style.display =\n",
              "        google.colab.kernel.accessAllowed ? 'block' : 'none';\n",
              "    })();\n",
              "  </script>\n",
              "</div>\n",
              "\n",
              "  <div id=\"id_f58c3d55-127d-4392-8cbd-4151b12e7fb3\">\n",
              "    <style>\n",
              "      .colab-df-generate {\n",
              "        background-color: #E8F0FE;\n",
              "        border: none;\n",
              "        border-radius: 50%;\n",
              "        cursor: pointer;\n",
              "        display: none;\n",
              "        fill: #1967D2;\n",
              "        height: 32px;\n",
              "        padding: 0 0 0 0;\n",
              "        width: 32px;\n",
              "      }\n",
              "\n",
              "      .colab-df-generate:hover {\n",
              "        background-color: #E2EBFA;\n",
              "        box-shadow: 0px 1px 2px rgba(60, 64, 67, 0.3), 0px 1px 3px 1px rgba(60, 64, 67, 0.15);\n",
              "        fill: #174EA6;\n",
              "      }\n",
              "\n",
              "      [theme=dark] .colab-df-generate {\n",
              "        background-color: #3B4455;\n",
              "        fill: #D2E3FC;\n",
              "      }\n",
              "\n",
              "      [theme=dark] .colab-df-generate:hover {\n",
              "        background-color: #434B5C;\n",
              "        box-shadow: 0px 1px 3px 1px rgba(0, 0, 0, 0.15);\n",
              "        filter: drop-shadow(0px 1px 2px rgba(0, 0, 0, 0.3));\n",
              "        fill: #FFFFFF;\n",
              "      }\n",
              "    </style>\n",
              "    <button class=\"colab-df-generate\" onclick=\"generateWithVariable('df5')\"\n",
              "            title=\"Generate code using this dataframe.\"\n",
              "            style=\"display:none;\">\n",
              "\n",
              "  <svg xmlns=\"http://www.w3.org/2000/svg\" height=\"24px\"viewBox=\"0 0 24 24\"\n",
              "       width=\"24px\">\n",
              "    <path d=\"M7,19H8.4L18.45,9,17,7.55,7,17.6ZM5,21V16.75L18.45,3.32a2,2,0,0,1,2.83,0l1.4,1.43a1.91,1.91,0,0,1,.58,1.4,1.91,1.91,0,0,1-.58,1.4L9.25,21ZM18.45,9,17,7.55Zm-12,3A5.31,5.31,0,0,0,4.9,8.1,5.31,5.31,0,0,0,1,6.5,5.31,5.31,0,0,0,4.9,4.9,5.31,5.31,0,0,0,6.5,1,5.31,5.31,0,0,0,8.1,4.9,5.31,5.31,0,0,0,12,6.5,5.46,5.46,0,0,0,6.5,12Z\"/>\n",
              "  </svg>\n",
              "    </button>\n",
              "    <script>\n",
              "      (() => {\n",
              "      const buttonEl =\n",
              "        document.querySelector('#id_f58c3d55-127d-4392-8cbd-4151b12e7fb3 button.colab-df-generate');\n",
              "      buttonEl.style.display =\n",
              "        google.colab.kernel.accessAllowed ? 'block' : 'none';\n",
              "\n",
              "      buttonEl.onclick = () => {\n",
              "        google.colab.notebook.generateWithVariable('df5');\n",
              "      }\n",
              "      })();\n",
              "    </script>\n",
              "  </div>\n",
              "\n",
              "    </div>\n",
              "  </div>\n"
            ],
            "application/vnd.google.colaboratory.intrinsic+json": {
              "type": "dataframe",
              "variable_name": "df5",
              "summary": "{\n  \"name\": \"df5\",\n  \"rows\": 13278,\n  \"fields\": [\n    {\n      \"column\": \"age\",\n      \"properties\": {\n        \"dtype\": \"number\",\n        \"std\": 0.31644726693766495,\n        \"min\": 0.0,\n        \"max\": 1.0,\n        \"num_unique_values\": 44,\n        \"samples\": [\n          0.4651162790697675,\n          0.6511627906976745,\n          0.4418604651162791\n        ],\n        \"semantic_type\": \"\",\n        \"description\": \"\"\n      }\n    },\n    {\n      \"column\": \"height_cm\",\n      \"properties\": {\n        \"dtype\": \"number\",\n        \"std\": 0.15479137497525775,\n        \"min\": 0.0,\n        \"max\": 1.0,\n        \"num_unique_values\": 464,\n        \"samples\": [\n          0.8379373848987108,\n          0.6850828729281764,\n          0.6279926335174952\n        ],\n        \"semantic_type\": \"\",\n        \"description\": \"\"\n      }\n    },\n    {\n      \"column\": \"weight_kg\",\n      \"properties\": {\n        \"dtype\": \"number\",\n        \"std\": 0.11630060869917234,\n        \"min\": 0.0,\n        \"max\": 1.0,\n        \"num_unique_values\": 1381,\n        \"samples\": [\n          0.5547945205479452,\n          0.25127201565557733,\n          0.3346379647749511\n        ],\n        \"semantic_type\": \"\",\n        \"description\": \"\"\n      }\n    },\n    {\n      \"column\": \"body fat_%\",\n      \"properties\": {\n        \"dtype\": \"number\",\n        \"std\": 0.1390856292461042,\n        \"min\": 0.0,\n        \"max\": 1.0,\n        \"num_unique_values\": 523,\n        \"samples\": [\n          0.3401015414258189,\n          0.08670520231213874,\n          0.5626204238921003\n        ],\n        \"semantic_type\": \"\",\n        \"description\": \"\"\n      }\n    },\n    {\n      \"column\": \"diastolic\",\n      \"properties\": {\n        \"dtype\": \"number\",\n        \"std\": 0.1370458131060004,\n        \"min\": 0.0,\n        \"max\": 1.0,\n        \"num_unique_values\": 74,\n        \"samples\": [\n          0.38961038961038963,\n          0.8961038961038962,\n          0.6623376623376623\n        ],\n        \"semantic_type\": \"\",\n        \"description\": \"\"\n      }\n    },\n    {\n      \"column\": \"systolic\",\n      \"properties\": {\n        \"dtype\": \"number\",\n        \"std\": 0.15535014334126118,\n        \"min\": 0.0,\n        \"max\": 1.0,\n        \"num_unique_values\": 85,\n        \"samples\": [\n          0.924731182795699,\n          0.4946236559139785,\n          0.11827956989247301\n        ],\n        \"semantic_type\": \"\",\n        \"description\": \"\"\n      }\n    },\n    {\n      \"column\": \"gripForce\",\n      \"properties\": {\n        \"dtype\": \"number\",\n        \"std\": 0.16904451394947992,\n        \"min\": 0.0,\n        \"max\": 0.9999999999999999,\n        \"num_unique_values\": 538,\n        \"samples\": [\n          0.8642172523961661,\n          0.6533546325878593,\n          0.376996805111821\n        ],\n        \"semantic_type\": \"\",\n        \"description\": \"\"\n      }\n    },\n    {\n      \"column\": \"sit and bend forward_cm\",\n      \"properties\": {\n        \"dtype\": \"number\",\n        \"std\": 0.12090914164469534,\n        \"min\": 0.0,\n        \"max\": 1.0,\n        \"num_unique_values\": 524,\n        \"samples\": [\n          0.32238805970149254,\n          0.2671641791044776,\n          0.3850746268656716\n        ],\n        \"semantic_type\": \"\",\n        \"description\": \"\"\n      }\n    },\n    {\n      \"column\": \"sit-ups counts\",\n      \"properties\": {\n        \"dtype\": \"number\",\n        \"std\": 0.17802601578357727,\n        \"min\": 0.0,\n        \"max\": 1.0,\n        \"num_unique_values\": 81,\n        \"samples\": [\n          0.7000000000000001,\n          0.75,\n          0.47500000000000003\n        ],\n        \"semantic_type\": \"\",\n        \"description\": \"\"\n      }\n    },\n    {\n      \"column\": \"broad jump_cm\",\n      \"properties\": {\n        \"dtype\": \"number\",\n        \"std\": 0.13079308176677643,\n        \"min\": 0.0,\n        \"max\": 1.0,\n        \"num_unique_values\": 243,\n        \"samples\": [\n          0.49834983498349833,\n          0.7722772277227723,\n          0.48514851485148514\n        ],\n        \"semantic_type\": \"\",\n        \"description\": \"\"\n      }\n    },\n    {\n      \"column\": \"class\",\n      \"properties\": {\n        \"dtype\": \"category\",\n        \"num_unique_values\": 4,\n        \"samples\": [\n          \"A\",\n          \"D\",\n          \"C\"\n        ],\n        \"semantic_type\": \"\",\n        \"description\": \"\"\n      }\n    },\n    {\n      \"column\": \"bmi\",\n      \"properties\": {\n        \"dtype\": \"number\",\n        \"std\": 0.10491652430626613,\n        \"min\": 0.0,\n        \"max\": 1.0,\n        \"num_unique_values\": 12296,\n        \"samples\": [\n          0.14743485959920644,\n          0.4819928513886884,\n          0.39916811489048654\n        ],\n        \"semantic_type\": \"\",\n        \"description\": \"\"\n      }\n    },\n    {\n      \"column\": \"map\",\n      \"properties\": {\n        \"dtype\": \"number\",\n        \"std\": 0.15225687625182424,\n        \"min\": 0.0,\n        \"max\": 1.0,\n        \"num_unique_values\": 192,\n        \"samples\": [\n          0.4372093023255814,\n          0.22325581395348837,\n          0.4651162790697676\n        ],\n        \"semantic_type\": \"\",\n        \"description\": \"\"\n      }\n    },\n    {\n      \"column\": \"gender_M\",\n      \"properties\": {\n        \"dtype\": \"number\",\n        \"std\": 0,\n        \"min\": 0,\n        \"max\": 1,\n        \"num_unique_values\": 2,\n        \"samples\": [\n          0,\n          1\n        ],\n        \"semantic_type\": \"\",\n        \"description\": \"\"\n      }\n    }\n  ]\n}"
            }
          },
          "metadata": {},
          "execution_count": 235
        }
      ],
      "source": [
        "from sklearn.preprocessing import MinMaxScaler\n",
        "# Columns to exclude from scaling\n",
        "exclude_cols = ['class', 'gender_M']\n",
        "\n",
        "# Identify columns to scale (all numeric columns except excluded ones)\n",
        "scale_cols = [col for col in df5.columns if col not in exclude_cols]\n",
        "\n",
        "# Initialize scaler\n",
        "scaler = MinMaxScaler()\n",
        "\n",
        "# Fit and transform only the selected columns\n",
        "df5[scale_cols] = scaler.fit_transform(df5[scale_cols])\n",
        "\n",
        "df5"
      ]
    },
    {
      "cell_type": "markdown",
      "metadata": {
        "id": "KAwGsIkuFxJC"
      },
      "source": [
        "# **Splitting to train and test**"
      ]
    },
    {
      "cell_type": "code",
      "execution_count": 236,
      "metadata": {
        "id": "O7OjiQ8tFrIc"
      },
      "outputs": [],
      "source": [
        "# Select the columns for X and y\n",
        "X = df5[['age', 'body fat_%', 'gripForce', 'sit and bend forward_cm',\n",
        "         'sit-ups counts', 'broad jump_cm', 'bmi', 'map', 'gender_M']]\n",
        "y = df5['class']\n",
        "\n",
        "# Split the data into training and testing sets\n",
        "X_train, X_test, y_train, y_test = train_test_split(X, y, test_size=0.2, random_state=42)"
      ]
    },
    {
      "cell_type": "markdown",
      "metadata": {
        "id": "JaiIrzyfYbZm"
      },
      "source": [
        "## Gradient Boost"
      ]
    },
    {
      "cell_type": "code",
      "execution_count": 237,
      "metadata": {
        "colab": {
          "base_uri": "https://localhost:8080/"
        },
        "id": "eqXDqaCBYfNY",
        "outputId": "509246e3-e10e-4e0a-ab5c-185224c70527"
      },
      "outputs": [
        {
          "output_type": "stream",
          "name": "stdout",
          "text": [
            "Gradient Boosting Performance on Training Set:\n",
            "Classification Report:\n",
            "              precision    recall  f1-score   support\n",
            "\n",
            "           A       0.72      0.90      0.80      2683\n",
            "           B       0.66      0.64      0.65      2653\n",
            "           C       0.79      0.70      0.74      2675\n",
            "           D       0.94      0.84      0.89      2611\n",
            "\n",
            "    accuracy                           0.77     10622\n",
            "   macro avg       0.78      0.77      0.77     10622\n",
            "weighted avg       0.78      0.77      0.77     10622\n",
            "\n",
            "Accuracy: 0.7693466390510262\n",
            "\n",
            "Gradient Boosting Performance on Test Set:\n",
            "Classification Report:\n",
            "              precision    recall  f1-score   support\n",
            "\n",
            "           A       0.69      0.89      0.77       639\n",
            "           B       0.60      0.56      0.58       673\n",
            "           C       0.70      0.67      0.68       659\n",
            "           D       0.92      0.78      0.84       685\n",
            "\n",
            "    accuracy                           0.72      2656\n",
            "   macro avg       0.73      0.72      0.72      2656\n",
            "weighted avg       0.73      0.72      0.72      2656\n",
            "\n",
            "Accuracy: 0.7202560240963856\n"
          ]
        }
      ],
      "source": [
        "from sklearn.ensemble import GradientBoostingClassifier\n",
        "from sklearn.metrics import classification_report, accuracy_score\n",
        "\n",
        "# Initialize GradientBoostingClassifier\n",
        "gb_clf = GradientBoostingClassifier(random_state=42)\n",
        "\n",
        "# Fit the model on the resampled training data\n",
        "gb_clf.fit(X_train, y_train)\n",
        "\n",
        "# Predict on the training set\n",
        "y_pred_train_gb = gb_clf.predict(X_train)\n",
        "# Predict on the test set\n",
        "y_pred_test_gb = gb_clf.predict(X_test)\n",
        "\n",
        "# Evaluate the model on the training set\n",
        "print(\"Gradient Boosting Performance on Training Set:\")\n",
        "print(\"Classification Report:\")\n",
        "print(classification_report(y_train, y_pred_train_gb))\n",
        "print(\"Accuracy:\", accuracy_score(y_train, y_pred_train_gb))\n",
        "\n",
        "# Evaluate the model on the test set\n",
        "print(\"\\nGradient Boosting Performance on Test Set:\")\n",
        "print(\"Classification Report:\")\n",
        "print(classification_report(y_test, y_pred_test_gb))\n",
        "print(\"Accuracy:\", accuracy_score(y_test, y_pred_test_gb))\n"
      ]
    },
    {
      "cell_type": "markdown",
      "metadata": {
        "id": "A2FHrEsoukg-"
      },
      "source": [
        "## Feature importance plot"
      ]
    },
    {
      "cell_type": "code",
      "execution_count": 238,
      "metadata": {
        "colab": {
          "base_uri": "https://localhost:8080/",
          "height": 564
        },
        "id": "KPFBXtgYomDw",
        "outputId": "b391ac80-3228-4831-a7a2-fe87023fca95"
      },
      "outputs": [
        {
          "output_type": "display_data",
          "data": {
            "text/plain": [
              "<Figure size 1200x600 with 1 Axes>"
            ],
            "image/png": "[encoded data removed]"
          },
          "metadata": {}
        }
      ],
      "source": [
        "import matplotlib.pyplot as plt\n",
        "\n",
        "# Assuming you've already trained your Gradient Boosting model\n",
        "gb_clf = GradientBoostingClassifier(random_state=42)\n",
        "gb_clf.fit(X_train, y_train)  # Fit on all training features\n",
        "\n",
        "# Get feature importances\n",
        "importances = gb_clf.feature_importances_\n",
        "\n",
        "# Create a DataFrame for visualization\n",
        "feature_importance_df = pd.DataFrame({\n",
        "    'Feature': X.columns,  # Use all features from the original dataset\n",
        "    'Importance': importances\n",
        "})\n",
        "\n",
        "# Sort the DataFrame by importance\n",
        "feature_importance_df = feature_importance_df.sort_values(by='Importance', ascending=False)\n",
        "\n",
        "# Plotting\n",
        "plt.figure(figsize=(12, 6))\n",
        "plt.barh(feature_importance_df['Feature'], feature_importance_df['Importance'], color='skyblue')\n",
        "plt.xlabel('Feature Importance')\n",
        "plt.title('Feature Importance from Gradient Boosting Classifier')\n",
        "plt.gca().invert_yaxis()  # Invert y-axis to show the most important features on top\n",
        "plt.show()\n"
      ]
    },
    {
      "cell_type": "markdown",
      "metadata": {
        "id": "In6Gbq3Bt6S1"
      },
      "source": [
        "## Finding most important combnation of features that gives most accurate results"
      ]
    },
    {
      "cell_type": "code",
      "execution_count": 239,
      "metadata": {
        "colab": {
          "base_uri": "https://localhost:8080/"
        },
        "id": "HrONKk0-rHKE",
        "outputId": "7bcb8d5c-cd3a-44bd-a5eb-ae6003f5905e"
      },
      "outputs": [
        {
          "output_type": "stream",
          "name": "stdout",
          "text": [
            "Number of features: 1, Features: ['sit and bend forward_cm'], Training Accuracy: 0.5039, Test Accuracy: 0.4785\n",
            "Number of features: 2, Features: ['sit and bend forward_cm', 'sit-ups counts'], Training Accuracy: 0.5975, Test Accuracy: 0.5821\n",
            "Number of features: 3, Features: ['sit and bend forward_cm', 'sit-ups counts', 'bmi'], Training Accuracy: 0.6341, Test Accuracy: 0.5990\n",
            "Number of features: 4, Features: ['sit and bend forward_cm', 'sit-ups counts', 'bmi', 'body fat_%'], Training Accuracy: 0.6527, Test Accuracy: 0.6156\n",
            "Number of features: 5, Features: ['sit and bend forward_cm', 'sit-ups counts', 'bmi', 'body fat_%', 'age'], Training Accuracy: 0.7315, Test Accuracy: 0.6965\n",
            "Number of features: 6, Features: ['sit and bend forward_cm', 'sit-ups counts', 'bmi', 'body fat_%', 'age', 'gender_M'], Training Accuracy: 0.7535, Test Accuracy: 0.7214\n",
            "Number of features: 7, Features: ['sit and bend forward_cm', 'sit-ups counts', 'bmi', 'body fat_%', 'age', 'gender_M', 'gripForce'], Training Accuracy: 0.7616, Test Accuracy: 0.7214\n",
            "Number of features: 8, Features: ['sit and bend forward_cm', 'sit-ups counts', 'bmi', 'body fat_%', 'age', 'gender_M', 'gripForce', 'broad jump_cm'], Training Accuracy: 0.7700, Test Accuracy: 0.7267\n",
            "Number of features: 9, Features: ['sit and bend forward_cm', 'sit-ups counts', 'bmi', 'body fat_%', 'age', 'gender_M', 'gripForce', 'broad jump_cm', 'map'], Training Accuracy: 0.7693, Test Accuracy: 0.7203\n",
            "   Num_Features                                           Features  \\\n",
            "0             1                          [sit and bend forward_cm]   \n",
            "1             2          [sit and bend forward_cm, sit-ups counts]   \n",
            "2             3     [sit and bend forward_cm, sit-ups counts, bmi]   \n",
            "3             4  [sit and bend forward_cm, sit-ups counts, bmi,...   \n",
            "4             5  [sit and bend forward_cm, sit-ups counts, bmi,...   \n",
            "5             6  [sit and bend forward_cm, sit-ups counts, bmi,...   \n",
            "6             7  [sit and bend forward_cm, sit-ups counts, bmi,...   \n",
            "7             8  [sit and bend forward_cm, sit-ups counts, bmi,...   \n",
            "8             9  [sit and bend forward_cm, sit-ups counts, bmi,...   \n",
            "\n",
            "   Train_Accuracy  Test_Accuracy  \n",
            "0        0.503860       0.478539  \n",
            "1        0.597533       0.582078  \n",
            "2        0.634061       0.599021  \n",
            "3        0.652702       0.615587  \n",
            "4        0.731501       0.696536  \n",
            "5        0.753530       0.721386  \n",
            "6        0.761627       0.721386  \n",
            "7        0.770006       0.726657  \n",
            "8        0.769347       0.720256  \n"
          ]
        }
      ],
      "source": [
        "import pandas as pd\n",
        "import numpy as np\n",
        "from sklearn.ensemble import GradientBoostingClassifier\n",
        "from sklearn.model_selection import train_test_split\n",
        "from sklearn.metrics import classification_report, accuracy_score\n",
        "\n",
        "# Assume you have your dataset loaded in X and y\n",
        "# Define the features in the order you want to add them\n",
        "features = [\n",
        "    'sit and bend forward_cm',\n",
        "    'sit-ups counts',\n",
        "    'bmi',\n",
        "    'body fat_%',\n",
        "    'age',\n",
        "    'gender_M',\n",
        "    'gripForce',\n",
        "    'broad jump_cm',\n",
        "    'map'\n",
        "]\n",
        "\n",
        "# Create an empty DataFrame to store results\n",
        "results = []\n",
        "\n",
        "# Loop through features, adding one at a time\n",
        "for i in range(1, len(features) + 1):\n",
        "    # Select the first i features\n",
        "    selected_features = features[:i]\n",
        "\n",
        "    # Train the model with the selected features\n",
        "    gb_clf = GradientBoostingClassifier(random_state=42)\n",
        "    gb_clf.fit(X_train[selected_features], y_train)\n",
        "\n",
        "    # Make predictions on the training set\n",
        "    y_pred_train = gb_clf.predict(X_train[selected_features])\n",
        "    # Make predictions on the test set\n",
        "    y_pred_test = gb_clf.predict(X_test[selected_features])\n",
        "\n",
        "    # Calculate accuracies\n",
        "    train_accuracy = accuracy_score(y_train, y_pred_train)\n",
        "    test_accuracy = accuracy_score(y_test, y_pred_test)\n",
        "\n",
        "    # Store the result\n",
        "    results.append((i, selected_features, train_accuracy, test_accuracy))\n",
        "    print(f'Number of features: {i}, Features: {selected_features}, '\n",
        "          f'Training Accuracy: {train_accuracy:.4f}, Test Accuracy: {test_accuracy:.4f}')\n",
        "\n",
        "# Optional: Convert results to a DataFrame for easier visualization\n",
        "results_df = pd.DataFrame(results, columns=['Num_Features', 'Features', 'Train_Accuracy', 'Test_Accuracy'])\n",
        "print(results_df)\n"
      ]
    },
    {
      "cell_type": "code",
      "source": [
        "import pandas as pd\n",
        "from sklearn.ensemble import GradientBoostingClassifier\n",
        "from sklearn.metrics import classification_report, accuracy_score\n",
        "\n",
        "# Define the features excluding \"map\"\n",
        "features = [\n",
        "    'sit and bend forward_cm',\n",
        "    'sit-ups counts',\n",
        "    'bmi',\n",
        "    'body fat_%',\n",
        "    'age',\n",
        "    'gender_M',\n",
        "    'gripForce',\n",
        "    'broad jump_cm'\n",
        "]\n",
        "\n",
        "# Train the model with the selected features\n",
        "gb_clf = GradientBoostingClassifier(random_state=42)\n",
        "gb_clf.fit(X_train[features], y_train)\n",
        "\n",
        "# Make predictions on the training and test sets\n",
        "y_pred_train_gb = gb_clf.predict(X_train[features])\n",
        "y_pred_test_gb = gb_clf.predict(X_test[features])\n",
        "\n",
        "# Evaluate the model on the training set\n",
        "print(\"Gradient Boosting Performance on Training Set:\")\n",
        "print(\"Classification Report:\")\n",
        "print(classification_report(y_train, y_pred_train_gb))\n",
        "print(\"Accuracy:\", accuracy_score(y_train, y_pred_train_gb))\n",
        "\n",
        "# Evaluate the model on the test set\n",
        "print(\"\\nGradient Boosting Performance on Test Set:\")\n",
        "print(\"Classification Report:\")\n",
        "print(classification_report(y_test, y_pred_test_gb))\n",
        "print(\"Accuracy:\", accuracy_score(y_test, y_pred_test_gb))\n"
      ],
      "metadata": {
        "colab": {
          "base_uri": "https://localhost:8080/"
        },
        "id": "NV0Hx_Llt4Ha",
        "outputId": "29b0f09f-e4ff-4601-9b20-0375bcac47b2"
      },
      "execution_count": 240,
      "outputs": [
        {
          "output_type": "stream",
          "name": "stdout",
          "text": [
            "Gradient Boosting Performance on Training Set:\n",
            "Classification Report:\n",
            "              precision    recall  f1-score   support\n",
            "\n",
            "           A       0.72      0.90      0.80      2683\n",
            "           B       0.66      0.64      0.65      2653\n",
            "           C       0.79      0.71      0.74      2675\n",
            "           D       0.94      0.84      0.89      2611\n",
            "\n",
            "    accuracy                           0.77     10622\n",
            "   macro avg       0.78      0.77      0.77     10622\n",
            "weighted avg       0.78      0.77      0.77     10622\n",
            "\n",
            "Accuracy: 0.7700056486537376\n",
            "\n",
            "Gradient Boosting Performance on Test Set:\n",
            "Classification Report:\n",
            "              precision    recall  f1-score   support\n",
            "\n",
            "           A       0.70      0.89      0.78       639\n",
            "           B       0.61      0.57      0.59       673\n",
            "           C       0.70      0.67      0.69       659\n",
            "           D       0.92      0.78      0.85       685\n",
            "\n",
            "    accuracy                           0.73      2656\n",
            "   macro avg       0.73      0.73      0.73      2656\n",
            "weighted avg       0.73      0.73      0.73      2656\n",
            "\n",
            "Accuracy: 0.7266566265060241\n"
          ]
        }
      ]
    },
    {
      "cell_type": "markdown",
      "source": [
        "## XGBoost\n",
        "\n"
      ],
      "metadata": {
        "id": "MwdaH7Sbt4zD"
      }
    },
    {
      "cell_type": "code",
      "source": [
        "from xgboost import XGBClassifier\n",
        "from sklearn.metrics import classification_report, accuracy_score\n",
        "from sklearn.preprocessing import LabelEncoder\n",
        "\n",
        "# Initialize LabelEncoder and transform the labels to numeric form\n",
        "label_encoder = LabelEncoder()\n",
        "y_train_encoded = label_encoder.fit_transform(y_train)\n",
        "y_test_encoded = label_encoder.transform(y_test)\n",
        "\n",
        "# Initialize XGBClassifier\n",
        "xgb_clf = XGBClassifier(random_state=42, use_label_encoder=False, eval_metric='logloss')\n",
        "\n",
        "# Fit the model on the training data with encoded labels\n",
        "xgb_clf.fit(X_train, y_train_encoded)\n",
        "\n",
        "# Predict on the training set\n",
        "y_pred_train_xgb = xgb_clf.predict(X_train)\n",
        "# Predict on the test set\n",
        "y_pred_test_xgb = xgb_clf.predict(X_test)\n",
        "\n",
        "# Decode predictions back to original labels for interpretation\n",
        "y_pred_train_xgb = label_encoder.inverse_transform(y_pred_train_xgb)\n",
        "y_pred_test_xgb = label_encoder.inverse_transform(y_pred_test_xgb)\n",
        "\n",
        "# Evaluate the model on the training set\n",
        "print(\"XGBoost Performance on Training Set:\")\n",
        "print(\"Classification Report:\")\n",
        "print(classification_report(y_train, y_pred_train_xgb))\n",
        "print(\"Accuracy:\", accuracy_score(y_train, y_pred_train_xgb))\n",
        "\n",
        "# Evaluate the model on the test set\n",
        "print(\"\\nXGBoost Performance on Test Set:\")\n",
        "print(\"Classification Report:\")\n",
        "print(classification_report(y_test, y_pred_test_xgb))\n",
        "print(\"Accuracy:\", accuracy_score(y_test, y_pred_test_xgb))\n"
      ],
      "metadata": {
        "colab": {
          "base_uri": "https://localhost:8080/"
        },
        "id": "hZKI71ZXxxVZ",
        "outputId": "9a9b5dae-1532-499b-ecd0-38a2f7d70bf5"
      },
      "execution_count": 241,
      "outputs": [
        {
          "output_type": "stream",
          "name": "stdout",
          "text": [
            "XGBoost Performance on Training Set:\n",
            "Classification Report:\n",
            "              precision    recall  f1-score   support\n",
            "\n",
            "           A       0.90      0.99      0.94      2683\n",
            "           B       0.93      0.91      0.92      2653\n",
            "           C       0.97      0.92      0.94      2675\n",
            "           D       1.00      0.96      0.98      2611\n",
            "\n",
            "    accuracy                           0.95     10622\n",
            "   macro avg       0.95      0.95      0.95     10622\n",
            "weighted avg       0.95      0.95      0.95     10622\n",
            "\n",
            "Accuracy: 0.9462436452645453\n",
            "\n",
            "XGBoost Performance on Test Set:\n",
            "Classification Report:\n",
            "              precision    recall  f1-score   support\n",
            "\n",
            "           A       0.73      0.89      0.80       639\n",
            "           B       0.65      0.65      0.65       673\n",
            "           C       0.73      0.69      0.71       659\n",
            "           D       0.94      0.81      0.87       685\n",
            "\n",
            "    accuracy                           0.76      2656\n",
            "   macro avg       0.76      0.76      0.76      2656\n",
            "weighted avg       0.76      0.76      0.76      2656\n",
            "\n",
            "Accuracy: 0.7575301204819277\n"
          ]
        }
      ]
    },
    {
      "cell_type": "code",
      "source": [
        "import matplotlib.pyplot as plt\n",
        "from xgboost import plot_importance\n",
        "\n",
        "# Plot feature importance\n",
        "plt.figure(figsize=(10, 6))\n",
        "plot_importance(xgb_clf, max_num_features=10, importance_type='gain')  # 'gain' is often the most informative\n",
        "plt.title(\"Feature Importance\")\n",
        "plt.show()\n"
      ],
      "metadata": {
        "colab": {
          "base_uri": "https://localhost:8080/",
          "height": 489
        },
        "id": "bhkEtPRWyATQ",
        "outputId": "1c74c75e-29a3-4676-82bd-29c262fe59b1"
      },
      "execution_count": 242,
      "outputs": [
        {
          "output_type": "display_data",
          "data": {
            "text/plain": [
              "<Figure size 1000x600 with 0 Axes>"
            ]
          },
          "metadata": {}
        },
        {
          "output_type": "display_data",
          "data": {
            "text/plain": [
              "<Figure size 640x480 with 1 Axes>"
            ],
            "image/png": "[encoded data removed]"
          },
          "metadata": {}
        }
      ]
    },
    {
      "cell_type": "code",
      "source": [
        "import pandas as pd\n",
        "import numpy as np\n",
        "from xgboost import XGBClassifier\n",
        "from sklearn.metrics import classification_report, accuracy_score\n",
        "from sklearn.preprocessing import LabelEncoder\n",
        "\n",
        "# Encode the target labels\n",
        "label_encoder = LabelEncoder()\n",
        "y_train_encoded = label_encoder.fit_transform(y_train)\n",
        "y_test_encoded = label_encoder.transform(y_test)\n",
        "\n",
        "# Define the features excluding 'map'\n",
        "features = [\n",
        "    'sit and bend forward_cm',\n",
        "    'sit-ups counts',\n",
        "    'bmi',\n",
        "    'body fat_%',\n",
        "    'age',\n",
        "    'gender_M',\n",
        "    'gripForce',\n",
        "    'broad jump_cm'\n",
        "]\n",
        "\n",
        "# Create an empty list to store results\n",
        "results = []\n",
        "\n",
        "# Loop through features, adding one at a time\n",
        "for i in range(1, len(features) + 1):\n",
        "    # Select the first i features\n",
        "    selected_features = features[:i]\n",
        "\n",
        "    # Initialize and train the XGBoost model with selected features\n",
        "    xgb_clf = XGBClassifier(random_state=42, use_label_encoder=False, eval_metric='logloss')\n",
        "    xgb_clf.fit(X_train[selected_features], y_train_encoded)\n",
        "\n",
        "    # Make predictions on the training set\n",
        "    y_pred_train = xgb_clf.predict(X_train[selected_features])\n",
        "    # Make predictions on the test set\n",
        "    y_pred_test = xgb_clf.predict(X_test[selected_features])\n",
        "\n",
        "    # Calculate accuracies\n",
        "    train_accuracy = accuracy_score(y_train_encoded, y_pred_train)\n",
        "    test_accuracy = accuracy_score(y_test_encoded, y_pred_test)\n",
        "\n",
        "    # Store the results\n",
        "    results.append((i, selected_features, train_accuracy, test_accuracy))\n",
        "    print(f'Number of features: {i}, Features: {selected_features}, '\n",
        "          f'Training Accuracy: {train_accuracy:.4f}, Test Accuracy: {test_accuracy:.4f}')\n",
        "\n",
        "# Optional: Convert results to a DataFrame for easier visualization\n",
        "results_df = pd.DataFrame(results, columns=['Num_Features', 'Features', 'Train_Accuracy', 'Test_Accuracy'])\n",
        "print(results_df)\n"
      ],
      "metadata": {
        "colab": {
          "base_uri": "https://localhost:8080/"
        },
        "id": "XiX85qqoysIv",
        "outputId": "17d7de58-2c6a-498b-f7e3-296731647440"
      },
      "execution_count": 243,
      "outputs": [
        {
          "output_type": "stream",
          "name": "stdout",
          "text": [
            "Number of features: 1, Features: ['sit and bend forward_cm'], Training Accuracy: 0.5056, Test Accuracy: 0.4789\n",
            "Number of features: 2, Features: ['sit and bend forward_cm', 'sit-ups counts'], Training Accuracy: 0.6669, Test Accuracy: 0.5580\n",
            "Number of features: 3, Features: ['sit and bend forward_cm', 'sit-ups counts', 'bmi'], Training Accuracy: 0.7668, Test Accuracy: 0.5881\n",
            "Number of features: 4, Features: ['sit and bend forward_cm', 'sit-ups counts', 'bmi', 'body fat_%'], Training Accuracy: 0.8327, Test Accuracy: 0.5975\n",
            "Number of features: 5, Features: ['sit and bend forward_cm', 'sit-ups counts', 'bmi', 'body fat_%', 'age'], Training Accuracy: 0.8931, Test Accuracy: 0.7172\n",
            "Number of features: 6, Features: ['sit and bend forward_cm', 'sit-ups counts', 'bmi', 'body fat_%', 'age', 'gender_M'], Training Accuracy: 0.9030, Test Accuracy: 0.7402\n",
            "Number of features: 7, Features: ['sit and bend forward_cm', 'sit-ups counts', 'bmi', 'body fat_%', 'age', 'gender_M', 'gripForce'], Training Accuracy: 0.9324, Test Accuracy: 0.7470\n",
            "Number of features: 8, Features: ['sit and bend forward_cm', 'sit-ups counts', 'bmi', 'body fat_%', 'age', 'gender_M', 'gripForce', 'broad jump_cm'], Training Accuracy: 0.9397, Test Accuracy: 0.7605\n",
            "   Num_Features                                           Features  \\\n",
            "0             1                          [sit and bend forward_cm]   \n",
            "1             2          [sit and bend forward_cm, sit-ups counts]   \n",
            "2             3     [sit and bend forward_cm, sit-ups counts, bmi]   \n",
            "3             4  [sit and bend forward_cm, sit-ups counts, bmi,...   \n",
            "4             5  [sit and bend forward_cm, sit-ups counts, bmi,...   \n",
            "5             6  [sit and bend forward_cm, sit-ups counts, bmi,...   \n",
            "6             7  [sit and bend forward_cm, sit-ups counts, bmi,...   \n",
            "7             8  [sit and bend forward_cm, sit-ups counts, bmi,...   \n",
            "\n",
            "   Train_Accuracy  Test_Accuracy  \n",
            "0        0.505649       0.478916  \n",
            "1        0.666918       0.557982  \n",
            "2        0.766805       0.588102  \n",
            "3        0.832706       0.597515  \n",
            "4        0.893146       0.717244  \n",
            "5        0.903031       0.740211  \n",
            "6        0.932404       0.746988  \n",
            "7        0.939748       0.760542  \n"
          ]
        }
      ]
    }
  ],
  "metadata": {
    "colab": {
      "provenance": []
    },
    "kernelspec": {
      "display_name": "Python 3",
      "name": "python3"
    },
    "language_info": {
      "name": "python"
    }
  },
  "nbformat": 4,
  "nbformat_minor": 0
}